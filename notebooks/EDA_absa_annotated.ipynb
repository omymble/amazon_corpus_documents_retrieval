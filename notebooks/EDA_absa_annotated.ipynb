{
 "cells": [
  {
   "cell_type": "code",
   "outputs": [],
   "source": [
    "import pandas as pd\n",
    "import numpy as np"
   ],
   "metadata": {
    "collapsed": false,
    "ExecuteTime": {
     "end_time": "2024-07-07T21:20:39.783199Z",
     "start_time": "2024-07-07T21:20:39.779584Z"
    }
   },
   "id": "ec96fda506411cab",
   "execution_count": 23
  },
  {
   "cell_type": "code",
   "execution_count": 24,
   "id": "initial_id",
   "metadata": {
    "collapsed": true,
    "ExecuteTime": {
     "end_time": "2024-07-07T21:20:40.411077Z",
     "start_time": "2024-07-07T21:20:40.408739Z"
    }
   },
   "outputs": [],
   "source": [
    "from config.config import *"
   ]
  },
  {
   "cell_type": "code",
   "outputs": [],
   "source": [
    "absa_annotated = pd.read_pickle(os.path.join(OBTAINED_DATA, 'absa_aspects_categories_polarities.pkl'))"
   ],
   "metadata": {
    "collapsed": false,
    "ExecuteTime": {
     "end_time": "2024-07-07T21:20:41.004030Z",
     "start_time": "2024-07-07T21:20:40.998697Z"
    }
   },
   "id": "d642e80430089a66",
   "execution_count": 25
  },
  {
   "cell_type": "code",
   "outputs": [
    {
     "data": {
      "text/plain": "                                                text  \\\n0  The solution given here is fantastic and a bit...   \n1  Ahh I wish I had never gotten this stupid key,...   \n2  I loved this book so much I couldn't stop read...   \n3  This book is very informative, describing in d...   \n4  I recommend that anyone looking to have some m...   \n\n                                             targets  \\\n0                                             [book]   \n1  [Arthur, Mister Monday, Arthur, Mister Monday,...   \n2                                      [book, twins]   \n3                         [book, beadwork, loomwork]   \n4  [the Budapest, $5, The Budapest, Boryk, book, ...   \n\n                                          categories  \\\n0                                     [BOOK#GENERAL]   \n1  [CONTENT#CHARACTERS, BOOK#TITLE, CONTENT#CHARA...   \n2                       [BOOK#GENERAL, CONTENT#PLOT]   \n3         [BOOK#GENERAL, CONTENT#PLOT, CONTENT#PLOT]   \n4  [BOOK#TITLE, BOOK#PRICE, BOOK#TITLE, BOOK#AUTH...   \n\n                                          polarities  \n0                                         [positive]  \n1  [neutral, neutral, neutral, negative, neutral,...  \n2                               [positive, positive]  \n3                       [positive, neutral, neutral]  \n4  [neutral, positive, neutral, neutral, positive...  ",
      "text/html": "<div>\n<style scoped>\n    .dataframe tbody tr th:only-of-type {\n        vertical-align: middle;\n    }\n\n    .dataframe tbody tr th {\n        vertical-align: top;\n    }\n\n    .dataframe thead th {\n        text-align: right;\n    }\n</style>\n<table border=\"1\" class=\"dataframe\">\n  <thead>\n    <tr style=\"text-align: right;\">\n      <th></th>\n      <th>text</th>\n      <th>targets</th>\n      <th>categories</th>\n      <th>polarities</th>\n    </tr>\n  </thead>\n  <tbody>\n    <tr>\n      <th>0</th>\n      <td>The solution given here is fantastic and a bit...</td>\n      <td>[book]</td>\n      <td>[BOOK#GENERAL]</td>\n      <td>[positive]</td>\n    </tr>\n    <tr>\n      <th>1</th>\n      <td>Ahh I wish I had never gotten this stupid key,...</td>\n      <td>[Arthur, Mister Monday, Arthur, Mister Monday,...</td>\n      <td>[CONTENT#CHARACTERS, BOOK#TITLE, CONTENT#CHARA...</td>\n      <td>[neutral, neutral, neutral, negative, neutral,...</td>\n    </tr>\n    <tr>\n      <th>2</th>\n      <td>I loved this book so much I couldn't stop read...</td>\n      <td>[book, twins]</td>\n      <td>[BOOK#GENERAL, CONTENT#PLOT]</td>\n      <td>[positive, positive]</td>\n    </tr>\n    <tr>\n      <th>3</th>\n      <td>This book is very informative, describing in d...</td>\n      <td>[book, beadwork, loomwork]</td>\n      <td>[BOOK#GENERAL, CONTENT#PLOT, CONTENT#PLOT]</td>\n      <td>[positive, neutral, neutral]</td>\n    </tr>\n    <tr>\n      <th>4</th>\n      <td>I recommend that anyone looking to have some m...</td>\n      <td>[the Budapest, $5, The Budapest, Boryk, book, ...</td>\n      <td>[BOOK#TITLE, BOOK#PRICE, BOOK#TITLE, BOOK#AUTH...</td>\n      <td>[neutral, positive, neutral, neutral, positive...</td>\n    </tr>\n  </tbody>\n</table>\n</div>"
     },
     "execution_count": 26,
     "metadata": {},
     "output_type": "execute_result"
    }
   ],
   "source": [
    "absa_annotated.head()"
   ],
   "metadata": {
    "collapsed": false,
    "ExecuteTime": {
     "end_time": "2024-07-07T21:20:41.671176Z",
     "start_time": "2024-07-07T21:20:41.662570Z"
    }
   },
   "id": "c6df24a81032b3e1",
   "execution_count": 26
  },
  {
   "cell_type": "code",
   "outputs": [
    {
     "name": "stdout",
     "output_type": "stream",
     "text": [
      "<class 'pandas.core.frame.DataFrame'>\n",
      "RangeIndex: 295 entries, 0 to 294\n",
      "Data columns (total 4 columns):\n",
      " #   Column      Non-Null Count  Dtype \n",
      "---  ------      --------------  ----- \n",
      " 0   text        295 non-null    object\n",
      " 1   targets     295 non-null    object\n",
      " 2   categories  295 non-null    object\n",
      " 3   polarities  295 non-null    object\n",
      "dtypes: object(4)\n",
      "memory usage: 9.3+ KB\n"
     ]
    }
   ],
   "source": [
    "absa_annotated.info()"
   ],
   "metadata": {
    "collapsed": false,
    "ExecuteTime": {
     "end_time": "2024-07-07T21:20:42.569217Z",
     "start_time": "2024-07-07T21:20:42.560513Z"
    }
   },
   "id": "4d7e959540f9d2b5",
   "execution_count": 27
  },
  {
   "cell_type": "code",
   "outputs": [
    {
     "data": {
      "text/plain": "                                                  text  \\\n0    The solution given here is fantastic and a bit...   \n1    Ahh I wish I had never gotten this stupid key,...   \n2    I loved this book so much I couldn't stop read...   \n3    This book is very informative, describing in d...   \n4    I recommend that anyone looking to have some m...   \n..                                                 ...   \n290  I have read and used this book many, many time...   \n291  Full of atmosphere, world war II feel to it He...   \n292  I didn't like it AS much as some of the other ...   \n293  Can Arthur save the world with the key as a yo...   \n294  Best of the Best From the award-winning author...   \n\n                                               targets  \\\n0                                               [book]   \n1    [Arthur, Mister Monday, Arthur, Mister Monday,...   \n2                                        [book, twins]   \n3                           [book, beadwork, loomwork]   \n4    [the Budapest, $5, The Budapest, Boryk, book, ...   \n..                                                 ...   \n290  [book, book, children, Native American beadwor...   \n291  [world war II, Churchill, novel, historical te...   \n292  [Marshall, read, protagonist, \"happy\" person, ...   \n293  [Arthur, Arthur, key, asthma problems, asthma ...   \n294       [author, suicide, cancer, fortuitous events]   \n\n                                            categories  \\\n0                                       [BOOK#GENERAL]   \n1    [CONTENT#CHARACTERS, BOOK#TITLE, CONTENT#CHARA...   \n2                         [BOOK#GENERAL, CONTENT#PLOT]   \n3           [BOOK#GENERAL, CONTENT#PLOT, CONTENT#PLOT]   \n4    [BOOK#TITLE, BOOK#PRICE, BOOK#TITLE, BOOK#AUTH...   \n..                                                 ...   \n290  [BOOK#GENERAL, BOOK#GENERAL, BOOK#AUDIENCE, CO...   \n291  [CONTENT#PLOT, CONTENT#CHARACTERS, CONTENT#GEN...   \n292  [BOOK#AUTHOR, BOOK#GENERAL, CONTENT#CHARACTERS...   \n293  [CONTENT#CHARACTERS, CONTENT#CHARACTERS, CONTE...   \n294  [BOOK#AUTHOR, CONTENT#PLOT, CONTENT#PLOT, CONT...   \n\n                                            polarities  \n0                                           [positive]  \n1    [neutral, neutral, neutral, negative, neutral,...  \n2                                 [positive, positive]  \n3                         [positive, neutral, neutral]  \n4    [neutral, positive, neutral, neutral, positive...  \n..                                                 ...  \n290            [positive, positive, positive, neutral]  \n291            [positive, positive, neutral, negative]  \n292  [neutral, positive, negative, negative, neutra...  \n293  [neutral, neutral, neutral, neutral, neutral, ...  \n294              [positive, neutral, neutral, neutral]  \n\n[295 rows x 4 columns]",
      "text/html": "<div>\n<style scoped>\n    .dataframe tbody tr th:only-of-type {\n        vertical-align: middle;\n    }\n\n    .dataframe tbody tr th {\n        vertical-align: top;\n    }\n\n    .dataframe thead th {\n        text-align: right;\n    }\n</style>\n<table border=\"1\" class=\"dataframe\">\n  <thead>\n    <tr style=\"text-align: right;\">\n      <th></th>\n      <th>text</th>\n      <th>targets</th>\n      <th>categories</th>\n      <th>polarities</th>\n    </tr>\n  </thead>\n  <tbody>\n    <tr>\n      <th>0</th>\n      <td>The solution given here is fantastic and a bit...</td>\n      <td>[book]</td>\n      <td>[BOOK#GENERAL]</td>\n      <td>[positive]</td>\n    </tr>\n    <tr>\n      <th>1</th>\n      <td>Ahh I wish I had never gotten this stupid key,...</td>\n      <td>[Arthur, Mister Monday, Arthur, Mister Monday,...</td>\n      <td>[CONTENT#CHARACTERS, BOOK#TITLE, CONTENT#CHARA...</td>\n      <td>[neutral, neutral, neutral, negative, neutral,...</td>\n    </tr>\n    <tr>\n      <th>2</th>\n      <td>I loved this book so much I couldn't stop read...</td>\n      <td>[book, twins]</td>\n      <td>[BOOK#GENERAL, CONTENT#PLOT]</td>\n      <td>[positive, positive]</td>\n    </tr>\n    <tr>\n      <th>3</th>\n      <td>This book is very informative, describing in d...</td>\n      <td>[book, beadwork, loomwork]</td>\n      <td>[BOOK#GENERAL, CONTENT#PLOT, CONTENT#PLOT]</td>\n      <td>[positive, neutral, neutral]</td>\n    </tr>\n    <tr>\n      <th>4</th>\n      <td>I recommend that anyone looking to have some m...</td>\n      <td>[the Budapest, $5, The Budapest, Boryk, book, ...</td>\n      <td>[BOOK#TITLE, BOOK#PRICE, BOOK#TITLE, BOOK#AUTH...</td>\n      <td>[neutral, positive, neutral, neutral, positive...</td>\n    </tr>\n    <tr>\n      <th>...</th>\n      <td>...</td>\n      <td>...</td>\n      <td>...</td>\n      <td>...</td>\n    </tr>\n    <tr>\n      <th>290</th>\n      <td>I have read and used this book many, many time...</td>\n      <td>[book, book, children, Native American beadwor...</td>\n      <td>[BOOK#GENERAL, BOOK#GENERAL, BOOK#AUDIENCE, CO...</td>\n      <td>[positive, positive, positive, neutral]</td>\n    </tr>\n    <tr>\n      <th>291</th>\n      <td>Full of atmosphere, world war II feel to it He...</td>\n      <td>[world war II, Churchill, novel, historical te...</td>\n      <td>[CONTENT#PLOT, CONTENT#CHARACTERS, CONTENT#GEN...</td>\n      <td>[positive, positive, neutral, negative]</td>\n    </tr>\n    <tr>\n      <th>292</th>\n      <td>I didn't like it AS much as some of the other ...</td>\n      <td>[Marshall, read, protagonist, \"happy\" person, ...</td>\n      <td>[BOOK#AUTHOR, BOOK#GENERAL, CONTENT#CHARACTERS...</td>\n      <td>[neutral, positive, negative, negative, neutra...</td>\n    </tr>\n    <tr>\n      <th>293</th>\n      <td>Can Arthur save the world with the key as a yo...</td>\n      <td>[Arthur, Arthur, key, asthma problems, asthma ...</td>\n      <td>[CONTENT#CHARACTERS, CONTENT#CHARACTERS, CONTE...</td>\n      <td>[neutral, neutral, neutral, neutral, neutral, ...</td>\n    </tr>\n    <tr>\n      <th>294</th>\n      <td>Best of the Best From the award-winning author...</td>\n      <td>[author, suicide, cancer, fortuitous events]</td>\n      <td>[BOOK#AUTHOR, CONTENT#PLOT, CONTENT#PLOT, CONT...</td>\n      <td>[positive, neutral, neutral, neutral]</td>\n    </tr>\n  </tbody>\n</table>\n<p>295 rows × 4 columns</p>\n</div>"
     },
     "execution_count": 28,
     "metadata": {},
     "output_type": "execute_result"
    }
   ],
   "source": [
    "absa_annotated"
   ],
   "metadata": {
    "collapsed": false,
    "ExecuteTime": {
     "end_time": "2024-07-07T21:20:44.077083Z",
     "start_time": "2024-07-07T21:20:44.061888Z"
    }
   },
   "id": "c886dadfeb0216e5",
   "execution_count": 28
  },
  {
   "cell_type": "code",
   "outputs": [
    {
     "data": {
      "text/plain": "                                                text  \\\n5  The fourth psychological thriller from Michael...   \n6  \"As complete a dossier on the life and times o...   \n\n                                             targets  \\\n5  [psychological thriller, Michael Marshall Smit...   \n6  [Capone, biography, gangster, Al Capone, Valen...   \n\n                                          categories  \\\n5  [CONTENT#GENRE, BOOK#AUTHOR, CONTENT#GENRE, BO...   \n6  [CONTENT#PLOT, CONTENT#GENRE, CONTENT#PLOT, CO...   \n\n                                          polarities  \n5  [positive, neutral, neutral, positive, positiv...  \n6  [neutral, neutral, neutral, positive, negative...  ",
      "text/html": "<div>\n<style scoped>\n    .dataframe tbody tr th:only-of-type {\n        vertical-align: middle;\n    }\n\n    .dataframe tbody tr th {\n        vertical-align: top;\n    }\n\n    .dataframe thead th {\n        text-align: right;\n    }\n</style>\n<table border=\"1\" class=\"dataframe\">\n  <thead>\n    <tr style=\"text-align: right;\">\n      <th></th>\n      <th>text</th>\n      <th>targets</th>\n      <th>categories</th>\n      <th>polarities</th>\n    </tr>\n  </thead>\n  <tbody>\n    <tr>\n      <th>5</th>\n      <td>The fourth psychological thriller from Michael...</td>\n      <td>[psychological thriller, Michael Marshall Smit...</td>\n      <td>[CONTENT#GENRE, BOOK#AUTHOR, CONTENT#GENRE, BO...</td>\n      <td>[positive, neutral, neutral, positive, positiv...</td>\n    </tr>\n    <tr>\n      <th>6</th>\n      <td>\"As complete a dossier on the life and times o...</td>\n      <td>[Capone, biography, gangster, Al Capone, Valen...</td>\n      <td>[CONTENT#PLOT, CONTENT#GENRE, CONTENT#PLOT, CO...</td>\n      <td>[neutral, neutral, neutral, positive, negative...</td>\n    </tr>\n  </tbody>\n</table>\n</div>"
     },
     "execution_count": 16,
     "metadata": {},
     "output_type": "execute_result"
    }
   ],
   "source": [
    "absa_annotated.iloc[5:7,:] "
   ],
   "metadata": {
    "collapsed": false,
    "ExecuteTime": {
     "end_time": "2024-07-07T21:01:27.300289Z",
     "start_time": "2024-07-07T21:01:27.294208Z"
    }
   },
   "id": "953bfcc56af4123a",
   "execution_count": 16
  },
  {
   "cell_type": "code",
   "outputs": [],
   "source": [],
   "metadata": {
    "collapsed": false
   },
   "id": "1228dcea9c0050f8"
  }
 ],
 "metadata": {
  "kernelspec": {
   "display_name": "Python 3",
   "language": "python",
   "name": "python3"
  },
  "language_info": {
   "codemirror_mode": {
    "name": "ipython",
    "version": 2
   },
   "file_extension": ".py",
   "mimetype": "text/x-python",
   "name": "python",
   "nbconvert_exporter": "python",
   "pygments_lexer": "ipython2",
   "version": "2.7.6"
  }
 },
 "nbformat": 4,
 "nbformat_minor": 5
}
