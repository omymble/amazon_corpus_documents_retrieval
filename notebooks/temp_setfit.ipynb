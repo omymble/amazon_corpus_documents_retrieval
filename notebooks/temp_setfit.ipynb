{
 "cells": [
  {
   "cell_type": "code",
   "id": "initial_id",
   "metadata": {
    "collapsed": true,
    "ExecuteTime": {
     "end_time": "2024-09-16T20:07:15.079500Z",
     "start_time": "2024-09-16T20:07:12.704371Z"
    }
   },
   "source": [
    "import pandas as pd\n",
    "from setfit import AbsaModel, AbsaTrainer, TrainingArguments\n",
    "\n",
    "from sklearn.model_selection import train_test_split\n",
    "from datasets import Dataset, DatasetDict, load_dataset\n",
    "from transformers import EarlyStoppingCallback, TrainerCallback\n",
    "\n",
    "from sklearn.metrics import f1_score, accuracy_score, precision_score, recall_score, classification_report\n",
    "from sklearn.utils import resample\n",
    "\n",
    "from config.config import *\n",
    "# from config.wandb import *"
   ],
   "outputs": [
    {
     "name": "stderr",
     "output_type": "stream",
     "text": [
      "/Users/arina/GitProjects/amazon_corpus_documents_retrieval/.venv/lib/python3.9/site-packages/urllib3/__init__.py:35: NotOpenSSLWarning: urllib3 v2 only supports OpenSSL 1.1.1+, currently the 'ssl' module is compiled with 'LibreSSL 2.8.3'. See: https://github.com/urllib3/urllib3/issues/3020\n",
      "  warnings.warn(\n"
     ]
    }
   ],
   "execution_count": 1
  },
  {
   "metadata": {
    "ExecuteTime": {
     "end_time": "2024-08-19T19:24:23.308455Z",
     "start_time": "2024-08-19T19:24:08.584449Z"
    }
   },
   "cell_type": "code",
   "source": [
    "model = AbsaModel.from_pretrained(\n",
    "    \"asadnaqvi/setfitabsa-aspect\",\n",
    "    \"tomaarsen/setfit-absa-bge-small-en-v1.5-restaurants-polarity\",\n",
    ")\n",
    "# Download from the 🤗 Hub\n",
    "# model = AbsaModel.from_pretrained(\n",
    "#     \"omymble/setfit-absa-books-aspect\",\n",
    "#     \"omymble/setfit-absa-books-polarity\",\n",
    "# )"
   ],
   "id": "c2b2334b69265306",
   "outputs": [
    {
     "name": "stderr",
     "output_type": "stream",
     "text": [
      "/Users/arina/GitProjects/amazon_corpus_documents_retrieval/.venv/lib/python3.9/site-packages/huggingface_hub/file_download.py:1132: FutureWarning: `resume_download` is deprecated and will be removed in version 1.0.0. Downloads always resume when possible. If you want to force a new download, use `force_download=True`.\n",
      "  warnings.warn(\n",
      "/Users/arina/GitProjects/amazon_corpus_documents_retrieval/.venv/lib/python3.9/site-packages/sklearn/base.py:376: InconsistentVersionWarning: Trying to unpickle estimator LogisticRegression from version 1.2.2 when using version 1.5.1. This might lead to breaking code or invalid results. Use at your own risk. For more info please refer to:\n",
      "https://scikit-learn.org/stable/model_persistence.html#security-maintainability-limitations\n",
      "  warnings.warn(\n"
     ]
    },
    {
     "data": {
      "text/plain": [
       "config.json:   0%|          | 0.00/702 [00:00<?, ?B/s]"
      ],
      "application/vnd.jupyter.widget-view+json": {
       "version_major": 2,
       "version_minor": 0,
       "model_id": "6f3d61ebfe6f4f21a852b2161f608b9b"
      }
     },
     "metadata": {},
     "output_type": "display_data"
    },
    {
     "data": {
      "text/plain": [
       "modules.json:   0%|          | 0.00/349 [00:00<?, ?B/s]"
      ],
      "application/vnd.jupyter.widget-view+json": {
       "version_major": 2,
       "version_minor": 0,
       "model_id": "78ab9d7fe003409eab9c6520670cf4aa"
      }
     },
     "metadata": {},
     "output_type": "display_data"
    },
    {
     "data": {
      "text/plain": [
       "config_sentence_transformers.json:   0%|          | 0.00/124 [00:00<?, ?B/s]"
      ],
      "application/vnd.jupyter.widget-view+json": {
       "version_major": 2,
       "version_minor": 0,
       "model_id": "ee0a69203a2b4ed7b334a953ca7cf92f"
      }
     },
     "metadata": {},
     "output_type": "display_data"
    },
    {
     "data": {
      "text/plain": [
       "README.md:   0%|          | 0.00/12.5k [00:00<?, ?B/s]"
      ],
      "application/vnd.jupyter.widget-view+json": {
       "version_major": 2,
       "version_minor": 0,
       "model_id": "bc4964866b324ff7a2d05377fd35530c"
      }
     },
     "metadata": {},
     "output_type": "display_data"
    },
    {
     "data": {
      "text/plain": [
       "sentence_bert_config.json:   0%|          | 0.00/52.0 [00:00<?, ?B/s]"
      ],
      "application/vnd.jupyter.widget-view+json": {
       "version_major": 2,
       "version_minor": 0,
       "model_id": "11da084df38a4be6ade5da4b7fbc43c6"
      }
     },
     "metadata": {},
     "output_type": "display_data"
    },
    {
     "data": {
      "text/plain": [
       "pytorch_model.bin:   0%|          | 0.00/134M [00:00<?, ?B/s]"
      ],
      "application/vnd.jupyter.widget-view+json": {
       "version_major": 2,
       "version_minor": 0,
       "model_id": "e06d1e1923fc4d81a1182c2735223364"
      }
     },
     "metadata": {},
     "output_type": "display_data"
    },
    {
     "data": {
      "text/plain": [
       "tokenizer_config.json:   0%|          | 0.00/366 [00:00<?, ?B/s]"
      ],
      "application/vnd.jupyter.widget-view+json": {
       "version_major": 2,
       "version_minor": 0,
       "model_id": "ed006f990f2a4d1fbf8c259bb7dd69a1"
      }
     },
     "metadata": {},
     "output_type": "display_data"
    },
    {
     "data": {
      "text/plain": [
       "vocab.txt:   0%|          | 0.00/232k [00:00<?, ?B/s]"
      ],
      "application/vnd.jupyter.widget-view+json": {
       "version_major": 2,
       "version_minor": 0,
       "model_id": "9a5a8caa6e8945dc8f559d96c3220150"
      }
     },
     "metadata": {},
     "output_type": "display_data"
    },
    {
     "data": {
      "text/plain": [
       "tokenizer.json:   0%|          | 0.00/712k [00:00<?, ?B/s]"
      ],
      "application/vnd.jupyter.widget-view+json": {
       "version_major": 2,
       "version_minor": 0,
       "model_id": "da5345fc20ee4ed99306a5aa74d9ce0b"
      }
     },
     "metadata": {},
     "output_type": "display_data"
    },
    {
     "data": {
      "text/plain": [
       "special_tokens_map.json:   0%|          | 0.00/125 [00:00<?, ?B/s]"
      ],
      "application/vnd.jupyter.widget-view+json": {
       "version_major": 2,
       "version_minor": 0,
       "model_id": "e1575e5af07c4efc9b66d29810241a7c"
      }
     },
     "metadata": {},
     "output_type": "display_data"
    },
    {
     "data": {
      "text/plain": [
       "1_Pooling/config.json:   0%|          | 0.00/190 [00:00<?, ?B/s]"
      ],
      "application/vnd.jupyter.widget-view+json": {
       "version_major": 2,
       "version_minor": 0,
       "model_id": "9ae44de173264e53b4c24c8c5c78771e"
      }
     },
     "metadata": {},
     "output_type": "display_data"
    },
    {
     "data": {
      "text/plain": [
       "config_setfit.json:   0%|          | 0.00/109 [00:00<?, ?B/s]"
      ],
      "application/vnd.jupyter.widget-view+json": {
       "version_major": 2,
       "version_minor": 0,
       "model_id": "84964958f63c430693797f8c25ad4a41"
      }
     },
     "metadata": {},
     "output_type": "display_data"
    },
    {
     "data": {
      "text/plain": [
       "model_head.pkl:   0%|          | 0.00/13.3k [00:00<?, ?B/s]"
      ],
      "application/vnd.jupyter.widget-view+json": {
       "version_major": 2,
       "version_minor": 0,
       "model_id": "dc2bc0a070db4e2c944fdbfbe681ddcf"
      }
     },
     "metadata": {},
     "output_type": "display_data"
    },
    {
     "name": "stderr",
     "output_type": "stream",
     "text": [
      "/Users/arina/GitProjects/amazon_corpus_documents_retrieval/.venv/lib/python3.9/site-packages/sklearn/base.py:376: InconsistentVersionWarning: Trying to unpickle estimator LogisticRegression from version 1.3.2 when using version 1.5.1. This might lead to breaking code or invalid results. Use at your own risk. For more info please refer to:\n",
      "https://scikit-learn.org/stable/model_persistence.html#security-maintainability-limitations\n",
      "  warnings.warn(\n"
     ]
    }
   ],
   "execution_count": 16
  },
  {
   "metadata": {
    "ExecuteTime": {
     "end_time": "2024-08-19T19:24:27.101103Z",
     "start_time": "2024-08-19T19:24:25.442252Z"
    }
   },
   "cell_type": "code",
   "source": "preds = model.predict(\"looking for advice from nabokov lovers... hey y'all, my department's annual \\\"book auction\\\" is coming up (faculty members sell books they no longer want to us broke grad students, basically)... and this year there is a huge selection of nabokov on the list of available books. i'm a lover of most classic literature, but haven't read any nabokov... so i was wondering if you experts might look at this list and tell me which few you think would be best for a nabokov-virgin? thanks in advance for any help, and here's the list i've got (sorry about the formatting, it's just a cut-n-paste). Vladimir Nabokov, Ada. Vladimir Nabokov, The Defense. Vladimir Nabokov, The Eye. Vladimir Nabokov, The Gift. Vladimir Nabokov, Invitation to a Beheading Vladimir Nabokov, King, Queen, Knave. Vladimir Nabokov, Laughter in the Dark. Vladimir Nabokov, Lectures on Don Quixote. Vladimir Nabokov, Lectures on Russian Literature. Vladimir Nabokov, Nabokov’s Quartet. Vladimir Nabokov, Pnin. Vladimir Nabokov, The Real Life of Sebastian Knight. Vladimir Nabokov, The Song of Igor’s Campaign. Vladimir Nabokov, Spring in Fialta.\")",
   "id": "e30594a6387e7561",
   "outputs": [],
   "execution_count": 17
  },
  {
   "metadata": {
    "ExecuteTime": {
     "end_time": "2024-08-19T19:24:27.720802Z",
     "start_time": "2024-08-19T19:24:27.716103Z"
    }
   },
   "cell_type": "code",
   "source": "preds",
   "id": "1fdb3aef5bcac044",
   "outputs": [
    {
     "data": {
      "text/plain": [
       "[{'span': 'lovers', 'polarity': 'positive'},\n",
       " {'span': 'book auction', 'polarity': 'positive'},\n",
       " {'span': 'Vladimir Nabokov', 'polarity': 'positive'},\n",
       " {'span': 'Vladimir Nabokov', 'polarity': 'positive'},\n",
       " {'span': 'Vladimir Nabokov', 'polarity': 'positive'},\n",
       " {'span': 'Vladimir Nabokov', 'polarity': 'positive'},\n",
       " {'span': 'Vladimir Nabokov', 'polarity': 'positive'},\n",
       " {'span': 'Beheading Vladimir Nabokov', 'polarity': 'positive'},\n",
       " {'span': 'Vladimir Nabokov', 'polarity': 'positive'},\n",
       " {'span': 'Vladimir Nabokov', 'polarity': 'positive'},\n",
       " {'span': 'Lectures', 'polarity': 'positive'},\n",
       " {'span': 'Vladimir Nabokov', 'polarity': 'positive'},\n",
       " {'span': 'Lectures', 'polarity': 'positive'},\n",
       " {'span': 'Russian Literature', 'polarity': 'positive'},\n",
       " {'span': 'Vladimir Nabokov', 'polarity': 'positive'},\n",
       " {'span': 'Vladimir Nabokov', 'polarity': 'positive'},\n",
       " {'span': 'Vladimir Nabokov', 'polarity': 'positive'},\n",
       " {'span': 'Sebastian Knight', 'polarity': 'positive'},\n",
       " {'span': 'Vladimir Nabokov', 'polarity': 'positive'},\n",
       " {'span': 'Vladimir Nabokov', 'polarity': 'positive'}]"
      ]
     },
     "execution_count": 18,
     "metadata": {},
     "output_type": "execute_result"
    }
   ],
   "execution_count": 18
  },
  {
   "metadata": {
    "ExecuteTime": {
     "end_time": "2024-08-19T19:24:30.508881Z",
     "start_time": "2024-08-19T19:24:29.278027Z"
    }
   },
   "cell_type": "code",
   "source": [
    "preds = model.predict([\"From a historical scholarly perspective, \\\"Why Jesus?\\\". I've been doing a lot of reading on early Christianity, say AD 30-200. I have learned that there were A LOT of itinerant apocalyptic type preachers in that day. Many people were referred to as \\\"Son of Man\\\". People ascribed powers to lots of wandering magicians and mystics, and \\\"raising people from the dead\\\" was not as uncommon as it seems to be today. So the question that I am looking to answer, (extra-biblically, not from a faith perspective) is, \\\"Why Jesus?\\\" Why not Appolonius of Tyana, or any of many other preacher types that proposed and preached in a similar fashion. Was it Paul's zeal? James'? The fact that Christianity demanded monotheism and other gods didn't mind if you held to previous divine allegiances? Can anyone recommend some books that tackle this question, and compare Jesus' ministry directly with his contemporaries? Thanks for any books you can point out.....\",\n",
    "\"Schumann Biography. Does anyone have a recommendation for a biography of Robert Schumann? Thanks!\",\n",
    "\"Which LISP? It'll be time for me to shake things up and learn a new language soon. I had started on Erlang a while back and getting back to it might be fun. But I'm starting to lean toward Lisp--probably Common Lisp rather than Scheme. Anyone care to recommend a good first Lisp book? Would I be crazy to hope that there's one out there with an emphasis on using Lisp in a web development and/or system administration context? Not that I'm unhappy with PHP and Perl, but the best way for me to find the time to learn a new language is to use it for my work...\"\n",
    "])"
   ],
   "id": "159f2e4e1e8ed89c",
   "outputs": [],
   "execution_count": 19
  },
  {
   "metadata": {
    "ExecuteTime": {
     "end_time": "2024-08-19T19:24:30.514718Z",
     "start_time": "2024-08-19T19:24:30.510192Z"
    }
   },
   "cell_type": "code",
   "source": "preds",
   "id": "68cfb011b76c7968",
   "outputs": [
    {
     "data": {
      "text/plain": [
       "[[],\n",
       " [{'span': 'Schumann Biography', 'polarity': 'positive'},\n",
       "  {'span': 'biography', 'polarity': 'positive'},\n",
       "  {'span': 'Robert Schumann', 'polarity': 'positive'}],\n",
       " [{'span': 'LISP', 'polarity': 'neutral'},\n",
       "  {'span': 'language', 'polarity': 'neutral'},\n",
       "  {'span': 'Erlang', 'polarity': 'neutral'},\n",
       "  {'span': 'Lisp', 'polarity': 'neutral'},\n",
       "  {'span': 'Common Lisp', 'polarity': 'neutral'},\n",
       "  {'span': 'Scheme', 'polarity': 'neutral'},\n",
       "  {'span': 'Lisp book', 'polarity': 'neutral'},\n",
       "  {'span': 'Lisp', 'polarity': 'neutral'},\n",
       "  {'span': 'web development', 'polarity': 'neutral'},\n",
       "  {'span': 'system administration context', 'polarity': 'neutral'},\n",
       "  {'span': 'PHP', 'polarity': 'neutral'},\n",
       "  {'span': 'Perl', 'polarity': 'neutral'},\n",
       "  {'span': 'language', 'polarity': 'neutral'},\n",
       "  {'span': 'work', 'polarity': 'neutral'}],\n",
       " [{'span': 'LISP', 'polarity': 'neutral'},\n",
       "  {'span': 'language', 'polarity': 'neutral'},\n",
       "  {'span': 'Erlang', 'polarity': 'neutral'},\n",
       "  {'span': 'Lisp', 'polarity': 'neutral'},\n",
       "  {'span': 'Common Lisp', 'polarity': 'neutral'},\n",
       "  {'span': 'Scheme', 'polarity': 'neutral'},\n",
       "  {'span': 'Lisp book', 'polarity': 'neutral'},\n",
       "  {'span': 'Lisp', 'polarity': 'neutral'},\n",
       "  {'span': 'web development', 'polarity': 'neutral'},\n",
       "  {'span': 'system administration context', 'polarity': 'neutral'},\n",
       "  {'span': 'PHP', 'polarity': 'neutral'},\n",
       "  {'span': 'Perl', 'polarity': 'neutral'},\n",
       "  {'span': 'language', 'polarity': 'neutral'},\n",
       "  {'span': 'work', 'polarity': 'neutral'}],\n",
       " [{'span': 'LISP', 'polarity': 'neutral'},\n",
       "  {'span': 'language', 'polarity': 'neutral'},\n",
       "  {'span': 'Erlang', 'polarity': 'neutral'},\n",
       "  {'span': 'Lisp', 'polarity': 'neutral'},\n",
       "  {'span': 'Common Lisp', 'polarity': 'neutral'},\n",
       "  {'span': 'Scheme', 'polarity': 'neutral'},\n",
       "  {'span': 'Lisp book', 'polarity': 'neutral'},\n",
       "  {'span': 'Lisp', 'polarity': 'neutral'},\n",
       "  {'span': 'web development', 'polarity': 'neutral'},\n",
       "  {'span': 'system administration context', 'polarity': 'neutral'},\n",
       "  {'span': 'PHP', 'polarity': 'neutral'},\n",
       "  {'span': 'Perl', 'polarity': 'neutral'},\n",
       "  {'span': 'language', 'polarity': 'neutral'},\n",
       "  {'span': 'work', 'polarity': 'neutral'}]]"
      ]
     },
     "execution_count": 20,
     "metadata": {},
     "output_type": "execute_result"
    }
   ],
   "execution_count": 20
  },
  {
   "metadata": {},
   "cell_type": "markdown",
   "source": "",
   "id": "863cbc6a8ae0f1bc"
  },
  {
   "metadata": {
    "ExecuteTime": {
     "end_time": "2024-08-19T19:24:57.662514Z",
     "start_time": "2024-08-19T19:24:56.958451Z"
    }
   },
   "cell_type": "code",
   "source": [
    "preds1 = model.predict([\n",
    "    \"The best English translation of Iliad. Hello-hello. I have been looking for a good translation of Homer 's  Iliad  in verse. I have one by Robert Fitzgerald, but I don't find it completely satisfactory. I know there are a lot of English translations of  Iliad  , and I would love to hear your opinion on which one is the best :)\",\n",
    "    \"text on Philippine history? I have an \\\"e-friend\\\" from Ireland, and he wants to be able to match my attempts in learning Irish history by learning about Philippine history. For someone who has little to no knowledge about the Philippines, what text would you recommend as a starter? I'm thinking something that starts \\\"from the beginning,\\\" whatever that means in historiographical terms...\",\n",
    "    \"Peter I. I am new to LibraryThing. I'm very fond of reading Russian novels and poetry, but more recently I am going further into Russian history. I've just finished   Peter the Great   by Troyat , and am now reading   Peter the Great   by Klyuchevsky . I have   Peter the Great   by Massie , but was wondering whether that's the next logical step. Is there a better treatment of the subject? Does anyone have any other recommendations? Thank you.\",\n",
    "    \"Catholic Breviary. Hello everyone! Can anyone recommend, or tell me where to find, a good Catholic breviary that isn't too expensive? Recently I've begun to pray the Liturgy of the Hours with a few of my friends and I would really like to have my own breviary. I looked on Amazon but I don't know how to pick one, and many of them are very expensive. Can anyone recommend a good breviary to me? Thanks! Peace, Stacey\",\n",
    "    \"Irish Courses. Hello all. I was wondering if anyone had any recommendations for Irish study tools. I have Pimsleur’s Irish audio program, which I have found to be useful, but not perfect. I see that many of us in this group have Diarmuid O Se ’s Irish: A Complete Course for Beginners , I have just begun to use it, and so far I find it good, but a little disorganized at times. I have explored the idea of attending a course for Adults in Ireland from Foras na Gaeilge , but recently they have only held weekly classes, not the daily week-long courses that I am told the have had in the past. Does anyone have any other suggestions? Thanks.\",\n",
    "])"
   ],
   "id": "120dabcf4c196fc8",
   "outputs": [],
   "execution_count": 21
  },
  {
   "metadata": {
    "ExecuteTime": {
     "end_time": "2024-08-19T19:24:58.085236Z",
     "start_time": "2024-08-19T19:24:58.080652Z"
    }
   },
   "cell_type": "code",
   "source": "preds1",
   "id": "867068fc48433d5d",
   "outputs": [
    {
     "data": {
      "text/plain": [
       "[[{'span': 'translation', 'polarity': 'positive'},\n",
       "  {'span': 'Iliad', 'polarity': 'positive'},\n",
       "  {'span': 'translation', 'polarity': 'positive'},\n",
       "  {'span': 'Iliad', 'polarity': 'positive'},\n",
       "  {'span': 'Robert Fitzgerald', 'polarity': 'positive'},\n",
       "  {'span': 'translations', 'polarity': 'positive'},\n",
       "  {'span': 'Iliad', 'polarity': 'positive'},\n",
       "  {'span': 'opinion', 'polarity': 'positive'}],\n",
       " [{'span': 'history', 'polarity': 'neutral'},\n",
       "  {'span': 'e-friend', 'polarity': 'neutral'},\n",
       "  {'span': 'Ireland', 'polarity': 'neutral'},\n",
       "  {'span': 'history', 'polarity': 'neutral'},\n",
       "  {'span': 'history', 'polarity': 'neutral'},\n",
       "  {'span': 'knowledge', 'polarity': 'neutral'},\n",
       "  {'span': 'Philippines', 'polarity': 'neutral'},\n",
       "  {'span': 'terms', 'polarity': 'neutral'}],\n",
       " [{'span': 'novels', 'polarity': 'positive'},\n",
       "  {'span': 'poetry', 'polarity': 'positive'}],\n",
       " [{'span': 'Breviary', 'polarity': 'positive'},\n",
       "  {'span': 'breviary', 'polarity': 'positive'},\n",
       "  {'span': 'Liturgy', 'polarity': 'positive'},\n",
       "  {'span': 'breviary', 'polarity': 'positive'},\n",
       "  {'span': 'breviary', 'polarity': 'positive'}],\n",
       " [{'span': 'Courses', 'polarity': 'neutral'},\n",
       "  {'span': 'study tools', 'polarity': 'positive'},\n",
       "  {'span': 'audio program', 'polarity': 'neutral'},\n",
       "  {'span': 'Diarmuid O Se', 'polarity': 'positive'},\n",
       "  {'span': 'Beginners', 'polarity': 'neutral'},\n",
       "  {'span': 'Foras na Gaeilge', 'polarity': 'neutral'},\n",
       "  {'span': 'courses', 'polarity': 'neutral'}]]"
      ]
     },
     "execution_count": 22,
     "metadata": {},
     "output_type": "execute_result"
    }
   ],
   "execution_count": 22
  },
  {
   "metadata": {},
   "cell_type": "code",
   "source": [
    "# The training/eval dataset must have `text`, `span`, `polarity`, and `ordinal` columns\n",
    "dataset = load_dataset(\"omymble/setfit-books-reviews\")\n",
    "train_dataset = dataset[\"train\"]\n",
    "eval_dataset = dataset[\"validation\"]\n",
    "\n",
    "args = TrainingArguments(\n",
    "    output_dir=\"models\",\n",
    "    use_amp=True,\n",
    "    batch_size=32,\n",
    "    eval_steps=10,\n",
    "    save_steps=10,\n",
    "    load_best_model_at_end=True,\n",
    ")\n",
    "\n",
    "trainer = AbsaTrainer(\n",
    "    model,\n",
    "    args=args,\n",
    "    train_dataset=train_dataset,\n",
    "    eval_dataset=eval_dataset,\n",
    "    callbacks=[EarlyStoppingCallback(early_stopping_patience=5)],\n",
    ")\n",
    "trainer.train()"
   ],
   "id": "d8e1225d40de26fd",
   "outputs": [],
   "execution_count": null
  },
  {
   "metadata": {},
   "cell_type": "markdown",
   "source": "# new setfit",
   "id": "dce1f90455ffbc25"
  },
  {
   "metadata": {
    "ExecuteTime": {
     "end_time": "2024-09-16T20:07:41.618126Z",
     "start_time": "2024-09-16T20:07:41.606854Z"
    }
   },
   "cell_type": "code",
   "source": [
    "setfit_cats = pd.read_pickle(os.path.join(OBTAINED_DATA, 'setfit_categories.pkl'))\n",
    "setfit_cats.head()"
   ],
   "id": "e2bbaa9e2db3b7fa",
   "outputs": [
    {
     "data": {
      "text/plain": [
       "                                                text           span     label  \\\n",
       "0  The solution given here is fantastic and a bit...           book  positive   \n",
       "1  This thought races through Arthur's mind as he...         Arthur   neutral   \n",
       "2  This thought races through Arthur's mind as he...  Mister Monday   neutral   \n",
       "3  Arthur is put through a rigorous test of brave...         Arthur   neutral   \n",
       "4  Arthur is put through a rigorous test of brave...  Mister Monday  negative   \n",
       "\n",
       "             category  ordinal  \n",
       "0        BOOK#GENERAL        0  \n",
       "1  CONTENT#CHARACTERS        0  \n",
       "2          BOOK#TITLE        0  \n",
       "3  CONTENT#CHARACTERS        0  \n",
       "4  CONTENT#CHARACTERS        0  "
      ],
      "text/html": [
       "<div>\n",
       "<style scoped>\n",
       "    .dataframe tbody tr th:only-of-type {\n",
       "        vertical-align: middle;\n",
       "    }\n",
       "\n",
       "    .dataframe tbody tr th {\n",
       "        vertical-align: top;\n",
       "    }\n",
       "\n",
       "    .dataframe thead th {\n",
       "        text-align: right;\n",
       "    }\n",
       "</style>\n",
       "<table border=\"1\" class=\"dataframe\">\n",
       "  <thead>\n",
       "    <tr style=\"text-align: right;\">\n",
       "      <th></th>\n",
       "      <th>text</th>\n",
       "      <th>span</th>\n",
       "      <th>label</th>\n",
       "      <th>category</th>\n",
       "      <th>ordinal</th>\n",
       "    </tr>\n",
       "  </thead>\n",
       "  <tbody>\n",
       "    <tr>\n",
       "      <th>0</th>\n",
       "      <td>The solution given here is fantastic and a bit...</td>\n",
       "      <td>book</td>\n",
       "      <td>positive</td>\n",
       "      <td>BOOK#GENERAL</td>\n",
       "      <td>0</td>\n",
       "    </tr>\n",
       "    <tr>\n",
       "      <th>1</th>\n",
       "      <td>This thought races through Arthur's mind as he...</td>\n",
       "      <td>Arthur</td>\n",
       "      <td>neutral</td>\n",
       "      <td>CONTENT#CHARACTERS</td>\n",
       "      <td>0</td>\n",
       "    </tr>\n",
       "    <tr>\n",
       "      <th>2</th>\n",
       "      <td>This thought races through Arthur's mind as he...</td>\n",
       "      <td>Mister Monday</td>\n",
       "      <td>neutral</td>\n",
       "      <td>BOOK#TITLE</td>\n",
       "      <td>0</td>\n",
       "    </tr>\n",
       "    <tr>\n",
       "      <th>3</th>\n",
       "      <td>Arthur is put through a rigorous test of brave...</td>\n",
       "      <td>Arthur</td>\n",
       "      <td>neutral</td>\n",
       "      <td>CONTENT#CHARACTERS</td>\n",
       "      <td>0</td>\n",
       "    </tr>\n",
       "    <tr>\n",
       "      <th>4</th>\n",
       "      <td>Arthur is put through a rigorous test of brave...</td>\n",
       "      <td>Mister Monday</td>\n",
       "      <td>negative</td>\n",
       "      <td>CONTENT#CHARACTERS</td>\n",
       "      <td>0</td>\n",
       "    </tr>\n",
       "  </tbody>\n",
       "</table>\n",
       "</div>"
      ]
     },
     "execution_count": 2,
     "metadata": {},
     "output_type": "execute_result"
    }
   ],
   "execution_count": 2
  },
  {
   "metadata": {
    "ExecuteTime": {
     "end_time": "2024-09-16T20:07:46.272522Z",
     "start_time": "2024-09-16T20:07:46.267072Z"
    }
   },
   "cell_type": "code",
   "source": "setfit_cats['category'].value_counts()",
   "id": "9f73c9a9236fa8cc",
   "outputs": [
    {
     "data": {
      "text/plain": [
       "category\n",
       "CONTENT#CHARACTERS    1204\n",
       "CONTENT#PLOT          1036\n",
       "BOOK#AUTHOR            343\n",
       "BOOK#GENERAL           334\n",
       "CONTENT#GENRE          158\n",
       "BOOK#TITLE             148\n",
       "BOOK#AUDIENCE          135\n",
       "BOOK#QUALITY            61\n",
       "BOOK#STRUCTURE          43\n",
       "BOOK#PERIOD             11\n",
       "CONTENT#PERIOD          11\n",
       "BOOK#LENGTH              8\n",
       "BOOK#PRICE               3\n",
       "BOOK#GENRE               1\n",
       "Name: count, dtype: int64"
      ]
     },
     "execution_count": 3,
     "metadata": {},
     "output_type": "execute_result"
    }
   ],
   "execution_count": 3
  },
  {
   "metadata": {
    "ExecuteTime": {
     "end_time": "2024-09-16T20:07:54.809301Z",
     "start_time": "2024-09-16T20:07:54.802692Z"
    }
   },
   "cell_type": "code",
   "source": "setfit_cats.query('category  == \"CONTENT#PLOT\"')",
   "id": "f8fe1b487860d959",
   "outputs": [
    {
     "data": {
      "text/plain": [
       "                                                   text               span  \\\n",
       "6     In the story, Arthur receives a key that gives...                key   \n",
       "11    Arthur has to go to a foreign realm and defeat...      foreign realm   \n",
       "15    That is why the theme is bravery, Arthur has t...            bravery   \n",
       "21    You are transported through a mystical land th...      mystical land   \n",
       "25    That's why Mister Monday is so irresistible, a...              story   \n",
       "...                                                 ...                ...   \n",
       "3490  Arthur, and young boy that was not athletic an...    asthma problems   \n",
       "3491  Arthur, and young boy that was not athletic an...                key   \n",
       "3493  From the award-winning author of \"Snow Falling...            suicide   \n",
       "3494  From the award-winning author of \"Snow Falling...             cancer   \n",
       "3495  Along the way, he is sidetracked by a successi...  fortuitous events   \n",
       "\n",
       "         label      category  ordinal  \n",
       "6      neutral  CONTENT#PLOT        0  \n",
       "11     neutral  CONTENT#PLOT        0  \n",
       "15     neutral  CONTENT#PLOT        0  \n",
       "21    positive  CONTENT#PLOT        0  \n",
       "25    positive  CONTENT#PLOT        0  \n",
       "...        ...           ...      ...  \n",
       "3490   neutral  CONTENT#PLOT        0  \n",
       "3491   neutral  CONTENT#PLOT        0  \n",
       "3493   neutral  CONTENT#PLOT        0  \n",
       "3494   neutral  CONTENT#PLOT        0  \n",
       "3495   neutral  CONTENT#PLOT        0  \n",
       "\n",
       "[1036 rows x 5 columns]"
      ],
      "text/html": [
       "<div>\n",
       "<style scoped>\n",
       "    .dataframe tbody tr th:only-of-type {\n",
       "        vertical-align: middle;\n",
       "    }\n",
       "\n",
       "    .dataframe tbody tr th {\n",
       "        vertical-align: top;\n",
       "    }\n",
       "\n",
       "    .dataframe thead th {\n",
       "        text-align: right;\n",
       "    }\n",
       "</style>\n",
       "<table border=\"1\" class=\"dataframe\">\n",
       "  <thead>\n",
       "    <tr style=\"text-align: right;\">\n",
       "      <th></th>\n",
       "      <th>text</th>\n",
       "      <th>span</th>\n",
       "      <th>label</th>\n",
       "      <th>category</th>\n",
       "      <th>ordinal</th>\n",
       "    </tr>\n",
       "  </thead>\n",
       "  <tbody>\n",
       "    <tr>\n",
       "      <th>6</th>\n",
       "      <td>In the story, Arthur receives a key that gives...</td>\n",
       "      <td>key</td>\n",
       "      <td>neutral</td>\n",
       "      <td>CONTENT#PLOT</td>\n",
       "      <td>0</td>\n",
       "    </tr>\n",
       "    <tr>\n",
       "      <th>11</th>\n",
       "      <td>Arthur has to go to a foreign realm and defeat...</td>\n",
       "      <td>foreign realm</td>\n",
       "      <td>neutral</td>\n",
       "      <td>CONTENT#PLOT</td>\n",
       "      <td>0</td>\n",
       "    </tr>\n",
       "    <tr>\n",
       "      <th>15</th>\n",
       "      <td>That is why the theme is bravery, Arthur has t...</td>\n",
       "      <td>bravery</td>\n",
       "      <td>neutral</td>\n",
       "      <td>CONTENT#PLOT</td>\n",
       "      <td>0</td>\n",
       "    </tr>\n",
       "    <tr>\n",
       "      <th>21</th>\n",
       "      <td>You are transported through a mystical land th...</td>\n",
       "      <td>mystical land</td>\n",
       "      <td>positive</td>\n",
       "      <td>CONTENT#PLOT</td>\n",
       "      <td>0</td>\n",
       "    </tr>\n",
       "    <tr>\n",
       "      <th>25</th>\n",
       "      <td>That's why Mister Monday is so irresistible, a...</td>\n",
       "      <td>story</td>\n",
       "      <td>positive</td>\n",
       "      <td>CONTENT#PLOT</td>\n",
       "      <td>0</td>\n",
       "    </tr>\n",
       "    <tr>\n",
       "      <th>...</th>\n",
       "      <td>...</td>\n",
       "      <td>...</td>\n",
       "      <td>...</td>\n",
       "      <td>...</td>\n",
       "      <td>...</td>\n",
       "    </tr>\n",
       "    <tr>\n",
       "      <th>3490</th>\n",
       "      <td>Arthur, and young boy that was not athletic an...</td>\n",
       "      <td>asthma problems</td>\n",
       "      <td>neutral</td>\n",
       "      <td>CONTENT#PLOT</td>\n",
       "      <td>0</td>\n",
       "    </tr>\n",
       "    <tr>\n",
       "      <th>3491</th>\n",
       "      <td>Arthur, and young boy that was not athletic an...</td>\n",
       "      <td>key</td>\n",
       "      <td>neutral</td>\n",
       "      <td>CONTENT#PLOT</td>\n",
       "      <td>0</td>\n",
       "    </tr>\n",
       "    <tr>\n",
       "      <th>3493</th>\n",
       "      <td>From the award-winning author of \"Snow Falling...</td>\n",
       "      <td>suicide</td>\n",
       "      <td>neutral</td>\n",
       "      <td>CONTENT#PLOT</td>\n",
       "      <td>0</td>\n",
       "    </tr>\n",
       "    <tr>\n",
       "      <th>3494</th>\n",
       "      <td>From the award-winning author of \"Snow Falling...</td>\n",
       "      <td>cancer</td>\n",
       "      <td>neutral</td>\n",
       "      <td>CONTENT#PLOT</td>\n",
       "      <td>0</td>\n",
       "    </tr>\n",
       "    <tr>\n",
       "      <th>3495</th>\n",
       "      <td>Along the way, he is sidetracked by a successi...</td>\n",
       "      <td>fortuitous events</td>\n",
       "      <td>neutral</td>\n",
       "      <td>CONTENT#PLOT</td>\n",
       "      <td>0</td>\n",
       "    </tr>\n",
       "  </tbody>\n",
       "</table>\n",
       "<p>1036 rows × 5 columns</p>\n",
       "</div>"
      ]
     },
     "execution_count": 4,
     "metadata": {},
     "output_type": "execute_result"
    }
   ],
   "execution_count": 4
  },
  {
   "metadata": {
    "ExecuteTime": {
     "end_time": "2024-09-16T20:08:13.408850Z",
     "start_time": "2024-09-16T20:08:13.405174Z"
    }
   },
   "cell_type": "code",
   "source": [
    "categories_to_delete = [\n",
    "    \"BOOK#QUALITY\", \"BOOK#STRUCTURE\", \"BOOK#PERIOD\", \"CONTENT#PLOT\",\n",
    "    \"CONTENT#PERIOD\", \"BOOK#LENGTH\", \"BOOK#PRICE\", \"BOOK#GENRE\"\n",
    "]\n",
    "\n",
    "# Filter the dataframe\n",
    "setfit_cleaned = setfit_cats[~setfit_cats['category'].isin(categories_to_delete)]\n"
   ],
   "id": "52b2956a771ee3bf",
   "outputs": [],
   "execution_count": 5
  },
  {
   "metadata": {
    "ExecuteTime": {
     "end_time": "2024-09-16T20:08:15.265771Z",
     "start_time": "2024-09-16T20:08:15.262546Z"
    }
   },
   "cell_type": "code",
   "source": "setfit_cleaned['category'].value_counts()",
   "id": "e1fd2ce2719a5aaa",
   "outputs": [
    {
     "data": {
      "text/plain": [
       "category\n",
       "CONTENT#CHARACTERS    1204\n",
       "BOOK#AUTHOR            343\n",
       "BOOK#GENERAL           334\n",
       "CONTENT#GENRE          158\n",
       "BOOK#TITLE             148\n",
       "BOOK#AUDIENCE          135\n",
       "Name: count, dtype: int64"
      ]
     },
     "execution_count": 6,
     "metadata": {},
     "output_type": "execute_result"
    }
   ],
   "execution_count": 6
  },
  {
   "metadata": {
    "ExecuteTime": {
     "end_time": "2024-09-16T21:26:06.554444Z",
     "start_time": "2024-09-16T21:26:06.550912Z"
    }
   },
   "cell_type": "code",
   "source": "setfit_cleaned['category'].unique()",
   "id": "b4ed0f04a308a5eb",
   "outputs": [
    {
     "data": {
      "text/plain": [
       "array(['BOOK#GENERAL', 'CONTENT#CHARACTERS', 'BOOK#TITLE',\n",
       "       'BOOK#AUDIENCE', 'BOOK#AUTHOR', 'CONTENT#GENRE'], dtype=object)"
      ]
     },
     "execution_count": 21,
     "metadata": {},
     "output_type": "execute_result"
    }
   ],
   "execution_count": 21
  },
  {
   "metadata": {
    "ExecuteTime": {
     "end_time": "2024-09-16T20:09:34.549486Z",
     "start_time": "2024-09-16T20:09:34.542756Z"
    }
   },
   "cell_type": "code",
   "source": "setfit_cleaned.head()",
   "id": "79d74c215d7f2b1b",
   "outputs": [
    {
     "data": {
      "text/plain": [
       "                                                text           span     label  \\\n",
       "0  The solution given here is fantastic and a bit...           book  positive   \n",
       "1  This thought races through Arthur's mind as he...         Arthur   neutral   \n",
       "2  This thought races through Arthur's mind as he...  Mister Monday   neutral   \n",
       "3  Arthur is put through a rigorous test of brave...         Arthur   neutral   \n",
       "4  Arthur is put through a rigorous test of brave...  Mister Monday  negative   \n",
       "\n",
       "             category  ordinal  \n",
       "0        BOOK#GENERAL        0  \n",
       "1  CONTENT#CHARACTERS        0  \n",
       "2          BOOK#TITLE        0  \n",
       "3  CONTENT#CHARACTERS        0  \n",
       "4  CONTENT#CHARACTERS        0  "
      ],
      "text/html": [
       "<div>\n",
       "<style scoped>\n",
       "    .dataframe tbody tr th:only-of-type {\n",
       "        vertical-align: middle;\n",
       "    }\n",
       "\n",
       "    .dataframe tbody tr th {\n",
       "        vertical-align: top;\n",
       "    }\n",
       "\n",
       "    .dataframe thead th {\n",
       "        text-align: right;\n",
       "    }\n",
       "</style>\n",
       "<table border=\"1\" class=\"dataframe\">\n",
       "  <thead>\n",
       "    <tr style=\"text-align: right;\">\n",
       "      <th></th>\n",
       "      <th>text</th>\n",
       "      <th>span</th>\n",
       "      <th>label</th>\n",
       "      <th>category</th>\n",
       "      <th>ordinal</th>\n",
       "    </tr>\n",
       "  </thead>\n",
       "  <tbody>\n",
       "    <tr>\n",
       "      <th>0</th>\n",
       "      <td>The solution given here is fantastic and a bit...</td>\n",
       "      <td>book</td>\n",
       "      <td>positive</td>\n",
       "      <td>BOOK#GENERAL</td>\n",
       "      <td>0</td>\n",
       "    </tr>\n",
       "    <tr>\n",
       "      <th>1</th>\n",
       "      <td>This thought races through Arthur's mind as he...</td>\n",
       "      <td>Arthur</td>\n",
       "      <td>neutral</td>\n",
       "      <td>CONTENT#CHARACTERS</td>\n",
       "      <td>0</td>\n",
       "    </tr>\n",
       "    <tr>\n",
       "      <th>2</th>\n",
       "      <td>This thought races through Arthur's mind as he...</td>\n",
       "      <td>Mister Monday</td>\n",
       "      <td>neutral</td>\n",
       "      <td>BOOK#TITLE</td>\n",
       "      <td>0</td>\n",
       "    </tr>\n",
       "    <tr>\n",
       "      <th>3</th>\n",
       "      <td>Arthur is put through a rigorous test of brave...</td>\n",
       "      <td>Arthur</td>\n",
       "      <td>neutral</td>\n",
       "      <td>CONTENT#CHARACTERS</td>\n",
       "      <td>0</td>\n",
       "    </tr>\n",
       "    <tr>\n",
       "      <th>4</th>\n",
       "      <td>Arthur is put through a rigorous test of brave...</td>\n",
       "      <td>Mister Monday</td>\n",
       "      <td>negative</td>\n",
       "      <td>CONTENT#CHARACTERS</td>\n",
       "      <td>0</td>\n",
       "    </tr>\n",
       "  </tbody>\n",
       "</table>\n",
       "</div>"
      ]
     },
     "execution_count": 7,
     "metadata": {},
     "output_type": "execute_result"
    }
   ],
   "execution_count": 7
  },
  {
   "metadata": {
    "ExecuteTime": {
     "end_time": "2024-09-16T20:09:45.708399Z",
     "start_time": "2024-09-16T20:09:45.704154Z"
    }
   },
   "cell_type": "code",
   "source": [
    "setfit_categories = setfit_cleaned.drop(columns=['label']).copy()\n",
    "setfit_categories.rename(columns={'category': 'label'}, inplace=True)"
   ],
   "id": "626a5ffcb0399be8",
   "outputs": [],
   "execution_count": 8
  },
  {
   "metadata": {
    "ExecuteTime": {
     "end_time": "2024-09-16T20:10:11.684771Z",
     "start_time": "2024-09-16T20:10:11.679460Z"
    }
   },
   "cell_type": "code",
   "source": "setfit_categories.head()",
   "id": "8df4c5b1b1570abc",
   "outputs": [
    {
     "data": {
      "text/plain": [
       "                                                text           span  \\\n",
       "0  The solution given here is fantastic and a bit...           book   \n",
       "1  This thought races through Arthur's mind as he...         Arthur   \n",
       "2  This thought races through Arthur's mind as he...  Mister Monday   \n",
       "3  Arthur is put through a rigorous test of brave...         Arthur   \n",
       "4  Arthur is put through a rigorous test of brave...  Mister Monday   \n",
       "\n",
       "                label  ordinal  \n",
       "0        BOOK#GENERAL        0  \n",
       "1  CONTENT#CHARACTERS        0  \n",
       "2          BOOK#TITLE        0  \n",
       "3  CONTENT#CHARACTERS        0  \n",
       "4  CONTENT#CHARACTERS        0  "
      ],
      "text/html": [
       "<div>\n",
       "<style scoped>\n",
       "    .dataframe tbody tr th:only-of-type {\n",
       "        vertical-align: middle;\n",
       "    }\n",
       "\n",
       "    .dataframe tbody tr th {\n",
       "        vertical-align: top;\n",
       "    }\n",
       "\n",
       "    .dataframe thead th {\n",
       "        text-align: right;\n",
       "    }\n",
       "</style>\n",
       "<table border=\"1\" class=\"dataframe\">\n",
       "  <thead>\n",
       "    <tr style=\"text-align: right;\">\n",
       "      <th></th>\n",
       "      <th>text</th>\n",
       "      <th>span</th>\n",
       "      <th>label</th>\n",
       "      <th>ordinal</th>\n",
       "    </tr>\n",
       "  </thead>\n",
       "  <tbody>\n",
       "    <tr>\n",
       "      <th>0</th>\n",
       "      <td>The solution given here is fantastic and a bit...</td>\n",
       "      <td>book</td>\n",
       "      <td>BOOK#GENERAL</td>\n",
       "      <td>0</td>\n",
       "    </tr>\n",
       "    <tr>\n",
       "      <th>1</th>\n",
       "      <td>This thought races through Arthur's mind as he...</td>\n",
       "      <td>Arthur</td>\n",
       "      <td>CONTENT#CHARACTERS</td>\n",
       "      <td>0</td>\n",
       "    </tr>\n",
       "    <tr>\n",
       "      <th>2</th>\n",
       "      <td>This thought races through Arthur's mind as he...</td>\n",
       "      <td>Mister Monday</td>\n",
       "      <td>BOOK#TITLE</td>\n",
       "      <td>0</td>\n",
       "    </tr>\n",
       "    <tr>\n",
       "      <th>3</th>\n",
       "      <td>Arthur is put through a rigorous test of brave...</td>\n",
       "      <td>Arthur</td>\n",
       "      <td>CONTENT#CHARACTERS</td>\n",
       "      <td>0</td>\n",
       "    </tr>\n",
       "    <tr>\n",
       "      <th>4</th>\n",
       "      <td>Arthur is put through a rigorous test of brave...</td>\n",
       "      <td>Mister Monday</td>\n",
       "      <td>CONTENT#CHARACTERS</td>\n",
       "      <td>0</td>\n",
       "    </tr>\n",
       "  </tbody>\n",
       "</table>\n",
       "</div>"
      ]
     },
     "execution_count": 9,
     "metadata": {},
     "output_type": "execute_result"
    }
   ],
   "execution_count": 9
  },
  {
   "metadata": {
    "ExecuteTime": {
     "end_time": "2024-09-16T20:26:56.656172Z",
     "start_time": "2024-09-16T20:26:56.647547Z"
    }
   },
   "cell_type": "code",
   "source": [
    "grouped = setfit_categories.groupby('label')\n",
    "\n",
    "train_list = []\n",
    "val_list = []\n",
    "test_list = []\n",
    "\n",
    "for name, group in grouped:\n",
    "    # Shuffle the group\n",
    "    group = group.sample(frac=1, random_state=42).reset_index(drop=True)\n",
    "    \n",
    "    # Split the group into train, val, and test\n",
    "    train = group.iloc[:20]  # 13 samples for training\n",
    "    val = group.iloc[20:26]  # 6 samples for validation\n",
    "    test = group.iloc[26:]   # Remaining samples for test\n",
    "    \n",
    "    train_list.append(train)\n",
    "    val_list.append(val)\n",
    "    test_list.append(test)\n",
    "\n",
    "# Concatenate the individual category groups into full dataframes\n",
    "setfit_cats_train = pd.concat(train_list).reset_index(drop=True)\n",
    "setfit_cats_val = pd.concat(val_list).reset_index(drop=True)\n",
    "setfit_cats_test = pd.concat(test_list).reset_index(drop=True)"
   ],
   "id": "2c83d7a020d3d0ca",
   "outputs": [],
   "execution_count": 15
  },
  {
   "metadata": {
    "ExecuteTime": {
     "end_time": "2024-09-16T20:26:57.509168Z",
     "start_time": "2024-09-16T20:26:57.503719Z"
    }
   },
   "cell_type": "code",
   "source": "setfit_cats_train",
   "id": "6ef5fa9e26b5e996",
   "outputs": [
    {
     "data": {
      "text/plain": [
       "                                                  text                  span  \\\n",
       "0    I recommend this for fans of fantasy, or other...       fans of fantasy   \n",
       "1    I first got this book when I was eight and I t...                 eight   \n",
       "2    However, I did feel one particular scene might...  ages of 12 and above   \n",
       "3         I recommend this book to anyone and everyone              everyone   \n",
       "4    I enjoyed the story, but I still don't think i...             pre-teens   \n",
       "..                                                 ...                   ...   \n",
       "115  This book is not a man-bashing book but an upl...      cautionairy tale   \n",
       "116  While Garth Nix's fictional characters often h...         fantasy tales   \n",
       "117  Then, by diminishing his audience's reason, Ma...              thriller   \n",
       "118  But having said that, this is a good read and ...       adventure story   \n",
       "119  I don't usually like long-drawn out English ro...      English romances   \n",
       "\n",
       "             label  ordinal  \n",
       "0    BOOK#AUDIENCE        0  \n",
       "1    BOOK#AUDIENCE        0  \n",
       "2    BOOK#AUDIENCE        0  \n",
       "3    BOOK#AUDIENCE        0  \n",
       "4    BOOK#AUDIENCE        0  \n",
       "..             ...      ...  \n",
       "115  CONTENT#GENRE        0  \n",
       "116  CONTENT#GENRE        0  \n",
       "117  CONTENT#GENRE        0  \n",
       "118  CONTENT#GENRE        0  \n",
       "119  CONTENT#GENRE        0  \n",
       "\n",
       "[120 rows x 4 columns]"
      ],
      "text/html": [
       "<div>\n",
       "<style scoped>\n",
       "    .dataframe tbody tr th:only-of-type {\n",
       "        vertical-align: middle;\n",
       "    }\n",
       "\n",
       "    .dataframe tbody tr th {\n",
       "        vertical-align: top;\n",
       "    }\n",
       "\n",
       "    .dataframe thead th {\n",
       "        text-align: right;\n",
       "    }\n",
       "</style>\n",
       "<table border=\"1\" class=\"dataframe\">\n",
       "  <thead>\n",
       "    <tr style=\"text-align: right;\">\n",
       "      <th></th>\n",
       "      <th>text</th>\n",
       "      <th>span</th>\n",
       "      <th>label</th>\n",
       "      <th>ordinal</th>\n",
       "    </tr>\n",
       "  </thead>\n",
       "  <tbody>\n",
       "    <tr>\n",
       "      <th>0</th>\n",
       "      <td>I recommend this for fans of fantasy, or other...</td>\n",
       "      <td>fans of fantasy</td>\n",
       "      <td>BOOK#AUDIENCE</td>\n",
       "      <td>0</td>\n",
       "    </tr>\n",
       "    <tr>\n",
       "      <th>1</th>\n",
       "      <td>I first got this book when I was eight and I t...</td>\n",
       "      <td>eight</td>\n",
       "      <td>BOOK#AUDIENCE</td>\n",
       "      <td>0</td>\n",
       "    </tr>\n",
       "    <tr>\n",
       "      <th>2</th>\n",
       "      <td>However, I did feel one particular scene might...</td>\n",
       "      <td>ages of 12 and above</td>\n",
       "      <td>BOOK#AUDIENCE</td>\n",
       "      <td>0</td>\n",
       "    </tr>\n",
       "    <tr>\n",
       "      <th>3</th>\n",
       "      <td>I recommend this book to anyone and everyone</td>\n",
       "      <td>everyone</td>\n",
       "      <td>BOOK#AUDIENCE</td>\n",
       "      <td>0</td>\n",
       "    </tr>\n",
       "    <tr>\n",
       "      <th>4</th>\n",
       "      <td>I enjoyed the story, but I still don't think i...</td>\n",
       "      <td>pre-teens</td>\n",
       "      <td>BOOK#AUDIENCE</td>\n",
       "      <td>0</td>\n",
       "    </tr>\n",
       "    <tr>\n",
       "      <th>...</th>\n",
       "      <td>...</td>\n",
       "      <td>...</td>\n",
       "      <td>...</td>\n",
       "      <td>...</td>\n",
       "    </tr>\n",
       "    <tr>\n",
       "      <th>115</th>\n",
       "      <td>This book is not a man-bashing book but an upl...</td>\n",
       "      <td>cautionairy tale</td>\n",
       "      <td>CONTENT#GENRE</td>\n",
       "      <td>0</td>\n",
       "    </tr>\n",
       "    <tr>\n",
       "      <th>116</th>\n",
       "      <td>While Garth Nix's fictional characters often h...</td>\n",
       "      <td>fantasy tales</td>\n",
       "      <td>CONTENT#GENRE</td>\n",
       "      <td>0</td>\n",
       "    </tr>\n",
       "    <tr>\n",
       "      <th>117</th>\n",
       "      <td>Then, by diminishing his audience's reason, Ma...</td>\n",
       "      <td>thriller</td>\n",
       "      <td>CONTENT#GENRE</td>\n",
       "      <td>0</td>\n",
       "    </tr>\n",
       "    <tr>\n",
       "      <th>118</th>\n",
       "      <td>But having said that, this is a good read and ...</td>\n",
       "      <td>adventure story</td>\n",
       "      <td>CONTENT#GENRE</td>\n",
       "      <td>0</td>\n",
       "    </tr>\n",
       "    <tr>\n",
       "      <th>119</th>\n",
       "      <td>I don't usually like long-drawn out English ro...</td>\n",
       "      <td>English romances</td>\n",
       "      <td>CONTENT#GENRE</td>\n",
       "      <td>0</td>\n",
       "    </tr>\n",
       "  </tbody>\n",
       "</table>\n",
       "<p>120 rows × 4 columns</p>\n",
       "</div>"
      ]
     },
     "execution_count": 16,
     "metadata": {},
     "output_type": "execute_result"
    }
   ],
   "execution_count": 16
  },
  {
   "metadata": {},
   "cell_type": "code",
   "source": "setfit_cleaned.to_pickle(os.path.join(OBTAINED_DATA, 'setfit_cleaned.pkl'))",
   "id": "2e7d8c8829fc5307",
   "outputs": [],
   "execution_count": null
  },
  {
   "metadata": {
    "ExecuteTime": {
     "end_time": "2024-09-16T20:34:48.517446Z",
     "start_time": "2024-09-16T20:34:48.500807Z"
    }
   },
   "cell_type": "code",
   "source": [
    "cats_train_dataset = Dataset.from_pandas(setfit_cats_train)\n",
    "cats_test_dataset = Dataset.from_pandas(setfit_cats_val)"
   ],
   "id": "c2f1b9cf3d3d90e9",
   "outputs": [],
   "execution_count": 17
  },
  {
   "metadata": {
    "ExecuteTime": {
     "end_time": "2024-09-16T20:35:03.915298Z",
     "start_time": "2024-09-16T20:35:03.912623Z"
    }
   },
   "cell_type": "code",
   "source": [
    "cats_dataset_dict = DatasetDict({\n",
    "    'train': cats_train_dataset,\n",
    "    'test': cats_test_dataset\n",
    "})"
   ],
   "id": "4a11135de6661c79",
   "outputs": [],
   "execution_count": 18
  },
  {
   "metadata": {
    "ExecuteTime": {
     "end_time": "2024-09-16T20:35:21.853186Z",
     "start_time": "2024-09-16T20:35:18.820116Z"
    }
   },
   "cell_type": "code",
   "source": "cats_dataset_dict.push_to_hub('omymble/setfit-books-categories')",
   "id": "ca1a3669fc5283be",
   "outputs": [
    {
     "data": {
      "text/plain": [
       "Uploading the dataset shards:   0%|          | 0/1 [00:00<?, ?it/s]"
      ],
      "application/vnd.jupyter.widget-view+json": {
       "version_major": 2,
       "version_minor": 0,
       "model_id": "4a675292a8e2446f9af83aca73f033de"
      }
     },
     "metadata": {},
     "output_type": "display_data"
    },
    {
     "data": {
      "text/plain": [
       "Creating parquet from Arrow format:   0%|          | 0/1 [00:00<?, ?ba/s]"
      ],
      "application/vnd.jupyter.widget-view+json": {
       "version_major": 2,
       "version_minor": 0,
       "model_id": "1e11ced336d346efa6540d10d4a7eb7b"
      }
     },
     "metadata": {},
     "output_type": "display_data"
    },
    {
     "data": {
      "text/plain": [
       "Uploading the dataset shards:   0%|          | 0/1 [00:00<?, ?it/s]"
      ],
      "application/vnd.jupyter.widget-view+json": {
       "version_major": 2,
       "version_minor": 0,
       "model_id": "6c29ea8cc897492891a594979d3b8b7e"
      }
     },
     "metadata": {},
     "output_type": "display_data"
    },
    {
     "data": {
      "text/plain": [
       "Creating parquet from Arrow format:   0%|          | 0/1 [00:00<?, ?ba/s]"
      ],
      "application/vnd.jupyter.widget-view+json": {
       "version_major": 2,
       "version_minor": 0,
       "model_id": "2e27a425b5b54c40b8111a3e561a0a36"
      }
     },
     "metadata": {},
     "output_type": "display_data"
    },
    {
     "data": {
      "text/plain": [
       "CommitInfo(commit_url='https://huggingface.co/datasets/omymble/setfit-books-categories/commit/96d1944c5b4257d40ece0aae7b190d5a8d6c8488', commit_message='Upload dataset', commit_description='', oid='96d1944c5b4257d40ece0aae7b190d5a8d6c8488', pr_url=None, pr_revision=None, pr_num=None)"
      ]
     },
     "execution_count": 19,
     "metadata": {},
     "output_type": "execute_result"
    }
   ],
   "execution_count": 19
  },
  {
   "metadata": {},
   "cell_type": "code",
   "source": [
    "setfit_cleaned_pivot = pd.pivot_table(\n",
    "    setfit_cleaned, \n",
    "    values='text', \n",
    "    index=['category', 'label'], \n",
    "    aggfunc='count',\n",
    "    fill_value=0\n",
    ").reset_index()\n",
    "\n",
    "# Rename the column for clarity\n",
    "setfit_cleaned_pivot.rename(columns={'text': 'count'}, inplace=True)"
   ],
   "id": "d89eb647ceffec73",
   "outputs": [],
   "execution_count": null
  },
  {
   "metadata": {},
   "cell_type": "code",
   "source": "setfit_cleaned_pivot",
   "id": "1983767dfcc7f221",
   "outputs": [],
   "execution_count": null
  },
  {
   "metadata": {},
   "cell_type": "code",
   "source": [
    "exclusions = [\n",
    "    # ('BOOK#GENERAL', 'neutral'),\n",
    "    ('BOOK#TITLE', 'negative'),\n",
    "    # ('BOOK#TITLE', 'positive'),\n",
    "    # ('CONTENT#GENRE', 'negative')\n",
    "]"
   ],
   "id": "21ca1cf841307a",
   "outputs": [],
   "execution_count": null
  },
  {
   "metadata": {},
   "cell_type": "code",
   "source": [
    "# setfit = setfit_cats[setfit_cats['category'].isin(categories_to_keep)]\n",
    "setfit_cleaned = setfit_cleaned[~setfit_cleaned[['category', 'label']].apply(tuple, axis=1).isin(exclusions)]"
   ],
   "id": "9c3de0b770222f90",
   "outputs": [],
   "execution_count": null
  },
  {
   "metadata": {},
   "cell_type": "code",
   "source": "setfit_cleaned",
   "id": "981bc34539a5b6b4",
   "outputs": [],
   "execution_count": null
  },
  {
   "metadata": {},
   "cell_type": "code",
   "source": [
    "setfit_cleaned_pivot = pd.pivot_table(\n",
    "    setfit_cleaned, \n",
    "    values='text', \n",
    "    index=['category', 'label'], \n",
    "    aggfunc='count',\n",
    "    fill_value=0\n",
    ").reset_index()\n",
    "\n",
    "# Rename the column for clarity\n",
    "setfit_cleaned_pivot.rename(columns={'text': 'count'}, inplace=True)"
   ],
   "id": "2123f16a4445ba17",
   "outputs": [],
   "execution_count": null
  },
  {
   "metadata": {},
   "cell_type": "code",
   "source": "setfit_cleaned_pivot",
   "id": "5e63db67092cb04e",
   "outputs": [],
   "execution_count": null
  },
  {
   "metadata": {},
   "cell_type": "code",
   "source": "setfit_cleaned['category'].value_counts()",
   "id": "362aa8f40fd35b81",
   "outputs": [],
   "execution_count": null
  },
  {
   "metadata": {},
   "cell_type": "code",
   "source": "setfit_cleaned.to_pickle(os.path.join(OBTAINED_DATA, 'setfit_cleaned.pkl'))",
   "id": "45fdcf9ba3d647c8",
   "outputs": [],
   "execution_count": null
  },
  {
   "metadata": {},
   "cell_type": "code",
   "source": [
    "sampled_df = (\n",
    "    setfit_cleaned.groupby('category', group_keys=False)\n",
    "    .apply(lambda x: x.sample(min(len(x), 25)))\n",
    "    .reset_index(drop=True)\n",
    ")"
   ],
   "id": "5d982cfad76c0a2c",
   "outputs": [],
   "execution_count": null
  },
  {
   "metadata": {},
   "cell_type": "code",
   "source": "sampled_df",
   "id": "431baf12b042a956",
   "outputs": [],
   "execution_count": null
  },
  {
   "metadata": {},
   "cell_type": "code",
   "source": [
    "train_df, eval_df = train_test_split(\n",
    "    sampled_df,\n",
    "    test_size=0.4,\n",
    "    stratify=sampled_df[['category']],\n",
    "    random_state=42\n",
    ")"
   ],
   "id": "197926b396ba9f06",
   "outputs": [],
   "execution_count": null
  },
  {
   "metadata": {},
   "cell_type": "code",
   "source": [
    "train_df = train_df.drop(columns=['category']).reset_index(drop=True)\n",
    "test_df = eval_df.drop(columns=['category']).reset_index(drop=True)\n",
    "# test_df = test.drop(columns=['category']).reset_index(drop=True)"
   ],
   "id": "be3418b3269c16c6",
   "outputs": [],
   "execution_count": null
  },
  {
   "metadata": {},
   "cell_type": "code",
   "source": [
    "train_dataset = Dataset.from_pandas(train_df)\n",
    "test_dataset = Dataset.from_pandas(test_df)"
   ],
   "id": "3caa84becdbaf992",
   "outputs": [],
   "execution_count": null
  },
  {
   "metadata": {},
   "cell_type": "code",
   "source": [
    "dataset_dict = DatasetDict({\n",
    "    'train': train_dataset,\n",
    "    'test': test_dataset\n",
    "})"
   ],
   "id": "b1773a3c1d28389a",
   "outputs": [],
   "execution_count": null
  },
  {
   "metadata": {},
   "cell_type": "code",
   "source": "dataset_dict.push_to_hub('omymble/setfit-books-absa-mini')",
   "id": "b326d71326b64223",
   "outputs": [],
   "execution_count": null
  },
  {
   "metadata": {},
   "cell_type": "code",
   "source": [
    "train, test = train_test_split(setfit_filtered, test_size=0.2, stratify=setfit_filtered[['category', 'label']], random_state=42)\n",
    "# eval, test = train_test_split(temp, test_size=0.2, stratify=temp[['category', 'label']], random_state=42)\n"
   ],
   "id": "f9f9860a01a41700",
   "outputs": [],
   "execution_count": null
  },
  {
   "metadata": {},
   "cell_type": "code",
   "source": "test",
   "id": "c6cae36996473bbe",
   "outputs": [],
   "execution_count": null
  },
  {
   "metadata": {},
   "cell_type": "code",
   "source": [
    "setfit = pd.read_pickle(os.path.join(OBTAINED_DATA, 'setfit_sentences.pkl'))\n",
    "setfit.head()"
   ],
   "id": "c82f67edc257bafb",
   "outputs": [],
   "execution_count": null
  },
  {
   "metadata": {},
   "cell_type": "code",
   "source": "setfit['label'].value_counts()",
   "id": "6c4704bad7a98da8",
   "outputs": [],
   "execution_count": null
  },
  {
   "metadata": {},
   "cell_type": "code",
   "source": "setfit['span'].value_counts()",
   "id": "1b8f1b17502b820e",
   "outputs": [],
   "execution_count": null
  },
  {
   "metadata": {},
   "cell_type": "code",
   "source": "setfit.info()",
   "id": "6238d9a72a404a7",
   "outputs": [],
   "execution_count": null
  },
  {
   "metadata": {},
   "cell_type": "markdown",
   "source": "## Add df to HF",
   "id": "cc4f479629befc22"
  },
  {
   "metadata": {},
   "cell_type": "code",
   "source": [
    "train_df = train.drop(columns=['category']).reset_index(drop=True)\n",
    "test_df = test.drop(columns=['category']).reset_index(drop=True)\n",
    "# test_df = test.drop(columns=['category']).reset_index(drop=True)"
   ],
   "id": "618116c7ebc2cbb4",
   "outputs": [],
   "execution_count": null
  },
  {
   "metadata": {},
   "cell_type": "code",
   "source": [
    "# train_df, temp_df = train_test_split(setfit, test_size=0.2, stratify=setfit['label'], random_state=42)\n",
    "# val_df, test_df = train_test_split(temp_df, test_size=0.5, stratify=temp_df['label'], random_state=42)"
   ],
   "id": "ad27af5f756a46e7",
   "outputs": [],
   "execution_count": null
  },
  {
   "metadata": {},
   "cell_type": "code",
   "source": [
    "train_df.to_csv(os.path.join(OBTAINED_DATA, 'hf/setfit_categories/reviews_full_train.csv'), index=False)\n",
    "test_df.to_csv(os.path.join(OBTAINED_DATA, 'hf/setfit_categories/reviews_full_test.csv'), index=False)\n",
    "# test_df.to_csv(os.path.join(OBTAINED_DATA, 'hf/setfit_categories/reviews_sample_test.csv'), index=False)"
   ],
   "id": "dfc7b01381c6927d",
   "outputs": [],
   "execution_count": null
  },
  {
   "metadata": {},
   "cell_type": "code",
   "source": [
    "train_dataset = Dataset.from_csv(os.path.join(OBTAINED_DATA, 'hf/setfit_categories/reviews_full_train.csv'))\n",
    "test_dataset = Dataset.from_csv(os.path.join(OBTAINED_DATA, 'hf/setfit_categories/reviews_full_test.csv'))\n",
    "# test_dataset = Dataset.from_csv(os.path.join(OBTAINED_DATA, 'hf/setfit_categories/reviews_sample_test.csv'))\n",
    "\n",
    "# Create a DatasetDict\n",
    "dataset_dict = DatasetDict({\n",
    "    'train': train_dataset,\n",
    "    'test': test_dataset\n",
    "})"
   ],
   "id": "8fca97033bbd9f2a",
   "outputs": [],
   "execution_count": null
  },
  {
   "metadata": {},
   "cell_type": "code",
   "source": "dataset_dict.push_to_hub('omymble/setfit-books-absa')",
   "id": "b4b9a9febb3a940b",
   "outputs": [],
   "execution_count": null
  },
  {
   "metadata": {},
   "cell_type": "markdown",
   "source": "## Pre-trained model",
   "id": "e5a2a5e8c236ec60"
  },
  {
   "metadata": {},
   "cell_type": "code",
   "source": [
    "# Download from the 🤗 Hub\n",
    "model = AbsaModel.from_pretrained(\n",
    "    \"joshuasundance/setfit-absa-all-MiniLM-L6-v2-laptops-aspect\",\n",
    "    \"joshuasundance/setfit-absa-all-mpnet-base-v2-laptops-polarity\",\n",
    "    spacy_model=\"en_core_web_lg\",\n",
    ")"
   ],
   "id": "bc3906aac16390c",
   "outputs": [],
   "execution_count": null
  },
  {
   "metadata": {},
   "cell_type": "code",
   "source": [
    "preds = model(\"This laptop meets every expectation and Windows 7 is great!\")\n",
    "preds"
   ],
   "id": "1ef7e4e2d7eafd24",
   "outputs": [],
   "execution_count": null
  },
  {
   "metadata": {},
   "cell_type": "code",
   "source": [
    "preds = model(\"Arthur is put through a rigorous test of bravery and compassion to face the evil Mister Monday\")\n",
    "preds"
   ],
   "id": "92878146b079af22",
   "outputs": [],
   "execution_count": null
  },
  {
   "metadata": {},
   "cell_type": "markdown",
   "source": "# MEDIUM",
   "id": "7d6acdc83b561769"
  },
  {
   "metadata": {},
   "cell_type": "code",
   "source": [
    "model = AbsaModel.from_pretrained(\n",
    "    \"sentence-transformers/paraphrase-mpnet-base-v2\",\n",
    ")\n",
    "args = TrainingArguments(\n",
    "    num_epochs=1,\n",
    "    batch_size=4,\n",
    "    num_iterations=20,\n",
    "    save_strategy=\"no\",\n",
    "    report_to=\"none\"\n",
    ")"
   ],
   "id": "733104d5d3c5885f",
   "outputs": [],
   "execution_count": null
  },
  {
   "metadata": {},
   "cell_type": "code",
   "source": "model.to(DEVICE)",
   "id": "e7aafb11bef09513",
   "outputs": [],
   "execution_count": null
  },
  {
   "metadata": {},
   "cell_type": "code",
   "source": [
    "dataset = load_dataset(\"ronenlap/SetFitAbsa_FiQA\")\n",
    "train_ds = dataset[\"train\"]\n",
    "test_ds = dataset[\"test\"]"
   ],
   "id": "64b4bbfee95a898c",
   "outputs": [],
   "execution_count": null
  },
  {
   "metadata": {},
   "cell_type": "code",
   "source": [
    "k = 24\n",
    "seed = 35\n",
    "experiment_ds = train_ds.shuffle(seed=seed).select(range(k))\n"
   ],
   "id": "beb7128885008063",
   "outputs": [],
   "execution_count": null
  },
  {
   "metadata": {},
   "cell_type": "code",
   "source": [
    "trainer = AbsaTrainer(\n",
    "    model,\n",
    "    args=args,\n",
    "    train_dataset=experiment_ds,  # if you want to train over the entire train set change experiment_ds to train_ds\n",
    "    column_mapping={\n",
    "        \"sentence\": \"text\",\n",
    "        \"aspect\": \"span\",\n",
    "        \"polarity\": \"label\",\n",
    "        \"ordinal\": \"ordinal\",\n",
    "    },\n",
    ")\n",
    "\n",
    "trainer.train()"
   ],
   "id": "2fcd5602e5f4ccaf",
   "outputs": [],
   "execution_count": null
  },
  {
   "metadata": {},
   "cell_type": "code",
   "source": [
    "test_ds = test_ds.rename_columns({\"sentence\": \"text\",\"aspect\": \"span\"})\n",
    "output  = model.predict(test_ds) # a new column which holds the predicted polarity, \"pred_polarity\", is added to the dataset\n",
    "output"
   ],
   "id": "6b57647f5d2313e8",
   "outputs": [],
   "execution_count": null
  },
  {
   "metadata": {},
   "cell_type": "code",
   "source": [
    "weighted_f1_score = f1_score(output[\"polarity\"], output[\"pred_polarity\"], average=\"weighted\")\n",
    "print(f\"weighted_f1_score: {weighted_f1_score}\")"
   ],
   "id": "4ec3b4fafeefd0f7",
   "outputs": [],
   "execution_count": null
  },
  {
   "metadata": {},
   "cell_type": "code",
   "source": [
    "sentences = [\n",
    "    \"#Tesla: Model X Recall Adds To Reliability Issues $TSLA https://t.co/jVXQ4DoXnP\",\n",
    "    \"$CIEN seems to have broken out of a major horizontal resistance. Targets $14.35.\",\n",
    "    \"$AAPL I am big OUT from this. seems its falling towards 530.. :(\",\n",
    "]\n",
    "\n",
    "model.predict(sentences)"
   ],
   "id": "d58f4ff029e8ab06",
   "outputs": [],
   "execution_count": null
  },
  {
   "metadata": {},
   "cell_type": "markdown",
   "source": "## Fine-tune",
   "id": "185083ab1df92a50"
  },
  {
   "metadata": {},
   "cell_type": "code",
   "source": [
    "model = AbsaModel.from_pretrained(\n",
    "    \"sentence-transformers/all-MiniLM-L6-v2\",\n",
    "    \"sentence-transformers/all-mpnet-base-v2\",\n",
    "    spacy_model=\"en_core_web_lg\",\n",
    ")\n",
    "model.to(DEVICE)"
   ],
   "id": "f6799ba2b185f45",
   "outputs": [],
   "execution_count": null
  },
  {
   "metadata": {},
   "cell_type": "code",
   "source": "DEVICE",
   "id": "cf34d2843b5bb460",
   "outputs": [],
   "execution_count": null
  },
  {
   "metadata": {},
   "cell_type": "code",
   "source": [
    "dataset = load_dataset('omymble/setfit-books-reviews-sentences-absa')\n",
    "train_dataset = dataset['train']\n",
    "eval_dataset = dataset['validation']\n",
    "test_dataset = dataset['test']"
   ],
   "id": "9bad968050dfdd3a",
   "outputs": [],
   "execution_count": null
  },
  {
   "metadata": {},
   "cell_type": "code",
   "source": [
    "class CustomMetricsCallback(TrainerCallback):\n",
    "    def on_log(self, args, state, control, logs=None, **kwargs):\n",
    "        if logs is not None:\n",
    "            wandb.log(logs)"
   ],
   "id": "1a6c5b16ccf7b5a0",
   "outputs": [],
   "execution_count": null
  },
  {
   "metadata": {},
   "cell_type": "code",
   "source": [
    "args = TrainingArguments(\n",
    "    output_dir=os.path.join(ROOT_DIR, 'models/setfit'),\n",
    "    num_epochs=5,\n",
    "    use_amp=True,\n",
    "    batch_size=128,\n",
    "    evaluation_strategy=\"steps\",\n",
    "    eval_steps=50,\n",
    "    save_steps=50,\n",
    "    load_best_model_at_end=True,\n",
    "    report_to=\"wandb\",\n",
    ")\n",
    "\n",
    "trainer = AbsaTrainer(\n",
    "    model=model,\n",
    "    args=args,\n",
    "    train_dataset=train_dataset,\n",
    "    eval_dataset=eval_dataset,\n",
    "    callbacks=[EarlyStoppingCallback(early_stopping_patience=5), CustomMetricsCallback()],\n",
    ")\n",
    "trainer.train()"
   ],
   "id": "3f7db8089a7a5bf4",
   "outputs": [],
   "execution_count": null
  },
  {
   "metadata": {},
   "cell_type": "code",
   "source": [
    "metrics = trainer.evaluate(eval_dataset)\n",
    "print(metrics)"
   ],
   "id": "41f5bb6280b74e9",
   "outputs": [],
   "execution_count": null
  },
  {
   "metadata": {},
   "cell_type": "code",
   "source": [
    "eval_results = trainer.evaluate()\n",
    "print(eval_results)"
   ],
   "id": "b87cb3dbe3b3e5ad",
   "outputs": [],
   "execution_count": null
  },
  {
   "metadata": {},
   "cell_type": "code",
   "source": "wandb.log(eval_results)",
   "id": "79476d93c4ef871f",
   "outputs": [],
   "execution_count": null
  },
  {
   "metadata": {},
   "cell_type": "code",
   "source": [
    "test_results = trainer.predict(test_dataset)\n",
    "print(test_results)"
   ],
   "id": "6d79e4545f46843b",
   "outputs": [],
   "execution_count": null
  },
  {
   "metadata": {},
   "cell_type": "code",
   "source": "wandb.log(test_results.metrics)",
   "id": "d99d541646e59093",
   "outputs": [],
   "execution_count": null
  },
  {
   "metadata": {},
   "cell_type": "code",
   "source": [
    "\n",
    "\n",
    "wandb.finish()"
   ],
   "id": "a6fae0b03a79d9e",
   "outputs": [],
   "execution_count": null
  },
  {
   "metadata": {},
   "cell_type": "code",
   "source": [
    "model.save_pretrained(\n",
    "    \"models/setfit-absa-model-aspect\",\n",
    "    \"models/setfit-absa-model-polarity\",\n",
    ")\n",
    "# or\n",
    "model.push_to_hub(\n",
    "    \"tomaarsen/setfit-absa-bge-small-en-v1.5-restaurants-aspect\",\n",
    "    \"tomaarsen/setfit-absa-bge-small-en-v1.5-restaurants-polarity\",\n",
    ")\n"
   ],
   "id": "11fe32148ff670b",
   "outputs": [],
   "execution_count": null
  },
  {
   "metadata": {
    "ExecuteTime": {
     "end_time": "2024-09-16T21:52:37.637600Z",
     "start_time": "2024-09-16T21:52:37.524080Z"
    }
   },
   "cell_type": "code",
   "source": [
    "import numpy as np\n",
    "import seaborn as sns\n",
    "import matplotlib.pyplot as plt\n",
    "\n",
    "# 'BOOK#GENERAL', 'CONTENT#CHARACTERS', 'BOOK#TITLE', 'BOOK#AUDIENCE', 'BOOK#AUTHOR', 'CONTENT#GENRE'\n",
    "cm = np.array([[90,  2,  0,  2,  1,  5],   # BOOK#GENERAL\n",
    "             [4, 54,  11,  2, 26,  3],   # CONTENT#CHARACTERS\n",
    "             [0,  8, 84,  0,  6,  2],   # BOOK#TITLE\n",
    "             [4, 10,  2, 68, 12,  4],   # BOOK#AUDIENCE\n",
    "             [2, 24,  0,  4, 66,  4],   # BOOK#AUTHOR\n",
    "             [6,  4,  0,  4,  0, 86]])  # CONTENT#GENRE\n",
    "\n",
    "cm_normalized = cm.astype('float') / cm.sum(axis=1)[:, np.newaxis]\n",
    "\n",
    "# Plot confusion matrix\n",
    "plt.figure(figsize=(4,3))\n",
    "sns.heatmap(cm_normalized, annot=True, fmt=\".2f\", cmap=\"Blues\", cbar=False,\n",
    "            xticklabels=['BOOK#GENERAL', 'CONTENT#CHARACTERS', 'BOOK#TITLE', 'BOOK#AUDIENCE', 'BOOK#AUTHOR', 'CONTENT#GENRE'],\n",
    "            yticklabels=['BOOK#GENERAL', 'CONTENT#CHARACTERS', 'BOOK#TITLE', 'BOOK#AUDIENCE', 'BOOK#AUTHOR', 'CONTENT#GENRE'])\n",
    "plt.ylabel('True Label')\n",
    "plt.xlabel('Predicted Label')\n",
    "plt.title('Confusion Matrix for Categories')\n",
    "\n",
    "plt.show()\n",
    "plt.close()\n"
   ],
   "id": "d34103750c66fd38",
   "outputs": [
    {
     "data": {
      "text/plain": [
       "<Figure size 400x300 with 1 Axes>"
      ],
      "image/png": "[encoded data removed]"
     },
     "metadata": {},
     "output_type": "display_data"
    }
   ],
   "execution_count": 28
  },
  {
   "metadata": {},
   "cell_type": "code",
   "outputs": [],
   "execution_count": null,
   "source": "",
   "id": "e7dce71695d35705"
  }
 ],
 "metadata": {
  "kernelspec": {
   "display_name": "Python 3",
   "language": "python",
   "name": "python3"
  },
  "language_info": {
   "codemirror_mode": {
    "name": "ipython",
    "version": 2
   },
   "file_extension": ".py",
   "mimetype": "text/x-python",
   "name": "python",
   "nbconvert_exporter": "python",
   "pygments_lexer": "ipython2",
   "version": "2.7.6"
  }
 },
 "nbformat": 4,
 "nbformat_minor": 5
}
