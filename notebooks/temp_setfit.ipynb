{
 "cells": [
  {
   "cell_type": "code",
   "id": "initial_id",
   "metadata": {
    "collapsed": true,
    "ExecuteTime": {
     "end_time": "2024-07-25T20:43:48.533749Z",
     "start_time": "2024-07-25T20:43:48.531245Z"
    }
   },
   "source": [
    "import pandas as pd\n",
    "from setfit import AbsaModel, AbsaTrainer, TrainingArguments\n",
    "\n",
    "from sklearn.model_selection import train_test_split\n",
    "from datasets import Dataset, DatasetDict, load_dataset\n",
    "from transformers import EarlyStoppingCallback\n",
    "\n",
    "from config.config import *"
   ],
   "outputs": [],
   "execution_count": 49
  },
  {
   "metadata": {
    "ExecuteTime": {
     "end_time": "2024-07-25T19:42:13.761035Z",
     "start_time": "2024-07-25T19:42:13.751514Z"
    }
   },
   "cell_type": "code",
   "source": [
    "setfit = pd.read_pickle(os.path.join(OBTAINED_DATA, 'setfit.pkl'))\n",
    "setfit.head()"
   ],
   "id": "c82f67edc257bafb",
   "outputs": [
    {
     "data": {
      "text/plain": [
       "                                                text  \\\n",
       "0  The solution given here is fantastic and a bit...   \n",
       "1  Ahh. I wish I had never gotten this stupid key...   \n",
       "2  Ahh. I wish I had never gotten this stupid key...   \n",
       "3  Ahh. I wish I had never gotten this stupid key...   \n",
       "4  Ahh. I wish I had never gotten this stupid key...   \n",
       "\n",
       "                                            sentence           span     label  \\\n",
       "0  The solution given here is fantastic and a bit...           book  positive   \n",
       "1  This thought races through Arthur's mind as he...         Arthur   neutral   \n",
       "2  This thought races through Arthur's mind as he...  Mister Monday   neutral   \n",
       "3  Arthur is put through a rigorous test of brave...         Arthur   neutral   \n",
       "4  Arthur is put through a rigorous test of brave...  Mister Monday  negative   \n",
       "\n",
       "   ordinal  \n",
       "0        0  \n",
       "1        0  \n",
       "2        0  \n",
       "3        1  \n",
       "4        1  "
      ],
      "text/html": [
       "<div>\n",
       "<style scoped>\n",
       "    .dataframe tbody tr th:only-of-type {\n",
       "        vertical-align: middle;\n",
       "    }\n",
       "\n",
       "    .dataframe tbody tr th {\n",
       "        vertical-align: top;\n",
       "    }\n",
       "\n",
       "    .dataframe thead th {\n",
       "        text-align: right;\n",
       "    }\n",
       "</style>\n",
       "<table border=\"1\" class=\"dataframe\">\n",
       "  <thead>\n",
       "    <tr style=\"text-align: right;\">\n",
       "      <th></th>\n",
       "      <th>text</th>\n",
       "      <th>sentence</th>\n",
       "      <th>span</th>\n",
       "      <th>label</th>\n",
       "      <th>ordinal</th>\n",
       "    </tr>\n",
       "  </thead>\n",
       "  <tbody>\n",
       "    <tr>\n",
       "      <th>0</th>\n",
       "      <td>The solution given here is fantastic and a bit...</td>\n",
       "      <td>The solution given here is fantastic and a bit...</td>\n",
       "      <td>book</td>\n",
       "      <td>positive</td>\n",
       "      <td>0</td>\n",
       "    </tr>\n",
       "    <tr>\n",
       "      <th>1</th>\n",
       "      <td>Ahh. I wish I had never gotten this stupid key...</td>\n",
       "      <td>This thought races through Arthur's mind as he...</td>\n",
       "      <td>Arthur</td>\n",
       "      <td>neutral</td>\n",
       "      <td>0</td>\n",
       "    </tr>\n",
       "    <tr>\n",
       "      <th>2</th>\n",
       "      <td>Ahh. I wish I had never gotten this stupid key...</td>\n",
       "      <td>This thought races through Arthur's mind as he...</td>\n",
       "      <td>Mister Monday</td>\n",
       "      <td>neutral</td>\n",
       "      <td>0</td>\n",
       "    </tr>\n",
       "    <tr>\n",
       "      <th>3</th>\n",
       "      <td>Ahh. I wish I had never gotten this stupid key...</td>\n",
       "      <td>Arthur is put through a rigorous test of brave...</td>\n",
       "      <td>Arthur</td>\n",
       "      <td>neutral</td>\n",
       "      <td>1</td>\n",
       "    </tr>\n",
       "    <tr>\n",
       "      <th>4</th>\n",
       "      <td>Ahh. I wish I had never gotten this stupid key...</td>\n",
       "      <td>Arthur is put through a rigorous test of brave...</td>\n",
       "      <td>Mister Monday</td>\n",
       "      <td>negative</td>\n",
       "      <td>1</td>\n",
       "    </tr>\n",
       "  </tbody>\n",
       "</table>\n",
       "</div>"
      ]
     },
     "execution_count": 17,
     "metadata": {},
     "output_type": "execute_result"
    }
   ],
   "execution_count": 17
  },
  {
   "metadata": {
    "ExecuteTime": {
     "end_time": "2024-07-25T19:42:25.577131Z",
     "start_time": "2024-07-25T19:42:25.569555Z"
    }
   },
   "cell_type": "code",
   "source": "setfit['label'].value_counts()",
   "id": "6c4704bad7a98da8",
   "outputs": [
    {
     "data": {
      "text/plain": [
       "label\n",
       "neutral     2164\n",
       "positive     956\n",
       "negative     384\n",
       "Name: count, dtype: int64"
      ]
     },
     "execution_count": 19,
     "metadata": {},
     "output_type": "execute_result"
    }
   ],
   "execution_count": 19
  },
  {
   "metadata": {
    "ExecuteTime": {
     "end_time": "2024-07-25T19:42:27.343182Z",
     "start_time": "2024-07-25T19:42:27.335848Z"
    }
   },
   "cell_type": "code",
   "source": "setfit['span'].value_counts()",
   "id": "1b8f1b17502b820e",
   "outputs": [
    {
     "data": {
      "text/plain": [
       "span\n",
       "book                 258\n",
       "Arthur               202\n",
       "Mister Monday        104\n",
       "key                   90\n",
       "Garth Nix             71\n",
       "                    ... \n",
       "clock sword            1\n",
       "explanation            1\n",
       "English romances       1\n",
       "Grown ups              1\n",
       "fortuitous events      1\n",
       "Name: count, Length: 1145, dtype: int64"
      ]
     },
     "execution_count": 20,
     "metadata": {},
     "output_type": "execute_result"
    }
   ],
   "execution_count": 20
  },
  {
   "metadata": {
    "ExecuteTime": {
     "end_time": "2024-07-25T19:42:45.318028Z",
     "start_time": "2024-07-25T19:42:45.309516Z"
    }
   },
   "cell_type": "code",
   "source": "setfit.info()",
   "id": "6238d9a72a404a7",
   "outputs": [
    {
     "name": "stdout",
     "output_type": "stream",
     "text": [
      "<class 'pandas.core.frame.DataFrame'>\n",
      "RangeIndex: 3504 entries, 0 to 3503\n",
      "Data columns (total 5 columns):\n",
      " #   Column    Non-Null Count  Dtype \n",
      "---  ------    --------------  ----- \n",
      " 0   text      3504 non-null   object\n",
      " 1   sentence  3504 non-null   object\n",
      " 2   span      3504 non-null   object\n",
      " 3   label     3504 non-null   object\n",
      " 4   ordinal   3504 non-null   int64 \n",
      "dtypes: int64(1), object(4)\n",
      "memory usage: 137.0+ KB\n"
     ]
    }
   ],
   "execution_count": 22
  },
  {
   "metadata": {},
   "cell_type": "markdown",
   "source": "## Add df to HF",
   "id": "cc4f479629befc22"
  },
  {
   "metadata": {
    "ExecuteTime": {
     "end_time": "2024-07-25T20:12:37.162888Z",
     "start_time": "2024-07-25T20:12:37.154192Z"
    }
   },
   "cell_type": "code",
   "source": [
    "train_df, temp_df = train_test_split(setfit, test_size=0.2, stratify=setfit['label'], random_state=42)\n",
    "val_df, test_df = train_test_split(temp_df, test_size=0.5, stratify=temp_df['label'], random_state=42)"
   ],
   "id": "ad27af5f756a46e7",
   "outputs": [],
   "execution_count": 31
  },
  {
   "metadata": {
    "ExecuteTime": {
     "end_time": "2024-07-25T20:13:22.385250Z",
     "start_time": "2024-07-25T20:13:22.299533Z"
    }
   },
   "cell_type": "code",
   "source": [
    "train_df.to_csv(os.path.join(OBTAINED_DATA, 'hf/setfit_books_reviews_train.csv'), index=False)\n",
    "val_df.to_csv(os.path.join(OBTAINED_DATA, 'hf/setfit_books_reviews_val.csv'), index=False)\n",
    "test_df.to_csv(os.path.join(OBTAINED_DATA, 'hf/setfit_books_reviews_test.csv'), index=False)"
   ],
   "id": "dfc7b01381c6927d",
   "outputs": [],
   "execution_count": 34
  },
  {
   "metadata": {
    "ExecuteTime": {
     "end_time": "2024-07-25T20:18:14.429093Z",
     "start_time": "2024-07-25T20:18:13.611562Z"
    }
   },
   "cell_type": "code",
   "source": [
    "train_dataset = Dataset.from_csv(os.path.join(OBTAINED_DATA, 'hf/setfit_books_reviews_train.csv'))\n",
    "val_dataset = Dataset.from_csv(os.path.join(OBTAINED_DATA, 'hf/setfit_books_reviews_val.csv'))\n",
    "test_dataset = Dataset.from_csv(os.path.join(OBTAINED_DATA, 'hf/setfit_books_reviews_test.csv'))\n",
    "\n",
    "# Create a DatasetDict\n",
    "dataset_dict = DatasetDict({\n",
    "    'train': train_dataset,\n",
    "    'validation': val_dataset,\n",
    "    'test': test_dataset\n",
    "})"
   ],
   "id": "8fca97033bbd9f2a",
   "outputs": [
    {
     "data": {
      "text/plain": [
       "Generating train split: 0 examples [00:00, ? examples/s]"
      ],
      "application/vnd.jupyter.widget-view+json": {
       "version_major": 2,
       "version_minor": 0,
       "model_id": "08e146bb9f134040a4860637fb5b041a"
      }
     },
     "metadata": {},
     "output_type": "display_data"
    },
    {
     "data": {
      "text/plain": [
       "Generating train split: 0 examples [00:00, ? examples/s]"
      ],
      "application/vnd.jupyter.widget-view+json": {
       "version_major": 2,
       "version_minor": 0,
       "model_id": "13957468b51149088c4152692a1fe8f6"
      }
     },
     "metadata": {},
     "output_type": "display_data"
    },
    {
     "data": {
      "text/plain": [
       "Generating train split: 0 examples [00:00, ? examples/s]"
      ],
      "application/vnd.jupyter.widget-view+json": {
       "version_major": 2,
       "version_minor": 0,
       "model_id": "32e8bba9113a43bc8315d7e713b2e8bc"
      }
     },
     "metadata": {},
     "output_type": "display_data"
    }
   ],
   "execution_count": 37
  },
  {
   "metadata": {
    "ExecuteTime": {
     "end_time": "2024-07-25T20:23:50.357115Z",
     "start_time": "2024-07-25T20:23:45.471947Z"
    }
   },
   "cell_type": "code",
   "source": "dataset_dict.push_to_hub('omymble/amazon-books-reviews-absa')\n",
   "id": "b4b9a9febb3a940b",
   "outputs": [
    {
     "data": {
      "text/plain": [
       "Uploading the dataset shards:   0%|          | 0/1 [00:00<?, ?it/s]"
      ],
      "application/vnd.jupyter.widget-view+json": {
       "version_major": 2,
       "version_minor": 0,
       "model_id": "b43815c269044105810bdfa25ed72451"
      }
     },
     "metadata": {},
     "output_type": "display_data"
    },
    {
     "data": {
      "text/plain": [
       "Creating parquet from Arrow format:   0%|          | 0/3 [00:00<?, ?ba/s]"
      ],
      "application/vnd.jupyter.widget-view+json": {
       "version_major": 2,
       "version_minor": 0,
       "model_id": "f97b553fe5e64239b8eb4eb26179b406"
      }
     },
     "metadata": {},
     "output_type": "display_data"
    },
    {
     "data": {
      "text/plain": [
       "Uploading the dataset shards:   0%|          | 0/1 [00:00<?, ?it/s]"
      ],
      "application/vnd.jupyter.widget-view+json": {
       "version_major": 2,
       "version_minor": 0,
       "model_id": "7477796ff4214696bad58f76c2a23abc"
      }
     },
     "metadata": {},
     "output_type": "display_data"
    },
    {
     "data": {
      "text/plain": [
       "Creating parquet from Arrow format:   0%|          | 0/1 [00:00<?, ?ba/s]"
      ],
      "application/vnd.jupyter.widget-view+json": {
       "version_major": 2,
       "version_minor": 0,
       "model_id": "569cfbd087b24999aa70c0f3c21f2aa2"
      }
     },
     "metadata": {},
     "output_type": "display_data"
    },
    {
     "data": {
      "text/plain": [
       "Uploading the dataset shards:   0%|          | 0/1 [00:00<?, ?it/s]"
      ],
      "application/vnd.jupyter.widget-view+json": {
       "version_major": 2,
       "version_minor": 0,
       "model_id": "9b5504bc07834e95a511b64d1cf1729f"
      }
     },
     "metadata": {},
     "output_type": "display_data"
    },
    {
     "data": {
      "text/plain": [
       "Creating parquet from Arrow format:   0%|          | 0/1 [00:00<?, ?ba/s]"
      ],
      "application/vnd.jupyter.widget-view+json": {
       "version_major": 2,
       "version_minor": 0,
       "model_id": "85de805290334558aceafc2f29b988ae"
      }
     },
     "metadata": {},
     "output_type": "display_data"
    },
    {
     "data": {
      "text/plain": [
       "CommitInfo(commit_url='https://huggingface.co/datasets/omymble/amazon-books-reviews-absa/commit/aa5f843230c47eaec05521263e246b1273339562', commit_message='Upload dataset', commit_description='', oid='aa5f843230c47eaec05521263e246b1273339562', pr_url=None, pr_revision=None, pr_num=None)"
      ]
     },
     "execution_count": 39,
     "metadata": {},
     "output_type": "execute_result"
    }
   ],
   "execution_count": 39
  },
  {
   "metadata": {},
   "cell_type": "markdown",
   "source": "## Pre-trained model",
   "id": "e5a2a5e8c236ec60"
  },
  {
   "metadata": {
    "ExecuteTime": {
     "end_time": "2024-07-25T19:56:12.036584Z",
     "start_time": "2024-07-25T19:56:06.803821Z"
    }
   },
   "cell_type": "code",
   "source": [
    "# Download from the 🤗 Hub\n",
    "model = AbsaModel.from_pretrained(\n",
    "    \"joshuasundance/setfit-absa-all-MiniLM-L6-v2-laptops-aspect\",\n",
    "    \"joshuasundance/setfit-absa-all-mpnet-base-v2-laptops-polarity\",\n",
    "    spacy_model=\"en_core_web_sm\",\n",
    ")"
   ],
   "id": "bc3906aac16390c",
   "outputs": [
    {
     "name": "stderr",
     "output_type": "stream",
     "text": [
      "/Users/arina/GitProjects/amazon_corpus_documents_retrieval/.venv/lib/python3.9/site-packages/sklearn/base.py:376: InconsistentVersionWarning: Trying to unpickle estimator LogisticRegression from version 1.4.0 when using version 1.5.1. This might lead to breaking code or invalid results. Use at your own risk. For more info please refer to:\n",
      "https://scikit-learn.org/stable/model_persistence.html#security-maintainability-limitations\n",
      "  warnings.warn(\n"
     ]
    }
   ],
   "execution_count": 24
  },
  {
   "metadata": {
    "ExecuteTime": {
     "end_time": "2024-07-25T19:56:23.799692Z",
     "start_time": "2024-07-25T19:56:23.686225Z"
    }
   },
   "cell_type": "code",
   "source": [
    "preds = model(\"This laptop meets every expectation and Windows 7 is great!\")\n",
    "preds"
   ],
   "id": "1ef7e4e2d7eafd24",
   "outputs": [
    {
     "data": {
      "text/plain": [
       "[{'span': 'Windows', 'polarity': 'positive'}]"
      ]
     },
     "execution_count": 25,
     "metadata": {},
     "output_type": "execute_result"
    }
   ],
   "execution_count": 25
  },
  {
   "metadata": {
    "ExecuteTime": {
     "end_time": "2024-07-25T19:57:03.834630Z",
     "start_time": "2024-07-25T19:57:02.824342Z"
    }
   },
   "cell_type": "code",
   "source": [
    "preds = model(\"Arthur is put through a rigorous test of bravery and compassion to face the evil Mister Monday\")\n",
    "preds"
   ],
   "id": "92878146b079af22",
   "outputs": [
    {
     "data": {
      "text/plain": [
       "[{'span': 'test', 'polarity': 'neutral'},\n",
       " {'span': 'bravery', 'polarity': 'neutral'},\n",
       " {'span': 'compassion', 'polarity': 'neutral'}]"
      ]
     },
     "execution_count": 26,
     "metadata": {},
     "output_type": "execute_result"
    }
   ],
   "execution_count": 26
  },
  {
   "metadata": {},
   "cell_type": "code",
   "outputs": [],
   "execution_count": null,
   "source": "",
   "id": "733104d5d3c5885f"
  },
  {
   "metadata": {
    "ExecuteTime": {
     "end_time": "2024-07-25T19:22:04.236107Z",
     "start_time": "2024-07-25T19:21:58.402814Z"
    }
   },
   "cell_type": "code",
   "source": [
    "\n",
    "\n",
    "# Download from the 🤗 Hub\n",
    "model = AbsaModel.from_pretrained(\n",
    "    \"joshuasundance/setfit-absa-all-MiniLM-L6-v2-laptops-aspect\",\n",
    "    \"joshuasundance/setfit-absa-all-mpnet-base-v2-laptops-polarity\",\n",
    "    spacy_model=\"en_core_web_sm\",\n",
    ")\n",
    "# Run inference\n",
    "preds = model(\"This laptop meets every expectation and Windows 7 is great!\")\n"
   ],
   "id": "2999cdd474e81430",
   "outputs": [
    {
     "name": "stdout",
     "output_type": "stream",
     "text": [
      "<class 'pandas.core.frame.DataFrame'>\n",
      "RangeIndex: 3504 entries, 0 to 3503\n",
      "Data columns (total 5 columns):\n",
      " #   Column    Non-Null Count  Dtype \n",
      "---  ------    --------------  ----- \n",
      " 0   text      3504 non-null   object\n",
      " 1   sentence  3504 non-null   object\n",
      " 2   span      3504 non-null   object\n",
      " 3   label     3504 non-null   object\n",
      " 4   ordinal   3504 non-null   int64 \n",
      "dtypes: int64(1), object(4)\n",
      "memory usage: 137.0+ KB\n"
     ]
    },
    {
     "name": "stderr",
     "output_type": "stream",
     "text": [
      "/Users/arina/GitProjects/amazon_corpus_documents_retrieval/.venv/lib/python3.9/site-packages/sklearn/base.py:376: InconsistentVersionWarning: Trying to unpickle estimator LogisticRegression from version 1.4.0 when using version 1.5.1. This might lead to breaking code or invalid results. Use at your own risk. For more info please refer to:\n",
      "https://scikit-learn.org/stable/model_persistence.html#security-maintainability-limitations\n",
      "  warnings.warn(\n"
     ]
    }
   ],
   "execution_count": 8
  },
  {
   "metadata": {
    "ExecuteTime": {
     "end_time": "2024-07-25T13:29:24.580575Z",
     "start_time": "2024-07-25T13:29:24.574636Z"
    }
   },
   "cell_type": "code",
   "source": "preds",
   "id": "504d5c11f5a92400",
   "outputs": [
    {
     "data": {
      "text/plain": [
       "[{'span': 'Windows', 'polarity': 'positive'}]"
      ]
     },
     "execution_count": 2,
     "metadata": {},
     "output_type": "execute_result"
    }
   ],
   "execution_count": 2
  },
  {
   "metadata": {},
   "cell_type": "markdown",
   "source": [
    "preds1 = model(\"\")\n",
    "preds1"
   ],
   "id": "dd3b44be4a70172f"
  },
  {
   "metadata": {},
   "cell_type": "markdown",
   "source": "## example from blog",
   "id": "185083ab1df92a50"
  },
  {
   "metadata": {
    "ExecuteTime": {
     "end_time": "2024-07-25T20:00:49.726992Z",
     "start_time": "2024-07-25T20:00:24.319888Z"
    }
   },
   "cell_type": "code",
   "source": [
    "model = AbsaModel.from_pretrained(\n",
    "    \"sentence-transformers/all-MiniLM-L6-v2\",\n",
    "    \"sentence-transformers/all-mpnet-base-v2\",\n",
    "    spacy_model=\"en_core_web_sm\",\n",
    ")"
   ],
   "id": "f6799ba2b185f45",
   "outputs": [
    {
     "name": "stderr",
     "output_type": "stream",
     "text": [
      "model_head.pkl not found on HuggingFace Hub, initialising classification head with random weights. You should TRAIN this model on a downstream task to use it for predictions and inference.\n"
     ]
    },
    {
     "data": {
      "text/plain": [
       "config.json:   0%|          | 0.00/571 [00:00<?, ?B/s]"
      ],
      "application/vnd.jupyter.widget-view+json": {
       "version_major": 2,
       "version_minor": 0,
       "model_id": "1b50b8b4f9eb4217b25e3d85c1e8392d"
      }
     },
     "metadata": {},
     "output_type": "display_data"
    },
    {
     "data": {
      "text/plain": [
       "modules.json:   0%|          | 0.00/349 [00:00<?, ?B/s]"
      ],
      "application/vnd.jupyter.widget-view+json": {
       "version_major": 2,
       "version_minor": 0,
       "model_id": "09aaad73b9134ba0a1739abc0dbe1a65"
      }
     },
     "metadata": {},
     "output_type": "display_data"
    },
    {
     "data": {
      "text/plain": [
       "config_sentence_transformers.json:   0%|          | 0.00/116 [00:00<?, ?B/s]"
      ],
      "application/vnd.jupyter.widget-view+json": {
       "version_major": 2,
       "version_minor": 0,
       "model_id": "3e09cbc3736f439d8882ef9c2f83fcb6"
      }
     },
     "metadata": {},
     "output_type": "display_data"
    },
    {
     "data": {
      "text/plain": [
       "README.md:   0%|          | 0.00/10.6k [00:00<?, ?B/s]"
      ],
      "application/vnd.jupyter.widget-view+json": {
       "version_major": 2,
       "version_minor": 0,
       "model_id": "602aaf842b214326a315cb0d047af485"
      }
     },
     "metadata": {},
     "output_type": "display_data"
    },
    {
     "data": {
      "text/plain": [
       "sentence_bert_config.json:   0%|          | 0.00/53.0 [00:00<?, ?B/s]"
      ],
      "application/vnd.jupyter.widget-view+json": {
       "version_major": 2,
       "version_minor": 0,
       "model_id": "fe648bc432ea41c084c502272b2df82f"
      }
     },
     "metadata": {},
     "output_type": "display_data"
    },
    {
     "data": {
      "text/plain": [
       "model.safetensors:   0%|          | 0.00/438M [00:00<?, ?B/s]"
      ],
      "application/vnd.jupyter.widget-view+json": {
       "version_major": 2,
       "version_minor": 0,
       "model_id": "8091ea2f8c994272a77723707d33d6ee"
      }
     },
     "metadata": {},
     "output_type": "display_data"
    },
    {
     "data": {
      "text/plain": [
       "tokenizer_config.json:   0%|          | 0.00/363 [00:00<?, ?B/s]"
      ],
      "application/vnd.jupyter.widget-view+json": {
       "version_major": 2,
       "version_minor": 0,
       "model_id": "df4b9d9965d346608706611a54ea19b2"
      }
     },
     "metadata": {},
     "output_type": "display_data"
    },
    {
     "data": {
      "text/plain": [
       "vocab.txt:   0%|          | 0.00/232k [00:00<?, ?B/s]"
      ],
      "application/vnd.jupyter.widget-view+json": {
       "version_major": 2,
       "version_minor": 0,
       "model_id": "5faf805485274a1a8ec117918648c912"
      }
     },
     "metadata": {},
     "output_type": "display_data"
    },
    {
     "data": {
      "text/plain": [
       "tokenizer.json:   0%|          | 0.00/466k [00:00<?, ?B/s]"
      ],
      "application/vnd.jupyter.widget-view+json": {
       "version_major": 2,
       "version_minor": 0,
       "model_id": "1bc6ee93a4814246a0f45ae3ad337bc1"
      }
     },
     "metadata": {},
     "output_type": "display_data"
    },
    {
     "data": {
      "text/plain": [
       "special_tokens_map.json:   0%|          | 0.00/239 [00:00<?, ?B/s]"
      ],
      "application/vnd.jupyter.widget-view+json": {
       "version_major": 2,
       "version_minor": 0,
       "model_id": "f3beed7c194e4bc7907d4670a4c86e61"
      }
     },
     "metadata": {},
     "output_type": "display_data"
    },
    {
     "data": {
      "text/plain": [
       "1_Pooling/config.json:   0%|          | 0.00/190 [00:00<?, ?B/s]"
      ],
      "application/vnd.jupyter.widget-view+json": {
       "version_major": 2,
       "version_minor": 0,
       "model_id": "d89f2e9bf012409c8b6ae7741afbad18"
      }
     },
     "metadata": {},
     "output_type": "display_data"
    },
    {
     "name": "stderr",
     "output_type": "stream",
     "text": [
      "model_head.pkl not found on HuggingFace Hub, initialising classification head with random weights. You should TRAIN this model on a downstream task to use it for predictions and inference.\n"
     ]
    }
   ],
   "execution_count": 28
  },
  {
   "metadata": {
    "ExecuteTime": {
     "end_time": "2024-07-25T20:30:44.554205Z",
     "start_time": "2024-07-25T20:30:38.746842Z"
    }
   },
   "cell_type": "code",
   "source": [
    "dataset = load_dataset('omymble/amazon-books-reviews-absa')\n",
    "train_dataset = dataset['train']\n",
    "val_dataset = dataset['validation']\n",
    "test_dataset = dataset['test']"
   ],
   "id": "9bad968050dfdd3a",
   "outputs": [
    {
     "data": {
      "text/plain": [
       "Downloading readme:   0%|          | 0.00/625 [00:00<?, ?B/s]"
      ],
      "application/vnd.jupyter.widget-view+json": {
       "version_major": 2,
       "version_minor": 0,
       "model_id": "a6a58f2a97434c9e845d425a8da16205"
      }
     },
     "metadata": {},
     "output_type": "display_data"
    },
    {
     "data": {
      "text/plain": [
       "Downloading data:   0%|          | 0.00/730k [00:00<?, ?B/s]"
      ],
      "application/vnd.jupyter.widget-view+json": {
       "version_major": 2,
       "version_minor": 0,
       "model_id": "7caa094fa48044e6b46496d3dd8cbb1a"
      }
     },
     "metadata": {},
     "output_type": "display_data"
    },
    {
     "data": {
      "text/plain": [
       "Downloading data:   0%|          | 0.00/170k [00:00<?, ?B/s]"
      ],
      "application/vnd.jupyter.widget-view+json": {
       "version_major": 2,
       "version_minor": 0,
       "model_id": "d1201001d8bf483d89f8408d6a8d27c0"
      }
     },
     "metadata": {},
     "output_type": "display_data"
    },
    {
     "data": {
      "text/plain": [
       "Downloading data:   0%|          | 0.00/163k [00:00<?, ?B/s]"
      ],
      "application/vnd.jupyter.widget-view+json": {
       "version_major": 2,
       "version_minor": 0,
       "model_id": "6562ba5af06b49dda56cbf621686a262"
      }
     },
     "metadata": {},
     "output_type": "display_data"
    },
    {
     "data": {
      "text/plain": [
       "Generating train split:   0%|          | 0/2803 [00:00<?, ? examples/s]"
      ],
      "application/vnd.jupyter.widget-view+json": {
       "version_major": 2,
       "version_minor": 0,
       "model_id": "dedd4574c3ee47a69e9d37e8e7351424"
      }
     },
     "metadata": {},
     "output_type": "display_data"
    },
    {
     "data": {
      "text/plain": [
       "Generating validation split:   0%|          | 0/350 [00:00<?, ? examples/s]"
      ],
      "application/vnd.jupyter.widget-view+json": {
       "version_major": 2,
       "version_minor": 0,
       "model_id": "5ecfa133c71d4c18960ad5f789f6d220"
      }
     },
     "metadata": {},
     "output_type": "display_data"
    },
    {
     "data": {
      "text/plain": [
       "Generating test split:   0%|          | 0/351 [00:00<?, ? examples/s]"
      ],
      "application/vnd.jupyter.widget-view+json": {
       "version_major": 2,
       "version_minor": 0,
       "model_id": "66faa5e79fd64fd496cc077836d2ae09"
      }
     },
     "metadata": {},
     "output_type": "display_data"
    }
   ],
   "execution_count": 42
  },
  {
   "metadata": {
    "jupyter": {
     "is_executing": true
    },
    "ExecuteTime": {
     "start_time": "2024-07-25T20:44:14.729465Z"
    }
   },
   "cell_type": "code",
   "source": [
    "training_args = TrainingArguments(\n",
    "    output_dir=\"models\",\n",
    "    num_epochs=5,\n",
    "    use_amp=True,\n",
    "    batch_size=128,\n",
    "    evaluation_strategy=\"steps\",\n",
    "    eval_steps=50,\n",
    "    save_steps=50,\n",
    "    load_best_model_at_end=True,\n",
    ")\n",
    "\n",
    "trainer = AbsaTrainer(\n",
    "    model,\n",
    "    args=training_args,\n",
    "    train_dataset=train_dataset,\n",
    "    eval_dataset=val_dataset,\n",
    "    callbacks=[EarlyStoppingCallback(early_stopping_patience=5)],\n",
    ")\n",
    "trainer.train()"
   ],
   "id": "3f7db8089a7a5bf4",
   "outputs": [
    {
     "name": "stderr",
     "output_type": "stream",
     "text": [
      "The ordinal of 1 for span 'Mister Monday' in 'Mister Monday is an interesting Fantasy novel that draws readers in from the very beginning. The main character, Arthur is flawed and that is what makes him the \"chosen\" one for the Keys to the Kingdom. In this series starter, Arthur learns what power he has as he tries to determine how to live his life with this key that he has obtained and this house and little, scary fantasy creatures that no one else can see but him. Arthur starts to think he is losing it, but a few friends from his P. E. class see the creatures too, so Arthur apprehensively goes on his journey as the reluctant hero who is bound to find a way to save his community and family. This book along with Grim Tuesday will hook readers on this series. I can\\'t wait for the rest of the books in this series. Harry Potter lovers can definitely find a new love in this series' is too high. Skipping this sample.\n",
      "The ordinal of 2 for span 'Mister Monday' in \"Garth Nix's 'Mister Monday' was a highly clever, creative, and entertaining read that had me up into the wee hours of the morning following Arthur's adventures in the House. Arthur Penhaligon was a believable hero who after strange creatures called Fetchers bring a sleeply plague to his town, with his newly acquired key, Arthur must venture into the mysterious House that only he can see to save his town. Obviously, Nix wrote this book for a younger audience so his writing wasn't as. mature as it was in his brilliant Abhorsen trilogy. But the sheer imagination Nix brings to this book more than makes up for it. The intricate world of the House was highly entertaing and origional and Nix stuns me every time he writes a new story. 'Mister Monday' has everything a hugely popular series needs, loveable characters, a complex plot, and buckets loads of creativity. 'Grim Tuesday' is certainly going on my wish list!\" is too high. Skipping this sample.\n",
      "The ordinal of 1 for span 'novels' in \"THe last Poirot case was a heartbreaking affair. Anyway, Agatha Christie wrote one of the best Poirot novels ever. It seem she wrote it in the 40's, but in was only published in 1975. Great novel, the ever faithful Captain Arthur Hastings is narrating, and things go out with a bang\" is too high. Skipping this sample.\n",
      "The ordinal of 5 for span 'Monday' in \"Mr. Monday is interesting enough but to really enjoy you have to continue the series. I love Garth Nix's books but I did find Mr. Monday a little less interesting than the rest of his books. I finished the book and didn't really feel inclined to start the next one but when I did I couldn't stop reading. I went from book to book until I finished Lady Friday which had just been released that week. I spent the full $17 at Borders because I couldn't wait for the paper back or for the cheaper version to ship from amazon. The reason Mr. Monday is kinda of slow compared to the others in the series is because it is setting up the series and characters. It's a lot of information that informs and confuses at the same time. Like most of Nix's book series if you don't read the entire series you don't get all the questions answered. My advice to those interested in this series is A) read further after finishing this book and B) For those of you who prefer to ready fantasy that is based in this reality but has a twist to it (like Vampires, Werewolves, Harry Potter, etc. ) then stay away from this series because it beyond your imagination\" is too high. Skipping this sample.\n",
      "The ordinal of 4 for span 'Monday' in \"Mr. Monday is interesting enough but to really enjoy you have to continue the series. I love Garth Nix's books but I did find Mr. Monday a little less interesting than the rest of his books. I finished the book and didn't really feel inclined to start the next one but when I did I couldn't stop reading. I went from book to book until I finished Lady Friday which had just been released that week. I spent the full $17 at Borders because I couldn't wait for the paper back or for the cheaper version to ship from amazon. The reason Mr. Monday is kinda of slow compared to the others in the series is because it is setting up the series and characters. It's a lot of information that informs and confuses at the same time. Like most of Nix's book series if you don't read the entire series you don't get all the questions answered. My advice to those interested in this series is A) read further after finishing this book and B) For those of you who prefer to ready fantasy that is based in this reality but has a twist to it (like Vampires, Werewolves, Harry Potter, etc. ) then stay away from this series because it beyond your imagination\" is too high. Skipping this sample.\n",
      "The ordinal of 3 for span 'Monday' in \"Mr. Monday is interesting enough but to really enjoy you have to continue the series. I love Garth Nix's books but I did find Mr. Monday a little less interesting than the rest of his books. I finished the book and didn't really feel inclined to start the next one but when I did I couldn't stop reading. I went from book to book until I finished Lady Friday which had just been released that week. I spent the full $17 at Borders because I couldn't wait for the paper back or for the cheaper version to ship from amazon. The reason Mr. Monday is kinda of slow compared to the others in the series is because it is setting up the series and characters. It's a lot of information that informs and confuses at the same time. Like most of Nix's book series if you don't read the entire series you don't get all the questions answered. My advice to those interested in this series is A) read further after finishing this book and B) For those of you who prefer to ready fantasy that is based in this reality but has a twist to it (like Vampires, Werewolves, Harry Potter, etc. ) then stay away from this series because it beyond your imagination\" is too high. Skipping this sample.\n",
      "The ordinal of 3 for span 'The Last Temptation' in 'Val McDermid\\'s latest novel, \"The Last Temptation,\" is an ambitious undertaking. The author crosses geographical boundaries; her plot lines involve police forces in England, Holland and Germany. This novel also has numerous characters and several storylines that at first seem unrelated, but which eventually intersect. Carol Jordan is an ambitious Detective Chief Inspector who is well trained in criminal intelligence. Jordan has helped bring two serial killers to justice and she has paid her dues as a police officer. Now, she is aiming for a high-level job in British intelligence and analysis, and she is expecting a promotion to come through very soon. Much to her surprise, Jordan is not granted her promotion. Instead she is sent into deep undercover to bring down a notorious criminal named Tadeusz Radecki and his right hand man Darko Krasic, who are based in Germany. A second protagonist in \"The Last Temptation\" is Dr. Tony Hill, a psychologist who has been deeply scarred by his job of profiling serial killers. He is now on the trail of a criminal who targets psychologists and murders them in a particularly gruesome manner. Hill and Jordan have collaborated professionally in the past. As they work these difficult cases, Jordan and Hill provide one another with much needed advice and emotional support. McDermid handles her large cast of characters and a complex plot adroitly. Her dialogue is crisp and her descriptive writing is vivid yet understated. The author ratchets up the tension as the novel reaches its exciting denouement. Unfortunately, McDermid resorts to a pat ending, which strains believability. However, this quibble aside, I recommend \"The Last Temptation. \"  McDermid\\'s skill as a writer of fast-paced and well-crafted thrillers makes this new novel a \"must-read\" for fans of this genre' is too high. Skipping this sample.\n",
      "The ordinal of 1 for span 'Angela and Diabola' in \"Angela and Diabola is one of the best books I've ever read. A well written novel by Lynn Reid Banks weaves good and evil into a touching and unforgetable novel. The story is this: Mrs. Cuthbert is expecting a child, but has twins. One child is so   angelic, it's like a piece of heaven came. The other one so incredibily devilish,she frequently scares people. Angela helps, while Diabola hinders. The story is worked around how the sisters cope with other people, and each other. When finished, you will be so familiar with these characters, you will wish their was a second book!\" is too high. Skipping this sample.\n",
      "The ordinal of 5 for span 'Mister Monday' in \"Ahh. I wish I had never gotten this stupid key, it is the kiss of death, and has ruined my life. This thought races through Arthur's mind as he saves the world in Mister Monday. Arthur is put through a rigorous test of bravery and compassion to face the evil Mister Monday. In the story, Arthur receives a key that gives him the power he needs to defeat Mister Monday, the only problem is, he doesn't know whom Monday is, or anything about the strange world that Monday lives in. Arthur has to go to a foreign realm and defeat an enemy that has so much more power than he does, if Monday was a T-Rex then Arthur would be a blade of grass compared to him. Arthur's battle to save earth requires a level of bravery that he only imagines in his dreams. That is why the theme is bravery, Arthur has to summon a level of bravery that he can't, and through the story, he struggles to get this unknown bravery. Arthur ventures through the story finding the bravery he needs. Mister Monday is a phenomenal book that gets an excellent 10/10. This book wraps you up in the story; it sucks you into the pages like a black hole. You are transported through a mystical land that gets better as you proceed. That's why Mister Monday is so irresistible, and it's a great book not only for fantasy readers, but also for anyone looking for a great story\" is too high. Skipping this sample.\n",
      "The ordinal of 1 for span 'Mister Monday' in \"Mister Monday is one of the best books I have read in a long time. You immediately connect with Arthur-- he has his weaknesses (asthma and being too curious for his own good) and he has his strengths (his sense of duty, compassion, and courage). This book is jam-packed with many fantastical inventions that is purely Nix at his best. Dog-faced men, the Will, the Nightsweeper, and thousands more. I repeat: this is an extremely compelling read and you'll be hard-fixed to find anything as wonderfully written as this. Thank you and good night!\" is too high. Skipping this sample.\n",
      "The ordinal of 3 for span 'Mister Monday' in \"Mister Monday is a fantasy novel to the extreme, with many of the cliches that go along with the distinction. It often gets muddled with overwhelming imagery, perhaps to make up for a lack of plot from time to time. Although it is the literary equivalent of a cluttered desk, Mister Monday's images are rich, and will leave you wanting more. The characters do their job, i. e. you like the heroes and hate the villains, but I wish there were more to them. I was interested enough in the strange and original concept to read on to the next book, so I would venture to say that Mister Monday is definitely worth reading at least once\" is too high. Skipping this sample.\n",
      "The ordinal of 1 for span 'The Intruders' in 'I didn\\'t like it AS much as some of the other books from Marshall (loved Spares, Only Forward and One Of Us), but still a darn good read. Really hated to see the protagonist slipping in thoughts of not having another book in him, hope that\\'s not allegorical!. I do have a suggestion; if you\\'re a \"happy\" person and like to read \"happy happy\" books, Michael Marshall is probably NOT for you. His characters/story lines are dark, the segues can be hard to keep up with, and you\\'ll probably have to read the book at least twice to pick up on nuances you missed. The Intruders is no different in this regard, but that\\'s why its so much fun to read!  If you like to be mentally twisted up in a book, Marshall\\'s writing will accomodate you. He often comes across as being a great deal more about the sidebars/interactions/thoughts/situations than his actual endings. So, if you are looking for black and white/easy reads, he(and this book) is probably not going to be your cup of tea. This is coming from someone who likes both, so not slamming one genre over another. However, from reading a few of the reviews it seems like it might be good to say this upfront' is too high. Skipping this sample.\n",
      "The ordinal of 3 for span 'THE INTRUDERS' in 'I really enjoy Michael Marshall Smith\\'s writing style, and heartily recommend one of his earlier novels, THE STRAW MEN. But THE INTRUDERS is pretty much a middling effort, at least when it comes to the plot. The first half of this novel is certainly well written, but the plotline is disjointed and makes little sense. Smith keeps on shifting perspectives and deliberately keeps the reader off-balance. While some readers may enjoy this type of storytelling, I prefer novels with straightforward narratives. Smith tries to tie everything together toward the end, but his \"explanation\" is so silly and contrived that I felt cheated. In the end, I felt the whole story was pointless. THE INTRUDERS is further weakened by the lack of a truly likable character. While all the characters are intelligent, most of them are dour and anti-social. There are also too many characters to keep track of, and some of them are just stereotypical (the world-weary hit man for example). Still, Smith is a terrific writer of prose, one of the best out there in genre fiction. There are many passages in thsi novel that I re-read because I was struck by their cleverness and insight. I recommend THE INTRUDERS if you enjoy good writing, but if you want a great story, you should try THE STRAW MEN instead' is too high. Skipping this sample.\n",
      "The ordinal of 5 for span 'The Intruders' in 'The wife and teenage son of a Seattle-area scientist are brutally murdered by a stranger claiming to be an FBI agent, and the scientist himself is nowhere to be found. A short time later, a nine-year-old girl named Madison disappears from Oregon\\'s ethereal Cannon Beach while her inattentive mother, despondent over the deteriorating state of her marriage, dozes inside their beach cottage. But the tale of The Intruders truly begins when Jack Whalen, a former cop with a troubled past who has of late become an accidental author of sorts, gets an out-of-the-blue visit from Gary Fisher, a high school classmate he hasn\\'t seen in two decades, and one to whom he was only mildly acquainted -- making the seemingly impromptu reunion even more suspicious to a been-there-done-that kind of guy like Jack. Fisher, now a lawyer teetering precariously on the brink of something he himself is struggling to understand, has ostensibly come to ask for Jack\\'s opinion on an estate case he\\'s handling, owing to Jack\\'s past in law enforcement and their connection as former classmates. But, as always, there\\'s much more to the story. Fisher\\'s re-entrance into Jack\\'s life is the catalyst for massive change, and the chaos that has been loitering outside the Whalen home for the last few years has finally found its way inside. Suddenly, everything Jack thinks he knows about his life is being challenged, especially in regard to his ad-executive wife, Amy, whose recent behavior has become increasingly peculiar. Except for overuse of the words \"diffident\" and \"irresolute\" (a nitpick, to be sure), The Intruders succeeds as a thoroughly gripping and surprising creepy tale -- although, in the end, it left me with more questions than answers. I wanted to learn more about the Nine, a secret organization central to the tale\\'s mystery, and was left feeling a bit confused about certain key points to the story (namely a character who goes unidentified until the end). Plus, I wasn\\'t satisfied with the resolution between Jack and Amy, and thought it was a bit anticlimactic. And yet, that aside, The Intruders captivated me from the first horrifying chapter -- so much so, that I read it all in one night. The Intruders is a tale that will appeal to readers who want an engrossing thriller with other-worldly tones. If you\\'re geeky, as I am, then many of the ideas in the book will resonate with that part of you that believes -- or wants to -- in the things that go bump in the night. Just know that, whereas some books are a veritable feast for the mind that leave you filled to capacity for days, The Intruders is more like a frozen dinner: tasty, but not that satisfying' is too high. Skipping this sample.\n",
      "The ordinal of 2 for span 'Turbulent Priests' in \"Despite its cover 'Turbulent Priests' has little to do with bedraggled young women who smoke. It's actually a very cleverly plotted story about a young girl on a island off Ireland who is claimed to be the messiah. A reporter is sent out to chronicle events and, to no surprise, all is not what they appear to be. 'Turbulent Priests' is fresh and funny. It lamblasts both the (Catholic) church and Irish society in equal measure without taking it all too seriously. Only the most sensitive will be offended (. although much of the language is crude). I should also add that the book is rather Irish-centric. Folks from outside Ireland/Britain might not understand much of the verbage or the sarcastic humour. Bottom line: perhaps Colin Bateman's best book. No small praise\" is too high. Skipping this sample.\n",
      "The ordinal of 2 for span 'Mister Monday' in \"Another book by Garth Nix that changes the name of reading entirely! I've read the entire Seventh Tower series which was one big thriller, but Mister Monday is so compelling you can't put it down. I loved this book probably because I love every book I read but mostly because Garth Nix is an awesome author. Mister Monday is about a young boy named Arthur Penhaligon who must save his world from a plague but must go through the biggest dangers that he must overcome in another realm. The question is can he do it. I suggest this book for about every bookworm, people who like Garth Nix's books, and Fantasy lover out there. You won't be disapointed, and I mean it!\" is too high. Skipping this sample.\n",
      "The ordinal of 3 for span 'My Darling My Hamburger' in \"Book: My Darling My HamburgerAuthor: Paul ZindelNumber of Pages: 122Publisher and Publication Date: 1969 Harper and Row publishersISBN: 0-553-27324-8Price (if available) and whether it is paperback or hardback: Hardback \\t   Imagine if you had parents that never trusted, or that never would believe you. Or even worse what if you had a stepparent that would call u some pretty bad names and your mom would take his side. Well that is kind of what this book is about. \\tThe main characters in My Darling My Hamburger are two girls named Liz and Maggie. They are of course best friends. They are also both seniors in high school. It is about time for prom and they both have dates. But you'll never guess what happens next!!!\\tI think that this book is a really good book. Personal I loved My Darling My Hamburger. It has a really good moral. It was just like a real story. Everything in this book is based on what is happening in real life. That is just my opinion. \\t When I read this book it reminded me of one of my friends sister. She has just graduated and basically the same thing that has happened to one of the girls in this story. I am not going to tell you the rest but I guess that you will just have to read and find out for your self. \\tI would definitely recommend this book to People in 6th-9th grade. The main gender that would want to read this book would be girls because of what the story is based on and because they can relate to it the best. The people that wouldn't like this would be boys. Why? Because of what it is about. \\tIf you really want to know what happens then I guess that you will just have to read and find out what happen next\" is too high. Skipping this sample.\n",
      "huggingface/tokenizers: The current process just got forked, after parallelism has already been used. Disabling parallelism to avoid deadlocks...\n",
      "To disable this warning, you can either:\n",
      "\t- Avoid using `tokenizers` before the fork if possible\n",
      "\t- Explicitly set the environment variable TOKENIZERS_PARALLELISM=(true | false)\n",
      "huggingface/tokenizers: The current process just got forked, after parallelism has already been used. Disabling parallelism to avoid deadlocks...\n",
      "To disable this warning, you can either:\n",
      "\t- Avoid using `tokenizers` before the fork if possible\n",
      "\t- Explicitly set the environment variable TOKENIZERS_PARALLELISM=(true | false)\n"
     ]
    },
    {
     "data": {
      "text/plain": [
       "Map:   0%|          | 0/11148 [00:00<?, ? examples/s]"
      ],
      "application/vnd.jupyter.widget-view+json": {
       "version_major": 2,
       "version_minor": 0,
       "model_id": "2bafb6e5f8264b37be35de0fc565a435"
      }
     },
     "metadata": {},
     "output_type": "display_data"
    },
    {
     "data": {
      "text/plain": [
       "Map:   0%|          | 0/2710 [00:00<?, ? examples/s]"
      ],
      "application/vnd.jupyter.widget-view+json": {
       "version_major": 2,
       "version_minor": 0,
       "model_id": "83a3b2eb94f346a19f984bfdf9120f82"
      }
     },
     "metadata": {},
     "output_type": "display_data"
    }
   ],
   "execution_count": null
  },
  {
   "metadata": {},
   "cell_type": "code",
   "outputs": [],
   "execution_count": null,
   "source": [
    "metrics = trainer.evaluate(val_dataset)\n",
    "print(metrics)"
   ],
   "id": "41f5bb6280b74e9"
  },
  {
   "metadata": {},
   "cell_type": "code",
   "outputs": [],
   "execution_count": null,
   "source": [
    "model.save_pretrained(\n",
    "    \"models/setfit-absa-model-aspect\",\n",
    "    \"models/setfit-absa-model-polarity\",\n",
    ")\n",
    "# or\n",
    "model.push_to_hub(\n",
    "    \"tomaarsen/setfit-absa-bge-small-en-v1.5-restaurants-aspect\",\n",
    "    \"tomaarsen/setfit-absa-bge-small-en-v1.5-restaurants-polarity\",\n",
    ")\n"
   ],
   "id": "11fe32148ff670b"
  }
 ],
 "metadata": {
  "kernelspec": {
   "display_name": "Python 3",
   "language": "python",
   "name": "python3"
  },
  "language_info": {
   "codemirror_mode": {
    "name": "ipython",
    "version": 2
   },
   "file_extension": ".py",
   "mimetype": "text/x-python",
   "name": "python",
   "nbconvert_exporter": "python",
   "pygments_lexer": "ipython2",
   "version": "2.7.6"
  }
 },
 "nbformat": 4,
 "nbformat_minor": 5
}
