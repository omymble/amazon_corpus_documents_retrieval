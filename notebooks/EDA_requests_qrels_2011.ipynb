{
 "cells": [
  {
   "cell_type": "code",
   "execution_count": 14,
   "id": "initial_id",
   "metadata": {
    "collapsed": true,
    "ExecuteTime": {
     "end_time": "2024-07-18T08:47:12.173399Z",
     "start_time": "2024-07-18T08:47:12.170291Z"
    }
   },
   "outputs": [],
   "source": [
    "import pandas as pd\n",
    "\n",
    "from config.config import *"
   ]
  },
  {
   "cell_type": "code",
   "outputs": [],
   "source": [
    "requests_df = pd.read_pickle(os.path.join(OBTAINED_DATA, 'requests2011.pkl'))\n",
    "qrels_df = pd.read_pickle(os.path.join(OBTAINED_DATA, 'qrels2011.pkl'))\n"
   ],
   "metadata": {
    "collapsed": false,
    "ExecuteTime": {
     "end_time": "2024-07-18T11:44:34.236092Z",
     "start_time": "2024-07-18T11:44:34.230300Z"
    }
   },
   "id": "2c934d0ed8f79923",
   "execution_count": 29
  },
  {
   "cell_type": "code",
   "outputs": [
    {
     "data": {
      "text/plain": "                                                request  \\\nid                                                        \n74    Los Angeles Loves Librarything Message Board. ...   \n399   Cakes. For all Cake related posts! Favorite ca...   \n530   From a historical scholarly perspective, \"Why ...   \n812   Schumann Biography. Does anyone have a recomme...   \n1116  Which LISP? It'll be time for me to shake thin...   \n\n                                       group      types  \\\nid                                                        \n74            Los Angeles Loves Librarything  [subject]   \n399                            Sweet Treats!  [subject]   \n530                         Biblical History  [subject]   \n812   Music History, Performance, and Theory  [subject]   \n1116                      Purely Programmers  [subject]   \n\n                                                 genres specificity  \\\nid                                                                    \n74                                  [literature, prose]       broad   \n399               [technology, home economics, cooking]      narrow   \n530                                           [history]      narrow   \n812                                         [biography]      narrow   \n1116  [science, mathematics, computer science, progr...      narrow   \n\n     similar_isbn similar_author dissimilar_isbn dissimilar_author  \nid                                                                  \n74             []             []              []                []  \n399            []             []              []                []  \n530            []             []              []                []  \n812            []             []              []                []  \n1116           []             []              []                []  ",
      "text/html": "<div>\n<style scoped>\n    .dataframe tbody tr th:only-of-type {\n        vertical-align: middle;\n    }\n\n    .dataframe tbody tr th {\n        vertical-align: top;\n    }\n\n    .dataframe thead th {\n        text-align: right;\n    }\n</style>\n<table border=\"1\" class=\"dataframe\">\n  <thead>\n    <tr style=\"text-align: right;\">\n      <th></th>\n      <th>request</th>\n      <th>group</th>\n      <th>types</th>\n      <th>genres</th>\n      <th>specificity</th>\n      <th>similar_isbn</th>\n      <th>similar_author</th>\n      <th>dissimilar_isbn</th>\n      <th>dissimilar_author</th>\n    </tr>\n    <tr>\n      <th>id</th>\n      <th></th>\n      <th></th>\n      <th></th>\n      <th></th>\n      <th></th>\n      <th></th>\n      <th></th>\n      <th></th>\n      <th></th>\n    </tr>\n  </thead>\n  <tbody>\n    <tr>\n      <th>74</th>\n      <td>Los Angeles Loves Librarything Message Board. ...</td>\n      <td>Los Angeles Loves Librarything</td>\n      <td>[subject]</td>\n      <td>[literature, prose]</td>\n      <td>broad</td>\n      <td>[]</td>\n      <td>[]</td>\n      <td>[]</td>\n      <td>[]</td>\n    </tr>\n    <tr>\n      <th>399</th>\n      <td>Cakes. For all Cake related posts! Favorite ca...</td>\n      <td>Sweet Treats!</td>\n      <td>[subject]</td>\n      <td>[technology, home economics, cooking]</td>\n      <td>narrow</td>\n      <td>[]</td>\n      <td>[]</td>\n      <td>[]</td>\n      <td>[]</td>\n    </tr>\n    <tr>\n      <th>530</th>\n      <td>From a historical scholarly perspective, \"Why ...</td>\n      <td>Biblical History</td>\n      <td>[subject]</td>\n      <td>[history]</td>\n      <td>narrow</td>\n      <td>[]</td>\n      <td>[]</td>\n      <td>[]</td>\n      <td>[]</td>\n    </tr>\n    <tr>\n      <th>812</th>\n      <td>Schumann Biography. Does anyone have a recomme...</td>\n      <td>Music History, Performance, and Theory</td>\n      <td>[subject]</td>\n      <td>[biography]</td>\n      <td>narrow</td>\n      <td>[]</td>\n      <td>[]</td>\n      <td>[]</td>\n      <td>[]</td>\n    </tr>\n    <tr>\n      <th>1116</th>\n      <td>Which LISP? It'll be time for me to shake thin...</td>\n      <td>Purely Programmers</td>\n      <td>[subject]</td>\n      <td>[science, mathematics, computer science, progr...</td>\n      <td>narrow</td>\n      <td>[]</td>\n      <td>[]</td>\n      <td>[]</td>\n      <td>[]</td>\n    </tr>\n  </tbody>\n</table>\n</div>"
     },
     "execution_count": 16,
     "metadata": {},
     "output_type": "execute_result"
    }
   ],
   "source": [
    "requests_df.head()"
   ],
   "metadata": {
    "collapsed": false,
    "ExecuteTime": {
     "end_time": "2024-07-18T08:47:14.339698Z",
     "start_time": "2024-07-18T08:47:14.331324Z"
    }
   },
   "id": "414f7caafb499186",
   "execution_count": 16
  },
  {
   "cell_type": "code",
   "outputs": [
    {
     "data": {
      "text/plain": "                                                  request         group  \\\ncount                                                 211           211   \nunique                                                209           122   \ntop     Japanese Self-Instruction. I would love to lea...  History Fans   \nfreq                                                    2             7   \n\n            types               genres specificity similar_isbn  \\\ncount         211                  211         211          211   \nunique         13                   85           2           55   \ntop     [subject]  [literature, prose]      narrow           []   \nfreq          134                   34         177          156   \n\n       similar_author dissimilar_isbn dissimilar_author  \ncount             211             211               211  \nunique             11               8                 3  \ntop                []              []                []  \nfreq              201             204               209  ",
      "text/html": "<div>\n<style scoped>\n    .dataframe tbody tr th:only-of-type {\n        vertical-align: middle;\n    }\n\n    .dataframe tbody tr th {\n        vertical-align: top;\n    }\n\n    .dataframe thead th {\n        text-align: right;\n    }\n</style>\n<table border=\"1\" class=\"dataframe\">\n  <thead>\n    <tr style=\"text-align: right;\">\n      <th></th>\n      <th>request</th>\n      <th>group</th>\n      <th>types</th>\n      <th>genres</th>\n      <th>specificity</th>\n      <th>similar_isbn</th>\n      <th>similar_author</th>\n      <th>dissimilar_isbn</th>\n      <th>dissimilar_author</th>\n    </tr>\n  </thead>\n  <tbody>\n    <tr>\n      <th>count</th>\n      <td>211</td>\n      <td>211</td>\n      <td>211</td>\n      <td>211</td>\n      <td>211</td>\n      <td>211</td>\n      <td>211</td>\n      <td>211</td>\n      <td>211</td>\n    </tr>\n    <tr>\n      <th>unique</th>\n      <td>209</td>\n      <td>122</td>\n      <td>13</td>\n      <td>85</td>\n      <td>2</td>\n      <td>55</td>\n      <td>11</td>\n      <td>8</td>\n      <td>3</td>\n    </tr>\n    <tr>\n      <th>top</th>\n      <td>Japanese Self-Instruction. I would love to lea...</td>\n      <td>History Fans</td>\n      <td>[subject]</td>\n      <td>[literature, prose]</td>\n      <td>narrow</td>\n      <td>[]</td>\n      <td>[]</td>\n      <td>[]</td>\n      <td>[]</td>\n    </tr>\n    <tr>\n      <th>freq</th>\n      <td>2</td>\n      <td>7</td>\n      <td>134</td>\n      <td>34</td>\n      <td>177</td>\n      <td>156</td>\n      <td>201</td>\n      <td>204</td>\n      <td>209</td>\n    </tr>\n  </tbody>\n</table>\n</div>"
     },
     "execution_count": 17,
     "metadata": {},
     "output_type": "execute_result"
    }
   ],
   "source": [
    "requests_df.describe()"
   ],
   "metadata": {
    "collapsed": false,
    "ExecuteTime": {
     "end_time": "2024-07-18T08:47:15.499358Z",
     "start_time": "2024-07-18T08:47:15.489865Z"
    }
   },
   "id": "324e20e389699ec2",
   "execution_count": 17
  },
  {
   "cell_type": "code",
   "outputs": [
    {
     "name": "stdout",
     "output_type": "stream",
     "text": [
      "<class 'pandas.core.frame.DataFrame'>\n",
      "Index: 211 entries, 74 to 113543\n",
      "Data columns (total 9 columns):\n",
      " #   Column             Non-Null Count  Dtype \n",
      "---  ------             --------------  ----- \n",
      " 0   request            211 non-null    object\n",
      " 1   group              211 non-null    object\n",
      " 2   types              211 non-null    object\n",
      " 3   genres             211 non-null    object\n",
      " 4   specificity        211 non-null    object\n",
      " 5   similar_isbn       211 non-null    object\n",
      " 6   similar_author     211 non-null    object\n",
      " 7   dissimilar_isbn    211 non-null    object\n",
      " 8   dissimilar_author  211 non-null    object\n",
      "dtypes: object(9)\n",
      "memory usage: 16.5+ KB\n"
     ]
    }
   ],
   "source": [
    "requests_df.info()"
   ],
   "metadata": {
    "collapsed": false,
    "ExecuteTime": {
     "end_time": "2024-07-18T08:47:17.312322Z",
     "start_time": "2024-07-18T08:47:17.305077Z"
    }
   },
   "id": "4ac6c3598fce2e01",
   "execution_count": 18
  },
  {
   "cell_type": "code",
   "outputs": [
    {
     "data": {
      "text/plain": "                                                 request  \\\nid                                                         \n75157  Japanese Self-Instruction. I would love to lea...   \n75158  Japanese Self-Instruction. I would love to lea...   \n82545  Books on Thomas Jefferson. I'm starting a Jeff...   \n82546  Books on Thomas Jefferson. I'm starting a Jeff...   \n\n                                                group      types  \\\nid                                                                 \n75157                     Asian Fiction & Non-Fiction  [subject]   \n75158                                Japanese Culture  [subject]   \n82545  American Revolution & Founding Fathers History  [subject]   \n82546                                    History Fans  [subject]   \n\n                        genres specificity  \\\nid                                           \n75157  [education linguistics]      narrow   \n75158  [education linguistics]      narrow   \n82545      [history biography]      narrow   \n82546      [history biography]      narrow   \n\n                                            similar_isbn similar_author  \\\nid                                                                        \n75157                                                 []             []   \n75158                                                 []             []   \n82545  [0743508084, 0819157821, 0813910781, 081391365...             []   \n82546  [0743508084, 0819157821, 0813910781, 081391365...             []   \n\n      dissimilar_isbn dissimilar_author  \nid                                       \n75157              []                []  \n75158              []                []  \n82545              []                []  \n82546              []                []  ",
      "text/html": "<div>\n<style scoped>\n    .dataframe tbody tr th:only-of-type {\n        vertical-align: middle;\n    }\n\n    .dataframe tbody tr th {\n        vertical-align: top;\n    }\n\n    .dataframe thead th {\n        text-align: right;\n    }\n</style>\n<table border=\"1\" class=\"dataframe\">\n  <thead>\n    <tr style=\"text-align: right;\">\n      <th></th>\n      <th>request</th>\n      <th>group</th>\n      <th>types</th>\n      <th>genres</th>\n      <th>specificity</th>\n      <th>similar_isbn</th>\n      <th>similar_author</th>\n      <th>dissimilar_isbn</th>\n      <th>dissimilar_author</th>\n    </tr>\n    <tr>\n      <th>id</th>\n      <th></th>\n      <th></th>\n      <th></th>\n      <th></th>\n      <th></th>\n      <th></th>\n      <th></th>\n      <th></th>\n      <th></th>\n    </tr>\n  </thead>\n  <tbody>\n    <tr>\n      <th>75157</th>\n      <td>Japanese Self-Instruction. I would love to lea...</td>\n      <td>Asian Fiction &amp; Non-Fiction</td>\n      <td>[subject]</td>\n      <td>[education linguistics]</td>\n      <td>narrow</td>\n      <td>[]</td>\n      <td>[]</td>\n      <td>[]</td>\n      <td>[]</td>\n    </tr>\n    <tr>\n      <th>75158</th>\n      <td>Japanese Self-Instruction. I would love to lea...</td>\n      <td>Japanese Culture</td>\n      <td>[subject]</td>\n      <td>[education linguistics]</td>\n      <td>narrow</td>\n      <td>[]</td>\n      <td>[]</td>\n      <td>[]</td>\n      <td>[]</td>\n    </tr>\n    <tr>\n      <th>82545</th>\n      <td>Books on Thomas Jefferson. I'm starting a Jeff...</td>\n      <td>American Revolution &amp; Founding Fathers History</td>\n      <td>[subject]</td>\n      <td>[history biography]</td>\n      <td>narrow</td>\n      <td>[0743508084, 0819157821, 0813910781, 081391365...</td>\n      <td>[]</td>\n      <td>[]</td>\n      <td>[]</td>\n    </tr>\n    <tr>\n      <th>82546</th>\n      <td>Books on Thomas Jefferson. I'm starting a Jeff...</td>\n      <td>History Fans</td>\n      <td>[subject]</td>\n      <td>[history biography]</td>\n      <td>narrow</td>\n      <td>[0743508084, 0819157821, 0813910781, 081391365...</td>\n      <td>[]</td>\n      <td>[]</td>\n      <td>[]</td>\n    </tr>\n  </tbody>\n</table>\n</div>"
     },
     "execution_count": 19,
     "metadata": {},
     "output_type": "execute_result"
    }
   ],
   "source": [
    "requests_df[requests_df.duplicated('request', keep=False)]"
   ],
   "metadata": {
    "collapsed": false,
    "ExecuteTime": {
     "end_time": "2024-07-18T08:47:24.828610Z",
     "start_time": "2024-07-18T08:47:24.817323Z"
    }
   },
   "id": "9f125450f7f93211",
   "execution_count": 19
  },
  {
   "cell_type": "code",
   "outputs": [
    {
     "name": "stdout",
     "output_type": "stream",
     "text": [
      "<class 'pandas.core.frame.DataFrame'>\n",
      "RangeIndex: 10179 entries, 0 to 10178\n",
      "Data columns (total 3 columns):\n",
      " #   Column     Non-Null Count  Dtype\n",
      "---  ------     --------------  -----\n",
      " 0   topic      10179 non-null  int64\n",
      " 1   doc_id     10179 non-null  int64\n",
      " 2   relevance  10179 non-null  int64\n",
      "dtypes: int64(3)\n",
      "memory usage: 238.7 KB\n"
     ]
    }
   ],
   "source": [
    "qrels_df.info()"
   ],
   "metadata": {
    "collapsed": false,
    "ExecuteTime": {
     "end_time": "2024-07-18T08:59:58.737212Z",
     "start_time": "2024-07-18T08:59:58.730942Z"
    }
   },
   "id": "e899026824635d60",
   "execution_count": 26
  },
  {
   "cell_type": "code",
   "outputs": [
    {
     "data": {
      "text/plain": "   topic     doc_id  relevance\n0     74  822942542          1\n1     74  822959399          1\n2    399  307236722          1\n3    399  333511824          1\n4    399  333511832          1",
      "text/html": "<div>\n<style scoped>\n    .dataframe tbody tr th:only-of-type {\n        vertical-align: middle;\n    }\n\n    .dataframe tbody tr th {\n        vertical-align: top;\n    }\n\n    .dataframe thead th {\n        text-align: right;\n    }\n</style>\n<table border=\"1\" class=\"dataframe\">\n  <thead>\n    <tr style=\"text-align: right;\">\n      <th></th>\n      <th>topic</th>\n      <th>doc_id</th>\n      <th>relevance</th>\n    </tr>\n  </thead>\n  <tbody>\n    <tr>\n      <th>0</th>\n      <td>74</td>\n      <td>822942542</td>\n      <td>1</td>\n    </tr>\n    <tr>\n      <th>1</th>\n      <td>74</td>\n      <td>822959399</td>\n      <td>1</td>\n    </tr>\n    <tr>\n      <th>2</th>\n      <td>399</td>\n      <td>307236722</td>\n      <td>1</td>\n    </tr>\n    <tr>\n      <th>3</th>\n      <td>399</td>\n      <td>333511824</td>\n      <td>1</td>\n    </tr>\n    <tr>\n      <th>4</th>\n      <td>399</td>\n      <td>333511832</td>\n      <td>1</td>\n    </tr>\n  </tbody>\n</table>\n</div>"
     },
     "execution_count": 27,
     "metadata": {},
     "output_type": "execute_result"
    }
   ],
   "source": [
    "qrels_df.head()"
   ],
   "metadata": {
    "collapsed": false,
    "ExecuteTime": {
     "end_time": "2024-07-18T09:00:08.883076Z",
     "start_time": "2024-07-18T09:00:08.879287Z"
    }
   },
   "id": "750d5a58248b2118",
   "execution_count": 27
  },
  {
   "cell_type": "code",
   "outputs": [
    {
     "data": {
      "text/plain": "               topic        doc_id  relevance\ncount   10179.000000  1.017900e+04    10179.0\nmean    50573.998330  6.811581e+08        1.0\nstd     35788.044034  4.964022e+08        0.0\nmin        74.000000  1.046233e+06        1.0\n25%     19694.000000  3.407210e+08        1.0\n50%     41563.000000  5.635583e+08        1.0\n75%     84865.000000  8.161465e+08        1.0\nmax    113543.000000  1.934997e+09        1.0",
      "text/html": "<div>\n<style scoped>\n    .dataframe tbody tr th:only-of-type {\n        vertical-align: middle;\n    }\n\n    .dataframe tbody tr th {\n        vertical-align: top;\n    }\n\n    .dataframe thead th {\n        text-align: right;\n    }\n</style>\n<table border=\"1\" class=\"dataframe\">\n  <thead>\n    <tr style=\"text-align: right;\">\n      <th></th>\n      <th>topic</th>\n      <th>doc_id</th>\n      <th>relevance</th>\n    </tr>\n  </thead>\n  <tbody>\n    <tr>\n      <th>count</th>\n      <td>10179.000000</td>\n      <td>1.017900e+04</td>\n      <td>10179.0</td>\n    </tr>\n    <tr>\n      <th>mean</th>\n      <td>50573.998330</td>\n      <td>6.811581e+08</td>\n      <td>1.0</td>\n    </tr>\n    <tr>\n      <th>std</th>\n      <td>35788.044034</td>\n      <td>4.964022e+08</td>\n      <td>0.0</td>\n    </tr>\n    <tr>\n      <th>min</th>\n      <td>74.000000</td>\n      <td>1.046233e+06</td>\n      <td>1.0</td>\n    </tr>\n    <tr>\n      <th>25%</th>\n      <td>19694.000000</td>\n      <td>3.407210e+08</td>\n      <td>1.0</td>\n    </tr>\n    <tr>\n      <th>50%</th>\n      <td>41563.000000</td>\n      <td>5.635583e+08</td>\n      <td>1.0</td>\n    </tr>\n    <tr>\n      <th>75%</th>\n      <td>84865.000000</td>\n      <td>8.161465e+08</td>\n      <td>1.0</td>\n    </tr>\n    <tr>\n      <th>max</th>\n      <td>113543.000000</td>\n      <td>1.934997e+09</td>\n      <td>1.0</td>\n    </tr>\n  </tbody>\n</table>\n</div>"
     },
     "execution_count": 28,
     "metadata": {},
     "output_type": "execute_result"
    }
   ],
   "source": [
    "qrels_df.describe()"
   ],
   "metadata": {
    "collapsed": false,
    "ExecuteTime": {
     "end_time": "2024-07-18T09:00:24.398780Z",
     "start_time": "2024-07-18T09:00:24.391266Z"
    }
   },
   "id": "f62382995c42ad6d",
   "execution_count": 28
  },
  {
   "cell_type": "code",
   "outputs": [],
   "source": [],
   "metadata": {
    "collapsed": false
   },
   "id": "47a5d8dc4e5c7d85"
  }
 ],
 "metadata": {
  "kernelspec": {
   "display_name": "Python 3",
   "language": "python",
   "name": "python3"
  },
  "language_info": {
   "codemirror_mode": {
    "name": "ipython",
    "version": 2
   },
   "file_extension": ".py",
   "mimetype": "text/x-python",
   "name": "python",
   "nbconvert_exporter": "python",
   "pygments_lexer": "ipython2",
   "version": "2.7.6"
  }
 },
 "nbformat": 4,
 "nbformat_minor": 5
}
