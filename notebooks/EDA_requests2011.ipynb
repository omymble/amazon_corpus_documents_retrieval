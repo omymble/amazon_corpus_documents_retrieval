{
 "cells": [
  {
   "cell_type": "code",
   "execution_count": 6,
   "id": "initial_id",
   "metadata": {
    "collapsed": true,
    "ExecuteTime": {
     "end_time": "2024-07-17T21:07:53.145797Z",
     "start_time": "2024-07-17T21:07:53.141641Z"
    }
   },
   "outputs": [],
   "source": [
    "import pandas as pd\n",
    "\n",
    "from config.config import *"
   ]
  },
  {
   "cell_type": "code",
   "outputs": [],
   "source": [
    "requests_df = pd.read_pickle(os.path.join(OBTAINED_DATA, 'requests2011.pkl'))"
   ],
   "metadata": {
    "collapsed": false,
    "ExecuteTime": {
     "end_time": "2024-07-17T21:07:54.146683Z",
     "start_time": "2024-07-17T21:07:54.141238Z"
    }
   },
   "id": "2c934d0ed8f79923",
   "execution_count": 7
  },
  {
   "cell_type": "code",
   "outputs": [
    {
     "data": {
      "text/plain": "                                                request  \\\nid                                                        \n74    Los Angeles Loves Librarything Message Board. ...   \n399   Cakes. For all Cake related posts! Favorite ca...   \n530   From a historical scholarly perspective, \"Why ...   \n812   Schumann Biography. Does anyone have a recomme...   \n1116  Which LISP? It'll be time for me to shake thin...   \n\n                                       group      types  \\\nid                                                        \n74            Los Angeles Loves Librarything  [subject]   \n399                            Sweet Treats!  [subject]   \n530                         Biblical History  [subject]   \n812   Music History, Performance, and Theory  [subject]   \n1116                      Purely Programmers  [subject]   \n\n                                                 genres specificity  \\\nid                                                                    \n74                                  [literature, prose]       broad   \n399               [technology, home economics, cooking]      narrow   \n530                                           [history]      narrow   \n812                                         [biography]      narrow   \n1116  [science, mathematics, computer science, progr...      narrow   \n\n     similar_isbn similar_author dissimilar_isbn dissimilar_author  \nid                                                                  \n74             []             []              []                []  \n399            []             []              []                []  \n530            []             []              []                []  \n812            []             []              []                []  \n1116           []             []              []                []  ",
      "text/html": "<div>\n<style scoped>\n    .dataframe tbody tr th:only-of-type {\n        vertical-align: middle;\n    }\n\n    .dataframe tbody tr th {\n        vertical-align: top;\n    }\n\n    .dataframe thead th {\n        text-align: right;\n    }\n</style>\n<table border=\"1\" class=\"dataframe\">\n  <thead>\n    <tr style=\"text-align: right;\">\n      <th></th>\n      <th>request</th>\n      <th>group</th>\n      <th>types</th>\n      <th>genres</th>\n      <th>specificity</th>\n      <th>similar_isbn</th>\n      <th>similar_author</th>\n      <th>dissimilar_isbn</th>\n      <th>dissimilar_author</th>\n    </tr>\n    <tr>\n      <th>id</th>\n      <th></th>\n      <th></th>\n      <th></th>\n      <th></th>\n      <th></th>\n      <th></th>\n      <th></th>\n      <th></th>\n      <th></th>\n    </tr>\n  </thead>\n  <tbody>\n    <tr>\n      <th>74</th>\n      <td>Los Angeles Loves Librarything Message Board. ...</td>\n      <td>Los Angeles Loves Librarything</td>\n      <td>[subject]</td>\n      <td>[literature, prose]</td>\n      <td>broad</td>\n      <td>[]</td>\n      <td>[]</td>\n      <td>[]</td>\n      <td>[]</td>\n    </tr>\n    <tr>\n      <th>399</th>\n      <td>Cakes. For all Cake related posts! Favorite ca...</td>\n      <td>Sweet Treats!</td>\n      <td>[subject]</td>\n      <td>[technology, home economics, cooking]</td>\n      <td>narrow</td>\n      <td>[]</td>\n      <td>[]</td>\n      <td>[]</td>\n      <td>[]</td>\n    </tr>\n    <tr>\n      <th>530</th>\n      <td>From a historical scholarly perspective, \"Why ...</td>\n      <td>Biblical History</td>\n      <td>[subject]</td>\n      <td>[history]</td>\n      <td>narrow</td>\n      <td>[]</td>\n      <td>[]</td>\n      <td>[]</td>\n      <td>[]</td>\n    </tr>\n    <tr>\n      <th>812</th>\n      <td>Schumann Biography. Does anyone have a recomme...</td>\n      <td>Music History, Performance, and Theory</td>\n      <td>[subject]</td>\n      <td>[biography]</td>\n      <td>narrow</td>\n      <td>[]</td>\n      <td>[]</td>\n      <td>[]</td>\n      <td>[]</td>\n    </tr>\n    <tr>\n      <th>1116</th>\n      <td>Which LISP? It'll be time for me to shake thin...</td>\n      <td>Purely Programmers</td>\n      <td>[subject]</td>\n      <td>[science, mathematics, computer science, progr...</td>\n      <td>narrow</td>\n      <td>[]</td>\n      <td>[]</td>\n      <td>[]</td>\n      <td>[]</td>\n    </tr>\n  </tbody>\n</table>\n</div>"
     },
     "execution_count": 8,
     "metadata": {},
     "output_type": "execute_result"
    }
   ],
   "source": [
    "requests_df.head()"
   ],
   "metadata": {
    "collapsed": false,
    "ExecuteTime": {
     "end_time": "2024-07-17T21:07:55.265132Z",
     "start_time": "2024-07-17T21:07:55.250730Z"
    }
   },
   "id": "414f7caafb499186",
   "execution_count": 8
  },
  {
   "cell_type": "code",
   "outputs": [
    {
     "data": {
      "text/plain": "                                                  request         group  \\\ncount                                                 211           211   \nunique                                                209           122   \ntop     Japanese Self-Instruction. I would love to lea...  History Fans   \nfreq                                                    2             7   \n\n            types               genres specificity similar_isbn  \\\ncount         211                  211         211          211   \nunique         13                   85           2           55   \ntop     [subject]  [literature, prose]      narrow           []   \nfreq          134                   34         177          156   \n\n       similar_author dissimilar_isbn dissimilar_author  \ncount             211             211               211  \nunique             11               8                 3  \ntop                []              []                []  \nfreq              201             204               209  ",
      "text/html": "<div>\n<style scoped>\n    .dataframe tbody tr th:only-of-type {\n        vertical-align: middle;\n    }\n\n    .dataframe tbody tr th {\n        vertical-align: top;\n    }\n\n    .dataframe thead th {\n        text-align: right;\n    }\n</style>\n<table border=\"1\" class=\"dataframe\">\n  <thead>\n    <tr style=\"text-align: right;\">\n      <th></th>\n      <th>request</th>\n      <th>group</th>\n      <th>types</th>\n      <th>genres</th>\n      <th>specificity</th>\n      <th>similar_isbn</th>\n      <th>similar_author</th>\n      <th>dissimilar_isbn</th>\n      <th>dissimilar_author</th>\n    </tr>\n  </thead>\n  <tbody>\n    <tr>\n      <th>count</th>\n      <td>211</td>\n      <td>211</td>\n      <td>211</td>\n      <td>211</td>\n      <td>211</td>\n      <td>211</td>\n      <td>211</td>\n      <td>211</td>\n      <td>211</td>\n    </tr>\n    <tr>\n      <th>unique</th>\n      <td>209</td>\n      <td>122</td>\n      <td>13</td>\n      <td>85</td>\n      <td>2</td>\n      <td>55</td>\n      <td>11</td>\n      <td>8</td>\n      <td>3</td>\n    </tr>\n    <tr>\n      <th>top</th>\n      <td>Japanese Self-Instruction. I would love to lea...</td>\n      <td>History Fans</td>\n      <td>[subject]</td>\n      <td>[literature, prose]</td>\n      <td>narrow</td>\n      <td>[]</td>\n      <td>[]</td>\n      <td>[]</td>\n      <td>[]</td>\n    </tr>\n    <tr>\n      <th>freq</th>\n      <td>2</td>\n      <td>7</td>\n      <td>134</td>\n      <td>34</td>\n      <td>177</td>\n      <td>156</td>\n      <td>201</td>\n      <td>204</td>\n      <td>209</td>\n    </tr>\n  </tbody>\n</table>\n</div>"
     },
     "execution_count": 9,
     "metadata": {},
     "output_type": "execute_result"
    }
   ],
   "source": [
    "requests_df.describe()"
   ],
   "metadata": {
    "collapsed": false,
    "ExecuteTime": {
     "end_time": "2024-07-17T21:08:04.804772Z",
     "start_time": "2024-07-17T21:08:04.790878Z"
    }
   },
   "id": "324e20e389699ec2",
   "execution_count": 9
  },
  {
   "cell_type": "code",
   "outputs": [
    {
     "name": "stdout",
     "output_type": "stream",
     "text": [
      "<class 'pandas.core.frame.DataFrame'>\n",
      "Index: 211 entries, 74 to 113543\n",
      "Data columns (total 9 columns):\n",
      " #   Column             Non-Null Count  Dtype \n",
      "---  ------             --------------  ----- \n",
      " 0   request            211 non-null    object\n",
      " 1   group              211 non-null    object\n",
      " 2   types              211 non-null    object\n",
      " 3   genres             211 non-null    object\n",
      " 4   specificity        211 non-null    object\n",
      " 5   similar_isbn       211 non-null    object\n",
      " 6   similar_author     211 non-null    object\n",
      " 7   dissimilar_isbn    211 non-null    object\n",
      " 8   dissimilar_author  211 non-null    object\n",
      "dtypes: object(9)\n",
      "memory usage: 24.6+ KB\n"
     ]
    }
   ],
   "source": [
    "requests_df.info()"
   ],
   "metadata": {
    "collapsed": false,
    "ExecuteTime": {
     "end_time": "2024-07-17T21:12:03.539479Z",
     "start_time": "2024-07-17T21:12:03.530772Z"
    }
   },
   "id": "4ac6c3598fce2e01",
   "execution_count": 12
  },
  {
   "cell_type": "code",
   "outputs": [
    {
     "data": {
      "text/plain": "                                                 request  \\\nid                                                         \n75157  Japanese Self-Instruction. I would love to lea...   \n75158  Japanese Self-Instruction. I would love to lea...   \n82545  Books on Thomas Jefferson. I'm starting a Jeff...   \n82546  Books on Thomas Jefferson. I'm starting a Jeff...   \n\n                                                group      types  \\\nid                                                                 \n75157                     Asian Fiction & Non-Fiction  [subject]   \n75158                                Japanese Culture  [subject]   \n82545  American Revolution & Founding Fathers History  [subject]   \n82546                                    History Fans  [subject]   \n\n                        genres specificity  \\\nid                                           \n75157  [education linguistics]      narrow   \n75158  [education linguistics]      narrow   \n82545      [history biography]      narrow   \n82546      [history biography]      narrow   \n\n                                            similar_isbn similar_author  \\\nid                                                                        \n75157                                                 []             []   \n75158                                                 []             []   \n82545  [0743508084, 0819157821, 0813910781, 081391365...             []   \n82546  [0743508084, 0819157821, 0813910781, 081391365...             []   \n\n      dissimilar_isbn dissimilar_author  \nid                                       \n75157              []                []  \n75158              []                []  \n82545              []                []  \n82546              []                []  ",
      "text/html": "<div>\n<style scoped>\n    .dataframe tbody tr th:only-of-type {\n        vertical-align: middle;\n    }\n\n    .dataframe tbody tr th {\n        vertical-align: top;\n    }\n\n    .dataframe thead th {\n        text-align: right;\n    }\n</style>\n<table border=\"1\" class=\"dataframe\">\n  <thead>\n    <tr style=\"text-align: right;\">\n      <th></th>\n      <th>request</th>\n      <th>group</th>\n      <th>types</th>\n      <th>genres</th>\n      <th>specificity</th>\n      <th>similar_isbn</th>\n      <th>similar_author</th>\n      <th>dissimilar_isbn</th>\n      <th>dissimilar_author</th>\n    </tr>\n    <tr>\n      <th>id</th>\n      <th></th>\n      <th></th>\n      <th></th>\n      <th></th>\n      <th></th>\n      <th></th>\n      <th></th>\n      <th></th>\n      <th></th>\n    </tr>\n  </thead>\n  <tbody>\n    <tr>\n      <th>75157</th>\n      <td>Japanese Self-Instruction. I would love to lea...</td>\n      <td>Asian Fiction &amp; Non-Fiction</td>\n      <td>[subject]</td>\n      <td>[education linguistics]</td>\n      <td>narrow</td>\n      <td>[]</td>\n      <td>[]</td>\n      <td>[]</td>\n      <td>[]</td>\n    </tr>\n    <tr>\n      <th>75158</th>\n      <td>Japanese Self-Instruction. I would love to lea...</td>\n      <td>Japanese Culture</td>\n      <td>[subject]</td>\n      <td>[education linguistics]</td>\n      <td>narrow</td>\n      <td>[]</td>\n      <td>[]</td>\n      <td>[]</td>\n      <td>[]</td>\n    </tr>\n    <tr>\n      <th>82545</th>\n      <td>Books on Thomas Jefferson. I'm starting a Jeff...</td>\n      <td>American Revolution &amp; Founding Fathers History</td>\n      <td>[subject]</td>\n      <td>[history biography]</td>\n      <td>narrow</td>\n      <td>[0743508084, 0819157821, 0813910781, 081391365...</td>\n      <td>[]</td>\n      <td>[]</td>\n      <td>[]</td>\n    </tr>\n    <tr>\n      <th>82546</th>\n      <td>Books on Thomas Jefferson. I'm starting a Jeff...</td>\n      <td>History Fans</td>\n      <td>[subject]</td>\n      <td>[history biography]</td>\n      <td>narrow</td>\n      <td>[0743508084, 0819157821, 0813910781, 081391365...</td>\n      <td>[]</td>\n      <td>[]</td>\n      <td>[]</td>\n    </tr>\n  </tbody>\n</table>\n</div>"
     },
     "execution_count": 14,
     "metadata": {},
     "output_type": "execute_result"
    }
   ],
   "source": [
    "requests_df[requests_df.duplicated('request', keep=False)]"
   ],
   "metadata": {
    "collapsed": false,
    "ExecuteTime": {
     "end_time": "2024-07-17T21:15:16.432957Z",
     "start_time": "2024-07-17T21:15:16.424201Z"
    }
   },
   "id": "9f125450f7f93211",
   "execution_count": 14
  },
  {
   "cell_type": "code",
   "outputs": [],
   "source": [],
   "metadata": {
    "collapsed": false
   },
   "id": "b98fb78e2979f009"
  }
 ],
 "metadata": {
  "kernelspec": {
   "display_name": "Python 3",
   "language": "python",
   "name": "python3"
  },
  "language_info": {
   "codemirror_mode": {
    "name": "ipython",
    "version": 2
   },
   "file_extension": ".py",
   "mimetype": "text/x-python",
   "name": "python",
   "nbconvert_exporter": "python",
   "pygments_lexer": "ipython2",
   "version": "2.7.6"
  }
 },
 "nbformat": 4,
 "nbformat_minor": 5
}
