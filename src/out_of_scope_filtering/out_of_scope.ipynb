{
 "cells": [
  {
   "metadata": {
    "ExecuteTime": {
     "end_time": "2024-08-06T20:08:42.112303Z",
     "start_time": "2024-08-06T20:08:31.298541Z"
    }
   },
   "cell_type": "code",
   "source": [
    "import os.path\n",
    "\n",
    "import pandas as pd\n",
    "\n",
    "from config.config import *\n",
    "from request_filtering import *"
   ],
   "id": "a740c99302d7f22e",
   "outputs": [
    {
     "name": "stderr",
     "output_type": "stream",
     "text": [
      "/Users/arina/GitProjects/amazon_corpus_documents_retrieval/.venv/lib/python3.9/site-packages/sentence_transformers/cross_encoder/CrossEncoder.py:11: TqdmExperimentalWarning: Using `tqdm.autonotebook.tqdm` in notebook mode. Use `tqdm.tqdm` instead to force console mode (e.g. in jupyter console)\n",
      "  from tqdm.autonotebook import tqdm, trange\n",
      "/Users/arina/GitProjects/amazon_corpus_documents_retrieval/.venv/lib/python3.9/site-packages/urllib3/__init__.py:35: NotOpenSSLWarning: urllib3 v2 only supports OpenSSL 1.1.1+, currently the 'ssl' module is compiled with 'LibreSSL 2.8.3'. See: https://github.com/urllib3/urllib3/issues/3020\n",
      "  warnings.warn(\n"
     ]
    },
    {
     "data": {
      "text/plain": [
       "modules.json:   0%|          | 0.00/229 [00:00<?, ?B/s]"
      ],
      "application/vnd.jupyter.widget-view+json": {
       "version_major": 2,
       "version_minor": 0,
       "model_id": "ffe833569d344957a726eb5c99a38d4f"
      }
     },
     "metadata": {},
     "output_type": "display_data"
    },
    {
     "data": {
      "text/plain": [
       "config_sentence_transformers.json:   0%|          | 0.00/122 [00:00<?, ?B/s]"
      ],
      "application/vnd.jupyter.widget-view+json": {
       "version_major": 2,
       "version_minor": 0,
       "model_id": "1e92468f9611450da6a8e174b28a5cc1"
      }
     },
     "metadata": {},
     "output_type": "display_data"
    },
    {
     "data": {
      "text/plain": [
       "README.md:   0%|          | 0.00/3.73k [00:00<?, ?B/s]"
      ],
      "application/vnd.jupyter.widget-view+json": {
       "version_major": 2,
       "version_minor": 0,
       "model_id": "d84a7fa7dcb0471b8250becb3480f083"
      }
     },
     "metadata": {},
     "output_type": "display_data"
    },
    {
     "data": {
      "text/plain": [
       "sentence_bert_config.json:   0%|          | 0.00/53.0 [00:00<?, ?B/s]"
      ],
      "application/vnd.jupyter.widget-view+json": {
       "version_major": 2,
       "version_minor": 0,
       "model_id": "d40e9e6bf4fd4e06834fa987bbd48316"
      }
     },
     "metadata": {},
     "output_type": "display_data"
    },
    {
     "name": "stderr",
     "output_type": "stream",
     "text": [
      "/Users/arina/GitProjects/amazon_corpus_documents_retrieval/.venv/lib/python3.9/site-packages/huggingface_hub/file_download.py:1132: FutureWarning: `resume_download` is deprecated and will be removed in version 1.0.0. Downloads always resume when possible. If you want to force a new download, use `force_download=True`.\n",
      "  warnings.warn(\n"
     ]
    },
    {
     "data": {
      "text/plain": [
       "config.json:   0%|          | 0.00/629 [00:00<?, ?B/s]"
      ],
      "application/vnd.jupyter.widget-view+json": {
       "version_major": 2,
       "version_minor": 0,
       "model_id": "7bb098ab9d0d41b78e42d558d20a8ac1"
      }
     },
     "metadata": {},
     "output_type": "display_data"
    },
    {
     "data": {
      "text/plain": [
       "model.safetensors:   0%|          | 0.00/90.9M [00:00<?, ?B/s]"
      ],
      "application/vnd.jupyter.widget-view+json": {
       "version_major": 2,
       "version_minor": 0,
       "model_id": "216311c91f4943afa1410acad2bd09ae"
      }
     },
     "metadata": {},
     "output_type": "display_data"
    },
    {
     "data": {
      "text/plain": [
       "tokenizer_config.json:   0%|          | 0.00/314 [00:00<?, ?B/s]"
      ],
      "application/vnd.jupyter.widget-view+json": {
       "version_major": 2,
       "version_minor": 0,
       "model_id": "71d7fba7f1784268a4e08a783ae678d6"
      }
     },
     "metadata": {},
     "output_type": "display_data"
    },
    {
     "data": {
      "text/plain": [
       "vocab.txt:   0%|          | 0.00/232k [00:00<?, ?B/s]"
      ],
      "application/vnd.jupyter.widget-view+json": {
       "version_major": 2,
       "version_minor": 0,
       "model_id": "8af73d9378c84c90bffc32bab2f6e5ce"
      }
     },
     "metadata": {},
     "output_type": "display_data"
    },
    {
     "data": {
      "text/plain": [
       "tokenizer.json:   0%|          | 0.00/466k [00:00<?, ?B/s]"
      ],
      "application/vnd.jupyter.widget-view+json": {
       "version_major": 2,
       "version_minor": 0,
       "model_id": "36302bfa671644e69fcbebad3615bf11"
      }
     },
     "metadata": {},
     "output_type": "display_data"
    },
    {
     "data": {
      "text/plain": [
       "special_tokens_map.json:   0%|          | 0.00/112 [00:00<?, ?B/s]"
      ],
      "application/vnd.jupyter.widget-view+json": {
       "version_major": 2,
       "version_minor": 0,
       "model_id": "d0feb67c006a4285a65d1eb33c69020c"
      }
     },
     "metadata": {},
     "output_type": "display_data"
    },
    {
     "data": {
      "text/plain": [
       "1_Pooling/config.json:   0%|          | 0.00/190 [00:00<?, ?B/s]"
      ],
      "application/vnd.jupyter.widget-view+json": {
       "version_major": 2,
       "version_minor": 0,
       "model_id": "f8f1bb00419741babc4bc89981142e9d"
      }
     },
     "metadata": {},
     "output_type": "display_data"
    }
   ],
   "execution_count": 1
  },
  {
   "metadata": {
    "ExecuteTime": {
     "end_time": "2024-08-06T20:10:33.266350Z",
     "start_time": "2024-08-06T20:10:33.261472Z"
    }
   },
   "cell_type": "code",
   "source": "requests_df = pd.read_pickle(os.path.join(OBTAINED_DATA, 'requests2011.pkl'))",
   "id": "61d38dd2d67eb74c",
   "outputs": [],
   "execution_count": 5
  },
  {
   "metadata": {
    "ExecuteTime": {
     "end_time": "2024-08-06T20:10:37.144628Z",
     "start_time": "2024-08-06T20:10:37.129793Z"
    }
   },
   "cell_type": "code",
   "source": "requests_df",
   "id": "89b9b10e3385a9b9",
   "outputs": [
    {
     "data": {
      "text/plain": [
       "                                                  request  \\\n",
       "id                                                          \n",
       "74      Los Angeles Loves Librarything Message Board. ...   \n",
       "399     Cakes. For all Cake related posts! Favorite ca...   \n",
       "530     From a historical scholarly perspective, \"Why ...   \n",
       "812     Schumann Biography. Does anyone have a recomme...   \n",
       "1116    Which LISP? It'll be time for me to shake thin...   \n",
       "...                                                   ...   \n",
       "111449  Best U. S. Grant Biography. There seem to be z...   \n",
       "111474  New Perspective on Paul. Anybody studied the “...   \n",
       "112606  Current Ancient Greece synthesis? I'm just fin...   \n",
       "113507  Man changing into a martian. I know about the ...   \n",
       "113543  YA/Child - a book about a girl and her mum who...   \n",
       "\n",
       "                                           group         types  \\\n",
       "id                                                               \n",
       "74                Los Angeles Loves Librarything     [subject]   \n",
       "399                                Sweet Treats!     [subject]   \n",
       "530                             Biblical History     [subject]   \n",
       "812       Music History, Performance, and Theory     [subject]   \n",
       "1116                          Purely Programmers     [subject]   \n",
       "...                                          ...           ...   \n",
       "111449  Biographies, Memoirs and Autobiographies     [subject]   \n",
       "111474                              Christianity     [subject]   \n",
       "112606                           Ancient History     [subject]   \n",
       "113507                      Science Fiction Fans  [known-item]   \n",
       "113543                            Name that Book  [known-item]   \n",
       "\n",
       "                                                   genres specificity  \\\n",
       "id                                                                      \n",
       "74                                    [literature, prose]       broad   \n",
       "399                 [technology, home economics, cooking]      narrow   \n",
       "530                                             [history]      narrow   \n",
       "812                                           [biography]      narrow   \n",
       "1116    [science, mathematics, computer science, progr...      narrow   \n",
       "...                                                   ...         ...   \n",
       "111449                                        [biography]      narrow   \n",
       "111474                           [religion, christianity]      narrow   \n",
       "112606                                          [history]      narrow   \n",
       "113507               [literature, prose, science fiction]      narrow   \n",
       "113543                             [literature, children]      narrow   \n",
       "\n",
       "                                            similar_isbn  \\\n",
       "id                                                         \n",
       "74                                                    []   \n",
       "399                                                   []   \n",
       "530                                                   []   \n",
       "812                                                   []   \n",
       "1116                                                  []   \n",
       "...                                                  ...   \n",
       "111449                                                []   \n",
       "111474  [1581349645, 1589580958, 0880281812, 1596445033]   \n",
       "112606                          [0198721943, 0415046181]   \n",
       "113507                                                []   \n",
       "113543                                                []   \n",
       "\n",
       "                                 similar_author dissimilar_isbn  \\\n",
       "id                                                                \n",
       "74                                           []              []   \n",
       "399                                          []              []   \n",
       "530                                          []              []   \n",
       "812                                          []              []   \n",
       "1116                                         []              []   \n",
       "...                                         ...             ...   \n",
       "111449                                       []              []   \n",
       "111474  [blake ostler, john piper, n.t. wright]              []   \n",
       "112606                                       []              []   \n",
       "113507                                       []              []   \n",
       "113543                                       []              []   \n",
       "\n",
       "       dissimilar_author  \n",
       "id                        \n",
       "74                    []  \n",
       "399                   []  \n",
       "530                   []  \n",
       "812                   []  \n",
       "1116                  []  \n",
       "...                  ...  \n",
       "111449                []  \n",
       "111474                []  \n",
       "112606                []  \n",
       "113507                []  \n",
       "113543                []  \n",
       "\n",
       "[211 rows x 9 columns]"
      ],
      "text/html": [
       "<div>\n",
       "<style scoped>\n",
       "    .dataframe tbody tr th:only-of-type {\n",
       "        vertical-align: middle;\n",
       "    }\n",
       "\n",
       "    .dataframe tbody tr th {\n",
       "        vertical-align: top;\n",
       "    }\n",
       "\n",
       "    .dataframe thead th {\n",
       "        text-align: right;\n",
       "    }\n",
       "</style>\n",
       "<table border=\"1\" class=\"dataframe\">\n",
       "  <thead>\n",
       "    <tr style=\"text-align: right;\">\n",
       "      <th></th>\n",
       "      <th>request</th>\n",
       "      <th>group</th>\n",
       "      <th>types</th>\n",
       "      <th>genres</th>\n",
       "      <th>specificity</th>\n",
       "      <th>similar_isbn</th>\n",
       "      <th>similar_author</th>\n",
       "      <th>dissimilar_isbn</th>\n",
       "      <th>dissimilar_author</th>\n",
       "    </tr>\n",
       "    <tr>\n",
       "      <th>id</th>\n",
       "      <th></th>\n",
       "      <th></th>\n",
       "      <th></th>\n",
       "      <th></th>\n",
       "      <th></th>\n",
       "      <th></th>\n",
       "      <th></th>\n",
       "      <th></th>\n",
       "      <th></th>\n",
       "    </tr>\n",
       "  </thead>\n",
       "  <tbody>\n",
       "    <tr>\n",
       "      <th>74</th>\n",
       "      <td>Los Angeles Loves Librarything Message Board. ...</td>\n",
       "      <td>Los Angeles Loves Librarything</td>\n",
       "      <td>[subject]</td>\n",
       "      <td>[literature, prose]</td>\n",
       "      <td>broad</td>\n",
       "      <td>[]</td>\n",
       "      <td>[]</td>\n",
       "      <td>[]</td>\n",
       "      <td>[]</td>\n",
       "    </tr>\n",
       "    <tr>\n",
       "      <th>399</th>\n",
       "      <td>Cakes. For all Cake related posts! Favorite ca...</td>\n",
       "      <td>Sweet Treats!</td>\n",
       "      <td>[subject]</td>\n",
       "      <td>[technology, home economics, cooking]</td>\n",
       "      <td>narrow</td>\n",
       "      <td>[]</td>\n",
       "      <td>[]</td>\n",
       "      <td>[]</td>\n",
       "      <td>[]</td>\n",
       "    </tr>\n",
       "    <tr>\n",
       "      <th>530</th>\n",
       "      <td>From a historical scholarly perspective, \"Why ...</td>\n",
       "      <td>Biblical History</td>\n",
       "      <td>[subject]</td>\n",
       "      <td>[history]</td>\n",
       "      <td>narrow</td>\n",
       "      <td>[]</td>\n",
       "      <td>[]</td>\n",
       "      <td>[]</td>\n",
       "      <td>[]</td>\n",
       "    </tr>\n",
       "    <tr>\n",
       "      <th>812</th>\n",
       "      <td>Schumann Biography. Does anyone have a recomme...</td>\n",
       "      <td>Music History, Performance, and Theory</td>\n",
       "      <td>[subject]</td>\n",
       "      <td>[biography]</td>\n",
       "      <td>narrow</td>\n",
       "      <td>[]</td>\n",
       "      <td>[]</td>\n",
       "      <td>[]</td>\n",
       "      <td>[]</td>\n",
       "    </tr>\n",
       "    <tr>\n",
       "      <th>1116</th>\n",
       "      <td>Which LISP? It'll be time for me to shake thin...</td>\n",
       "      <td>Purely Programmers</td>\n",
       "      <td>[subject]</td>\n",
       "      <td>[science, mathematics, computer science, progr...</td>\n",
       "      <td>narrow</td>\n",
       "      <td>[]</td>\n",
       "      <td>[]</td>\n",
       "      <td>[]</td>\n",
       "      <td>[]</td>\n",
       "    </tr>\n",
       "    <tr>\n",
       "      <th>...</th>\n",
       "      <td>...</td>\n",
       "      <td>...</td>\n",
       "      <td>...</td>\n",
       "      <td>...</td>\n",
       "      <td>...</td>\n",
       "      <td>...</td>\n",
       "      <td>...</td>\n",
       "      <td>...</td>\n",
       "      <td>...</td>\n",
       "    </tr>\n",
       "    <tr>\n",
       "      <th>111449</th>\n",
       "      <td>Best U. S. Grant Biography. There seem to be z...</td>\n",
       "      <td>Biographies, Memoirs and Autobiographies</td>\n",
       "      <td>[subject]</td>\n",
       "      <td>[biography]</td>\n",
       "      <td>narrow</td>\n",
       "      <td>[]</td>\n",
       "      <td>[]</td>\n",
       "      <td>[]</td>\n",
       "      <td>[]</td>\n",
       "    </tr>\n",
       "    <tr>\n",
       "      <th>111474</th>\n",
       "      <td>New Perspective on Paul. Anybody studied the “...</td>\n",
       "      <td>Christianity</td>\n",
       "      <td>[subject]</td>\n",
       "      <td>[religion, christianity]</td>\n",
       "      <td>narrow</td>\n",
       "      <td>[1581349645, 1589580958, 0880281812, 1596445033]</td>\n",
       "      <td>[blake ostler, john piper, n.t. wright]</td>\n",
       "      <td>[]</td>\n",
       "      <td>[]</td>\n",
       "    </tr>\n",
       "    <tr>\n",
       "      <th>112606</th>\n",
       "      <td>Current Ancient Greece synthesis? I'm just fin...</td>\n",
       "      <td>Ancient History</td>\n",
       "      <td>[subject]</td>\n",
       "      <td>[history]</td>\n",
       "      <td>narrow</td>\n",
       "      <td>[0198721943, 0415046181]</td>\n",
       "      <td>[]</td>\n",
       "      <td>[]</td>\n",
       "      <td>[]</td>\n",
       "    </tr>\n",
       "    <tr>\n",
       "      <th>113507</th>\n",
       "      <td>Man changing into a martian. I know about the ...</td>\n",
       "      <td>Science Fiction Fans</td>\n",
       "      <td>[known-item]</td>\n",
       "      <td>[literature, prose, science fiction]</td>\n",
       "      <td>narrow</td>\n",
       "      <td>[]</td>\n",
       "      <td>[]</td>\n",
       "      <td>[]</td>\n",
       "      <td>[]</td>\n",
       "    </tr>\n",
       "    <tr>\n",
       "      <th>113543</th>\n",
       "      <td>YA/Child - a book about a girl and her mum who...</td>\n",
       "      <td>Name that Book</td>\n",
       "      <td>[known-item]</td>\n",
       "      <td>[literature, children]</td>\n",
       "      <td>narrow</td>\n",
       "      <td>[]</td>\n",
       "      <td>[]</td>\n",
       "      <td>[]</td>\n",
       "      <td>[]</td>\n",
       "    </tr>\n",
       "  </tbody>\n",
       "</table>\n",
       "<p>211 rows × 9 columns</p>\n",
       "</div>"
      ]
     },
     "execution_count": 6,
     "metadata": {},
     "output_type": "execute_result"
    }
   ],
   "execution_count": 6
  },
  {
   "metadata": {
    "ExecuteTime": {
     "end_time": "2024-08-06T20:11:38.071589Z",
     "start_time": "2024-08-06T20:10:43.568285Z"
    }
   },
   "cell_type": "code",
   "source": "requests_df['filtered_request'] = requests_df['request'].apply(filter_sentences)\n",
   "id": "98443d65cd69782d",
   "outputs": [],
   "execution_count": 7
  },
  {
   "metadata": {
    "ExecuteTime": {
     "end_time": "2024-08-06T20:12:49.382073Z",
     "start_time": "2024-08-06T20:12:49.372850Z"
    }
   },
   "cell_type": "code",
   "source": "requests_df[['request', 'filtered_request']]",
   "id": "e41893a083a49216",
   "outputs": [
    {
     "data": {
      "text/plain": [
       "                                                  request  \\\n",
       "id                                                          \n",
       "74      Los Angeles Loves Librarything Message Board. ...   \n",
       "399     Cakes. For all Cake related posts! Favorite ca...   \n",
       "530     From a historical scholarly perspective, \"Why ...   \n",
       "812     Schumann Biography. Does anyone have a recomme...   \n",
       "1116    Which LISP? It'll be time for me to shake thin...   \n",
       "...                                                   ...   \n",
       "111449  Best U. S. Grant Biography. There seem to be z...   \n",
       "111474  New Perspective on Paul. Anybody studied the “...   \n",
       "112606  Current Ancient Greece synthesis? I'm just fin...   \n",
       "113507  Man changing into a martian. I know about the ...   \n",
       "113543  YA/Child - a book about a girl and her mum who...   \n",
       "\n",
       "                                         filtered_request  \n",
       "id                                                         \n",
       "74      Los Angeles Loves Librarything Message Board.....  \n",
       "399     Cakes.. For all Cake related posts!. Favorite ...  \n",
       "530     From a historical scholarly perspective, \"Why ...  \n",
       "812     Schumann Biography.. Does anyone have a recomm...  \n",
       "1116    Which LISP?. But I'm starting to lean toward L...  \n",
       "...                                                   ...  \n",
       "111449  Grant Biography.. There seem to be zillions of...  \n",
       "111474  New Perspective on Paul.. Anybody studied the ...  \n",
       "112606  Current Ancient Greece synthesis?. Evans 3 vol...  \n",
       "113507  Man changing into a martian.. A man is strande...  \n",
       "113543  YA/Child - a book about a girl and her mum who...  \n",
       "\n",
       "[211 rows x 2 columns]"
      ],
      "text/html": [
       "<div>\n",
       "<style scoped>\n",
       "    .dataframe tbody tr th:only-of-type {\n",
       "        vertical-align: middle;\n",
       "    }\n",
       "\n",
       "    .dataframe tbody tr th {\n",
       "        vertical-align: top;\n",
       "    }\n",
       "\n",
       "    .dataframe thead th {\n",
       "        text-align: right;\n",
       "    }\n",
       "</style>\n",
       "<table border=\"1\" class=\"dataframe\">\n",
       "  <thead>\n",
       "    <tr style=\"text-align: right;\">\n",
       "      <th></th>\n",
       "      <th>request</th>\n",
       "      <th>filtered_request</th>\n",
       "    </tr>\n",
       "    <tr>\n",
       "      <th>id</th>\n",
       "      <th></th>\n",
       "      <th></th>\n",
       "    </tr>\n",
       "  </thead>\n",
       "  <tbody>\n",
       "    <tr>\n",
       "      <th>74</th>\n",
       "      <td>Los Angeles Loves Librarything Message Board. ...</td>\n",
       "      <td>Los Angeles Loves Librarything Message Board.....</td>\n",
       "    </tr>\n",
       "    <tr>\n",
       "      <th>399</th>\n",
       "      <td>Cakes. For all Cake related posts! Favorite ca...</td>\n",
       "      <td>Cakes.. For all Cake related posts!. Favorite ...</td>\n",
       "    </tr>\n",
       "    <tr>\n",
       "      <th>530</th>\n",
       "      <td>From a historical scholarly perspective, \"Why ...</td>\n",
       "      <td>From a historical scholarly perspective, \"Why ...</td>\n",
       "    </tr>\n",
       "    <tr>\n",
       "      <th>812</th>\n",
       "      <td>Schumann Biography. Does anyone have a recomme...</td>\n",
       "      <td>Schumann Biography.. Does anyone have a recomm...</td>\n",
       "    </tr>\n",
       "    <tr>\n",
       "      <th>1116</th>\n",
       "      <td>Which LISP? It'll be time for me to shake thin...</td>\n",
       "      <td>Which LISP?. But I'm starting to lean toward L...</td>\n",
       "    </tr>\n",
       "    <tr>\n",
       "      <th>...</th>\n",
       "      <td>...</td>\n",
       "      <td>...</td>\n",
       "    </tr>\n",
       "    <tr>\n",
       "      <th>111449</th>\n",
       "      <td>Best U. S. Grant Biography. There seem to be z...</td>\n",
       "      <td>Grant Biography.. There seem to be zillions of...</td>\n",
       "    </tr>\n",
       "    <tr>\n",
       "      <th>111474</th>\n",
       "      <td>New Perspective on Paul. Anybody studied the “...</td>\n",
       "      <td>New Perspective on Paul.. Anybody studied the ...</td>\n",
       "    </tr>\n",
       "    <tr>\n",
       "      <th>112606</th>\n",
       "      <td>Current Ancient Greece synthesis? I'm just fin...</td>\n",
       "      <td>Current Ancient Greece synthesis?. Evans 3 vol...</td>\n",
       "    </tr>\n",
       "    <tr>\n",
       "      <th>113507</th>\n",
       "      <td>Man changing into a martian. I know about the ...</td>\n",
       "      <td>Man changing into a martian.. A man is strande...</td>\n",
       "    </tr>\n",
       "    <tr>\n",
       "      <th>113543</th>\n",
       "      <td>YA/Child - a book about a girl and her mum who...</td>\n",
       "      <td>YA/Child - a book about a girl and her mum who...</td>\n",
       "    </tr>\n",
       "  </tbody>\n",
       "</table>\n",
       "<p>211 rows × 2 columns</p>\n",
       "</div>"
      ]
     },
     "execution_count": 8,
     "metadata": {},
     "output_type": "execute_result"
    }
   ],
   "execution_count": 8
  },
  {
   "metadata": {},
   "cell_type": "code",
   "outputs": [],
   "execution_count": null,
   "source": "",
   "id": "94f1c35cb9dde33"
  }
 ],
 "metadata": {
  "kernelspec": {
   "display_name": "Python 3",
   "language": "python",
   "name": "python3"
  },
  "language_info": {
   "codemirror_mode": {
    "name": "ipython",
    "version": 2
   },
   "file_extension": ".py",
   "mimetype": "text/x-python",
   "name": "python",
   "nbconvert_exporter": "python",
   "pygments_lexer": "ipython2",
   "version": "2.7.6"
  }
 },
 "nbformat": 4,
 "nbformat_minor": 5
}
